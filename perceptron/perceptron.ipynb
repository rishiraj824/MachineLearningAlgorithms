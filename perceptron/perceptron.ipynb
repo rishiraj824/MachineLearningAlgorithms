{
 "cells": [
  {
   "cell_type": "markdown",
   "metadata": {},
   "source": [
    "### We will try to train a perceptron model in this example by creating data sets around two classes, scroll down to see the data set."
   ]
  },
  {
   "cell_type": "code",
   "execution_count": 8,
   "metadata": {},
   "outputs": [],
   "source": [
    "import pandas as pd\n",
    "import numpy as np\n",
    "import matplotlib.pyplot as plt\n",
    "from sklearn.linear_model import Ridge\n",
    "from sklearn.model_selection import train_test_split\n",
    "from sklearn.metrics import r2_score\n",
    "from sklearn.preprocessing import Normalizer\n",
    "\n",
    "import matplotlib.pyplot as plt"
   ]
  },
  {
   "cell_type": "code",
   "execution_count": 10,
   "metadata": {},
   "outputs": [],
   "source": [
    "mean_cluster_one = [0.5,0.5]\n",
    "mean_cluster_two = [-0.5,-0.5]\n",
    "\n",
    "cov = [[0.05,0],[0,0.05]]\n",
    "\n",
    "# getting random gaussian points from the computed mean and covariance\n",
    "cluster_one = np.random.multivariate_normal(mean_cluster_one, cov, (100,1))\n",
    "cluster_two = np.random.multivariate_normal(mean_cluster_two, cov, (100,1))"
   ]
  },
  {
   "cell_type": "code",
   "execution_count": 11,
   "metadata": {},
   "outputs": [
    {
     "data": {
      "image/png": "[encoded data removed]",
      "text/plain": [
       "<Figure size 432x288 with 1 Axes>"
      ]
     },
     "metadata": {
      "needs_background": "light"
     },
     "output_type": "display_data"
    },
    {
     "name": "stdout",
     "output_type": "stream",
     "text": [
      "(200, 2)\n",
      "(200, 1)\n",
      "(160, 2)\n",
      "(160, 1)\n"
     ]
    }
   ],
   "source": [
    "#showing scatter plot of clusters\n",
    "x_one, y_one = cluster_one.T\n",
    "x_two, y_two = cluster_two.T\n",
    "\n",
    "y_label_one = [1]*100\n",
    "y_label_two = [-1]*100\n",
    "\n",
    "plt.scatter(x_one,y_one,c='red')\n",
    "plt.scatter(x_two, y_two,c='blue')\n",
    "plt.show()\n",
    "\n",
    "#preparing data\n",
    "\n",
    "X=np.concatenate((cluster_one, cluster_two),axis=0).reshape(200,2)\n",
    "y=np.concatenate((y_label_one, y_label_two),axis=0).reshape(200,1)\n",
    "\n",
    "# sanity check\n",
    "print(X.shape)\n",
    "print(y.shape)\n",
    "\n",
    "# Dividing into test train split\n",
    "X_train, X_test, y_train, y_test = train_test_split(\n",
    "    X, y, test_size=0.20)\n",
    "\n",
    "print(X_train.shape)\n",
    "print(y_train.shape)"
   ]
  },
  {
   "cell_type": "code",
   "execution_count": 12,
   "metadata": {},
   "outputs": [],
   "source": [
    "class Perceptron:\n",
    "    def __init__(self, dimensions, alpha, epochs):\n",
    "        # intialize weights\n",
    "        self.w = np.zeros((dimensions, 1))\n",
    "        self.epochs = epochs # Iterations/epochs T\n",
    "        self.alpha = alpha\n",
    "        self.preds = np.matmul(X, self.w)\n",
    "\n",
    "    def model(self, x):\n",
    "        return [1] if (np.dot(self.w.T, np.reshape(x, newshape=(2,1)))[0][0] >= 0) else [-1]\n",
    "\n",
    "    def minimumLoss(self, preds, y):\n",
    "        cost = 0\n",
    "        for i, pred in enumerate(preds):\n",
    "            cost = cost + (pred[0] - y[i][0])**2\n",
    "\n",
    "        if cost == 0:\n",
    "            return True\n",
    "        else:\n",
    "            return False\n",
    "\n",
    "    def fit(self, X, Y):\n",
    "        epochForConverge = 0\n",
    "        for epoch in range(self.epochs):\n",
    "            predictions = []\n",
    "            epochForConverge += 1\n",
    "            # Predictions for every x_i\n",
    "            for x, y in zip(X, Y):\n",
    "                y_pred = self.model(x)\n",
    "                # add to prediction array\n",
    "                predictions.append(y_pred)\n",
    "                self.w = self.w + self.alpha * (y[0] - y_pred[0]) * np.reshape(x, newshape=(2,1))\n",
    "            \n",
    "            # save the epoch when there is no loss, i.e. all predictions are correct\n",
    "            if self.minimumLoss(predictions, Y) == True:\n",
    "                break\n",
    "          \n",
    "        return self.w, epochForConverge\n",
    "        \n",
    "    # Model prediction    \n",
    "    def predict(self, X):\n",
    "        Y = []\n",
    "        for x in X:\n",
    "            result = self.model(x)\n",
    "            Y.append(result)\n",
    "        return np.array(Y)"
   ]
  },
  {
   "cell_type": "markdown",
   "metadata": {},
   "source": [
    "### Fitting a model, printing the weights"
   ]
  },
  {
   "cell_type": "code",
   "execution_count": 13,
   "metadata": {},
   "outputs": [
    {
     "name": "stdout",
     "output_type": "stream",
     "text": [
      "[[0.4131506]\n",
      " [1.3338425]]\n",
      "No. of  epochs to to converge 2\n"
     ]
    }
   ],
   "source": [
    "clf = Perceptron(X_train.shape[1], 1, 100)\n",
    "weights, epochs = clf.fit(X_train, y_train)\n",
    "print(weights)\n",
    "print(\"No. of  epochs to to converge\", epochs)"
   ]
  },
  {
   "cell_type": "code",
   "execution_count": 14,
   "metadata": {},
   "outputs": [
    {
     "data": {
      "image/png": "[encoded data removed]",
      "text/plain": [
       "<Figure size 432x288 with 1 Axes>"
      ]
     },
     "metadata": {
      "needs_background": "light"
     },
     "output_type": "display_data"
    }
   ],
   "source": [
    "x_values = [np.max(cluster_one), np.min(cluster_two)]\n",
    "y_values_gd = - (np.dot(weights[0][0], x_values)) / weights[1][0]\n",
    "plt.plot(x_values, y_values_gd, c='pink')\n",
    "\n",
    "plt.scatter(x_one,y_one,c='red')\n",
    "plt.scatter(x_two, y_two,c='blue')\n",
    "plt.show()"
   ]
  },
  {
   "cell_type": "markdown",
   "metadata": {},
   "source": [
    "### What if we increase the variance of our data?"
   ]
  },
  {
   "cell_type": "code",
   "execution_count": 15,
   "metadata": {},
   "outputs": [],
   "source": [
    "mean_cluster_one = [0.5,0.5]\n",
    "mean_cluster_two = [-0.5,-0.5]\n",
    "\n",
    "cov_new = [[0.1,0],[0,0.1]]\n",
    "\n",
    "# getting random gaussian points from the computed mean and covariance\n",
    "cluster_one_new = np.random.multivariate_normal(mean_cluster_one, cov_new, (100,1))\n",
    "cluster_two_new = np.random.multivariate_normal(mean_cluster_two, cov_new, (100,1))"
   ]
  },
  {
   "cell_type": "code",
   "execution_count": 16,
   "metadata": {},
   "outputs": [
    {
     "data": {
      "image/png": "[encoded data removed]",
      "text/plain": [
       "<Figure size 432x288 with 1 Axes>"
      ]
     },
     "metadata": {
      "needs_background": "light"
     },
     "output_type": "display_data"
    },
    {
     "name": "stdout",
     "output_type": "stream",
     "text": [
      "(200, 2)\n",
      "(200, 1)\n",
      "(160, 2)\n",
      "(160, 1)\n"
     ]
    }
   ],
   "source": [
    "#showing scatter plot of the new clusters\n",
    "x_one_new, y_one_new = cluster_one_new.T\n",
    "x_two_new, y_two_new = cluster_two_new.T\n",
    "\n",
    "y_label_one_new = [1]*100\n",
    "y_label_two_new = [-1]*100\n",
    "\n",
    "plt.scatter(x_one_new, y_one_new,c='red')\n",
    "plt.scatter(x_two_new, y_two_new,c='blue')\n",
    "plt.show()\n",
    "\n",
    "#preparing data\n",
    "\n",
    "X_new=np.concatenate((cluster_one_new, cluster_two_new),axis=0).reshape(200,2)\n",
    "y_new=np.concatenate((y_label_one_new, y_label_two_new),axis=0).reshape(200,1)\n",
    "\n",
    "# sanity check\n",
    "print(X_new.shape)\n",
    "print(y_new.shape)\n",
    "\n",
    "# Dividing into test train split\n",
    "X_train_new, X_test_new, y_train_new, y_test_new = train_test_split(\n",
    "    X_new, y_new, test_size=0.20)\n",
    "\n",
    "print(X_train_new.shape)\n",
    "print(y_train_new.shape)"
   ]
  },
  {
   "cell_type": "markdown",
   "metadata": {},
   "source": [
    "### Data is not that easy to separate linearly!!"
   ]
  },
  {
   "cell_type": "markdown",
   "metadata": {},
   "source": [
    "#### Let's check the iterations it took to converge"
   ]
  },
  {
   "cell_type": "code",
   "execution_count": 18,
   "metadata": {},
   "outputs": [
    {
     "name": "stdout",
     "output_type": "stream",
     "text": [
      "No. of  epochs to to converge 100\n",
      "[[1.45186123]\n",
      " [1.1625552 ]]\n"
     ]
    }
   ],
   "source": [
    "clf_new = Perceptron(X_train_new.shape[1], 1, 100)\n",
    "weights_new, epochs_new = clf_new.fit(X_train_new, y_train_new)\n",
    "predictions_new = clf_new.predict(X_test_new)\n",
    "\n",
    "print(\"No. of  epochs to to converge\", epochs_new)\n",
    "\n",
    "print(weights_new)"
   ]
  },
  {
   "cell_type": "markdown",
   "metadata": {},
   "source": [
    "### All 100 iterations, hmm!!"
   ]
  },
  {
   "cell_type": "code",
   "execution_count": 19,
   "metadata": {},
   "outputs": [
    {
     "data": {
      "image/png": "[encoded data removed]",
      "text/plain": [
       "<Figure size 432x288 with 1 Axes>"
      ]
     },
     "metadata": {
      "needs_background": "light"
     },
     "output_type": "display_data"
    }
   ],
   "source": [
    "x_values_new = [np.max(cluster_one_new), np.min(cluster_two_new)]\n",
    "y_values_new = - (np.dot(weights_new[0][0], x_values_new)) / weights_new[1][0]\n",
    "plt.plot(x_values_new, y_values_new, c='pink')\n",
    "\n",
    "plt.scatter(x_one_new, y_one_new,c='red')\n",
    "plt.scatter(x_two_new, y_two_new,c='blue')\n",
    "plt.show()"
   ]
  },
  {
   "cell_type": "markdown",
   "metadata": {},
   "source": [
    "### We do have misclassifications."
   ]
  },
  {
   "cell_type": "markdown",
   "metadata": {},
   "source": [
    "Conclusion, \n",
    "\n",
    "If we don't stop our algorithm perceptron will never converge and it will try to give us the correct line equation by trying \n",
    "to separate all data points correctly. Hence we either make use of a combination of perceptrons or make our datasets linearly separable. This way we can use perceptron to resolve this. Interesting right? How would you classify a binary dataset of two variables using their XOR values as prediction labels? Can you use the perceptron?"
   ]
  }
 ],
 "metadata": {
  "kernelspec": {
   "display_name": "Python 3",
   "language": "python",
   "name": "python3"
  },
  "language_info": {
   "codemirror_mode": {
    "name": "ipython",
    "version": 3
   },
   "file_extension": ".py",
   "mimetype": "text/x-python",
   "name": "python",
   "nbconvert_exporter": "python",
   "pygments_lexer": "ipython3",
   "version": "3.7.4"
  }
 },
 "nbformat": 4,
 "nbformat_minor": 1
}
