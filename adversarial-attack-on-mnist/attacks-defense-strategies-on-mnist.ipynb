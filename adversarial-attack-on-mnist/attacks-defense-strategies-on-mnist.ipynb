{
  "nbformat": 4,
  "nbformat_minor": 0,
  "metadata": {
    "colab": {
      "name": "Assignment-2.ipynb",
      "provenance": [],
      "collapsed_sections": []
    },
    "kernelspec": {
      "display_name": "Python 3",
      "name": "python3"
    }
  },
  "cells": [
    {
      "cell_type": "code",
      "metadata": {
        "id": "k8UrC8l8bpUx"
      },
      "source": [
        "import tensorflow as tf\n",
        "\n",
        "import numpy as np"
      ],
      "execution_count": 190,
      "outputs": []
    },
    {
      "cell_type": "markdown",
      "metadata": {
        "id": "A9MiJXS9zpyK"
      },
      "source": [
        "Loading and preparing the [MNIST dataset](http://yann.lecun.com/exdb/mnist/). Converting the samples from integers to floating-point numbers:"
      ]
    },
    {
      "cell_type": "code",
      "metadata": {
        "id": "Dzf1PsiGzOyq"
      },
      "source": [
        "mnist = tf.keras.datasets.mnist\n",
        "\n",
        "(x_train, y_train), (x_test, y_test) = mnist.load_data()\n",
        "x_train, x_test = x_train / 255.0, x_test / 255.0"
      ],
      "execution_count": 191,
      "outputs": []
    },
    {
      "cell_type": "markdown",
      "metadata": {
        "id": "IEAjTvdjzxRx"
      },
      "source": [
        "Building the `tf.keras.Sequential` model by stacking layers."
      ]
    },
    {
      "cell_type": "code",
      "metadata": {
        "id": "QcJApcI2zz4y"
      },
      "source": [
        "model = tf.keras.models.Sequential([\n",
        "  tf.keras.layers.Flatten(input_shape=(28, 28)),\n",
        "  tf.keras.layers.Dense(128, activation='relu'),\n",
        "  tf.keras.layers.Dropout(0.2),\n",
        "  tf.keras.layers.Dense(10)\n",
        "])"
      ],
      "execution_count": 192,
      "outputs": []
    },
    {
      "cell_type": "code",
      "metadata": {
        "id": "2PRKSi3Dz2uh",
        "colab": {
          "base_uri": "https://localhost:8080/"
        },
        "outputId": "00813fe1-f1de-4e83-b669-c005b8dbfc54"
      },
      "source": [
        "predictions = model(x_train[:1]).numpy()\n",
        "predictions"
      ],
      "execution_count": 193,
      "outputs": [
        {
          "output_type": "execute_result",
          "data": {
            "text/plain": [
              "array([[-0.32124674,  0.30143908,  0.04246761, -0.42036968, -0.34151337,\n",
              "        -0.40173784, -0.06959916, -0.4201354 , -0.25619662,  0.6053867 ]],\n",
              "      dtype=float32)"
            ]
          },
          "metadata": {
            "tags": []
          },
          "execution_count": 193
        }
      ]
    },
    {
      "cell_type": "code",
      "metadata": {
        "id": "t6CfN9XA0BEC",
        "colab": {
          "base_uri": "https://localhost:8080/"
        },
        "outputId": "24708b5d-f65d-4d79-d995-26399c58a04f"
      },
      "source": [
        "tf.nn.softmax(predictions).numpy()"
      ],
      "execution_count": 194,
      "outputs": [
        {
          "output_type": "execute_result",
          "data": {
            "text/plain": [
              "array([[0.07754335, 0.14453518, 0.11155876, 0.07022569, 0.07598763,\n",
              "        0.07154639, 0.09973181, 0.07024214, 0.08275524, 0.1958738 ]],\n",
              "      dtype=float32)"
            ]
          },
          "metadata": {
            "tags": []
          },
          "execution_count": 194
        }
      ]
    },
    {
      "cell_type": "code",
      "metadata": {
        "id": "XOTv47qh0DiJ"
      },
      "source": [
        "loss_fn = tf.keras.losses.SparseCategoricalCrossentropy(from_logits=True)"
      ],
      "execution_count": 195,
      "outputs": []
    },
    {
      "cell_type": "code",
      "metadata": {
        "id": "ZseIiRkq0F5e",
        "colab": {
          "base_uri": "https://localhost:8080/"
        },
        "outputId": "3f752746-ce5f-4d97-c21a-e3f249d891c5"
      },
      "source": [
        "loss_fn(y_train[:1], predictions).numpy()"
      ],
      "execution_count": 196,
      "outputs": [
        {
          "output_type": "execute_result",
          "data": {
            "text/plain": [
              "2.6374092"
            ]
          },
          "metadata": {
            "tags": []
          },
          "execution_count": 196
        }
      ]
    },
    {
      "cell_type": "code",
      "metadata": {
        "id": "QM8PuVxw0K2-"
      },
      "source": [
        "model.compile(optimizer='adam',\n",
        "              loss=loss_fn,\n",
        "              metrics=['accuracy'])"
      ],
      "execution_count": 197,
      "outputs": []
    },
    {
      "cell_type": "code",
      "metadata": {
        "id": "30jbqzC00M7M",
        "colab": {
          "base_uri": "https://localhost:8080/"
        },
        "outputId": "dc4e78e6-4a35-42ec-a41a-745f76bb8bb8"
      },
      "source": [
        "model.fit(x_train, y_train, epochs=5)"
      ],
      "execution_count": 198,
      "outputs": [
        {
          "output_type": "stream",
          "text": [
            "Epoch 1/5\n",
            "1875/1875 [==============================] - 3s 2ms/step - loss: 0.2983 - accuracy: 0.9128\n",
            "Epoch 2/5\n",
            "1875/1875 [==============================] - 3s 2ms/step - loss: 0.1392 - accuracy: 0.9585\n",
            "Epoch 3/5\n",
            "1875/1875 [==============================] - 3s 2ms/step - loss: 0.1052 - accuracy: 0.9679\n",
            "Epoch 4/5\n",
            "1875/1875 [==============================] - 3s 2ms/step - loss: 0.0862 - accuracy: 0.9732\n",
            "Epoch 5/5\n",
            "1875/1875 [==============================] - 3s 2ms/step - loss: 0.0756 - accuracy: 0.9764\n"
          ],
          "name": "stdout"
        },
        {
          "output_type": "execute_result",
          "data": {
            "text/plain": [
              "<tensorflow.python.keras.callbacks.History at 0x7f2557defcc0>"
            ]
          },
          "metadata": {
            "tags": []
          },
          "execution_count": 198
        }
      ]
    },
    {
      "cell_type": "code",
      "metadata": {
        "id": "p7Vesw3W0Q8R",
        "colab": {
          "base_uri": "https://localhost:8080/"
        },
        "outputId": "d4184357-9688-42e7-b694-e7fcde9f7caf"
      },
      "source": [
        "model.evaluate(x_test,  y_test, verbose=2)"
      ],
      "execution_count": 199,
      "outputs": [
        {
          "output_type": "stream",
          "text": [
            "313/313 - 0s - loss: 0.0753 - accuracy: 0.9761\n"
          ],
          "name": "stdout"
        },
        {
          "output_type": "execute_result",
          "data": {
            "text/plain": [
              "[0.07533738017082214, 0.9761000275611877]"
            ]
          },
          "metadata": {
            "tags": []
          },
          "execution_count": 199
        }
      ]
    },
    {
      "cell_type": "code",
      "metadata": {
        "id": "bk5_UHst0Tk-"
      },
      "source": [
        "probability_model = tf.keras.Sequential([\n",
        "  model,\n",
        "  tf.keras.layers.Softmax()\n",
        "])"
      ],
      "execution_count": 200,
      "outputs": []
    },
    {
      "cell_type": "markdown",
      "metadata": {
        "id": "3W0LZLzru0D8"
      },
      "source": [
        "### Generic function to get the signed gradients"
      ]
    },
    {
      "cell_type": "code",
      "metadata": {
        "id": "fzkVgpu-e8Xh"
      },
      "source": [
        "def adversarial_pattern(image, label):\n",
        "  image = tf.convert_to_tensor(image, dtype=tf.float32)\n",
        "\n",
        "  with tf.GradientTape() as tape:\n",
        "      tape.watch(image)\n",
        "      prediction = model(image)\n",
        "      loss = loss_fn(label, prediction)\n",
        "  \n",
        "  gradient = tape.gradient(loss, image)\n",
        "  \n",
        "  signed_grad = tf.sign(gradient)\n",
        "  \n",
        "  return signed_grad"
      ],
      "execution_count": 201,
      "outputs": []
    },
    {
      "cell_type": "code",
      "metadata": {
        "id": "vsrqKYVYhmgx"
      },
      "source": [
        "labels = ['zero', 'one', 'two', 'three', 'four', 'five', 'six', 'seven', 'eight', 'nine']"
      ],
      "execution_count": 202,
      "outputs": []
    },
    {
      "cell_type": "markdown",
      "metadata": {
        "id": "qSKD-RF6072A"
      },
      "source": [
        "### 1. FGSM Attacks (Untargeted - Output a Misclassification)"
      ]
    },
    {
      "cell_type": "markdown",
      "metadata": {
        "id": "5Yci2VrWu_JS"
      },
      "source": [
        "### Sample test attack on a single image"
      ]
    },
    {
      "cell_type": "code",
      "metadata": {
        "id": "1Fja0SFbgsw-"
      },
      "source": [
        "image = x_train[0]"
      ],
      "execution_count": 203,
      "outputs": []
    },
    {
      "cell_type": "code",
      "metadata": {
        "id": "1nxwVm8Dgwt4",
        "colab": {
          "base_uri": "https://localhost:8080/"
        },
        "outputId": "523459d6-5490-4557-c3f0-ff82b2edd9b5"
      },
      "source": [
        "image_label = y_train[0]\n",
        "print(image_label)"
      ],
      "execution_count": 204,
      "outputs": [
        {
          "output_type": "stream",
          "text": [
            "5\n"
          ],
          "name": "stdout"
        }
      ]
    },
    {
      "cell_type": "code",
      "metadata": {
        "id": "d6t4B549gz1-"
      },
      "source": [
        "perturbations = adversarial_pattern(image.reshape((1, 28, 28)), image_label).numpy()\n"
      ],
      "execution_count": 205,
      "outputs": []
    },
    {
      "cell_type": "code",
      "metadata": {
        "id": "00LtI50PhDvQ",
        "colab": {
          "base_uri": "https://localhost:8080/"
        },
        "outputId": "0c572550-142d-4e66-dd69-2b65670b8e75"
      },
      "source": [
        "import matplotlib.pyplot as plt\n",
        "\n",
        "adversarial = tf.clip_by_value(image + perturbations * 0.1,-1,1)\n",
        "print(adversarial.shape)\n"
      ],
      "execution_count": 206,
      "outputs": [
        {
          "output_type": "stream",
          "text": [
            "(1, 28, 28)\n"
          ],
          "name": "stdout"
        }
      ]
    },
    {
      "cell_type": "code",
      "metadata": {
        "id": "kOMyL6oVhwPm",
        "colab": {
          "base_uri": "https://localhost:8080/"
        },
        "outputId": "0cac842c-70e0-4bd0-978a-514d4996a35e"
      },
      "source": [
        "print(\"Actual Output\")\n",
        "print(labels[model.predict(image.reshape((1, 28, 28))).argmax()])\n",
        "print(\"Prediction after perturbation\")\n",
        "print(labels[model.predict(adversarial).argmax()])"
      ],
      "execution_count": 207,
      "outputs": [
        {
          "output_type": "stream",
          "text": [
            "Actual Output\n",
            "five\n",
            "Prediction after perturbation\n",
            "three\n"
          ],
          "name": "stdout"
        }
      ]
    },
    {
      "cell_type": "code",
      "metadata": {
        "id": "waYJ_C7oE7zW",
        "colab": {
          "base_uri": "https://localhost:8080/"
        },
        "outputId": "1f5b7076-3ee6-4031-8f61-55a93c081d78"
      },
      "source": [
        "epsilons = [1, 5, 10 , 20, 30, 40, 50]\n",
        "\n",
        "for i, eps in enumerate(epsilons):\n",
        "  correct = 0\n",
        "  incorrect = 0\n",
        "  correctly_misclassified = 0\n",
        "  original_correct = 0\n",
        "\n",
        "  image = x_test\n",
        "  image_label = y_test\n",
        "  perturbations = adversarial_pattern(image, image_label).numpy()\n",
        "  adv_x = image + (eps/255)*perturbations\n",
        "  adv_x = tf.clip_by_value(adv_x, 0, 1).numpy()\n",
        "  prediction = model.predict(image)\n",
        "  prediction_adv = model.predict(adv_x)\n",
        "  for predicted_label, predicted_label_adv, actual_label in zip(prediction, prediction_adv, y_test):\n",
        "    # success rate => out of the correctly predicted labels in the original model, how many are now correctly misclassified\n",
        "    if actual_label == predicted_label.argmax():\n",
        "      original_correct += 1\n",
        "      if actual_label != predicted_label_adv.argmax():\n",
        "        correctly_misclassified += 1\n",
        "    # accuracy\n",
        "    if predicted_label_adv.argmax() == actual_label:\n",
        "      correct+=1\n",
        "    else:\n",
        "      incorrect+=1\n",
        "  accuracy = (correct/(correct+incorrect))*100\n",
        "  print(\"Accuracy for Epsilon {:.2f} is {:.2f}%\".format(eps, accuracy))\n",
        "  print(\"Success rate of the attack for Epsilon {:.2f} is {:.2f}%\".format(eps, (correctly_misclassified*100/original_correct) ))"
      ],
      "execution_count": 208,
      "outputs": [
        {
          "output_type": "stream",
          "text": [
            "Accuracy for Epsilon 1.00 is 97.06%\n",
            "Success rate of the attack for Epsilon 1.00 is 0.56%\n",
            "Accuracy for Epsilon 5.00 is 92.92%\n",
            "Success rate of the attack for Epsilon 5.00 is 4.80%\n",
            "Accuracy for Epsilon 10.00 is 81.13%\n",
            "Success rate of the attack for Epsilon 10.00 is 16.88%\n",
            "Accuracy for Epsilon 20.00 is 39.27%\n",
            "Success rate of the attack for Epsilon 20.00 is 59.77%\n",
            "Accuracy for Epsilon 30.00 is 14.69%\n",
            "Success rate of the attack for Epsilon 30.00 is 84.95%\n",
            "Accuracy for Epsilon 40.00 is 5.76%\n",
            "Success rate of the attack for Epsilon 40.00 is 94.10%\n",
            "Accuracy for Epsilon 50.00 is 2.08%\n",
            "Success rate of the attack for Epsilon 50.00 is 97.87%\n"
          ],
          "name": "stdout"
        }
      ]
    },
    {
      "cell_type": "markdown",
      "metadata": {
        "id": "JvrmZf8iE0Gs"
      },
      "source": [
        "### 2. FGSM with Targeted variable"
      ]
    },
    {
      "cell_type": "code",
      "metadata": {
        "id": "ciYjljXb3WPT"
      },
      "source": [
        "image = x_train[10]"
      ],
      "execution_count": 209,
      "outputs": []
    },
    {
      "cell_type": "code",
      "metadata": {
        "id": "dSdKxc7u3WPV",
        "colab": {
          "base_uri": "https://localhost:8080/"
        },
        "outputId": "6e6e87e5-0d8d-435a-8f70-96f10fe4fc6f"
      },
      "source": [
        "image_label = y_train[10]\n",
        "print(image_label)"
      ],
      "execution_count": 210,
      "outputs": [
        {
          "output_type": "stream",
          "text": [
            "3\n"
          ],
          "name": "stdout"
        }
      ]
    },
    {
      "cell_type": "markdown",
      "metadata": {
        "id": "pEpfX8r96IXz"
      },
      "source": [
        "### Sample test prediction with a label => (label + 1)%10"
      ]
    },
    {
      "cell_type": "code",
      "metadata": {
        "id": "mcYIqCrm3WPX",
        "colab": {
          "base_uri": "https://localhost:8080/"
        },
        "outputId": "fa05e10c-b1e1-4339-a611-65925f0ec462"
      },
      "source": [
        "perturbations = adversarial_pattern(image.reshape((1, 28, 28)), (image_label+1)%10).numpy()\n",
        "adversarial = image - perturbations * 1\n",
        "print(\"Actual Output\")\n",
        "print(labels[model.predict(image.reshape((1, 28, 28))).argmax()])\n",
        "print(\"Prediction after perturbation\")\n",
        "print(labels[model.predict(adversarial).argmax()])"
      ],
      "execution_count": 211,
      "outputs": [
        {
          "output_type": "stream",
          "text": [
            "Actual Output\n",
            "three\n",
            "Prediction after perturbation\n",
            "four\n"
          ],
          "name": "stdout"
        }
      ]
    },
    {
      "cell_type": "code",
      "metadata": {
        "id": "HzuAULj98N_r",
        "colab": {
          "base_uri": "https://localhost:8080/",
          "height": 299
        },
        "outputId": "1e7ce898-b6a5-4720-d1be-b22540a21052"
      },
      "source": [
        "import matplotlib.pyplot as plt\n",
        "\n",
        "adversarial = image + perturbations * 0.1\n",
        "print(adversarial.shape)\n",
        "\n",
        "\n",
        "plt.imshow(adversarial.reshape((28, 28)))"
      ],
      "execution_count": 212,
      "outputs": [
        {
          "output_type": "stream",
          "text": [
            "(1, 28, 28)\n"
          ],
          "name": "stdout"
        },
        {
          "output_type": "execute_result",
          "data": {
            "text/plain": [
              "<matplotlib.image.AxesImage at 0x7f2555b50400>"
            ]
          },
          "metadata": {
            "tags": []
          },
          "execution_count": 212
        },
        {
          "output_type": "display_data",
          "data": {
            "image/png": "[encoded data removed]",
            "text/plain": [
              "<Figure size 432x288 with 1 Axes>"
            ]
          },
          "metadata": {
            "tags": [],
            "needs_background": "light"
          }
        }
      ]
    },
    {
      "cell_type": "code",
      "metadata": {
        "id": "x6-C6HJBTBQm",
        "colab": {
          "base_uri": "https://localhost:8080/"
        },
        "outputId": "9805faec-f6c8-47f8-b927-1d061c4aac0c"
      },
      "source": [
        "epsilons = [1, 5, 10 , 20, 30, 40, 50]\n",
        "\n",
        "for i, eps in enumerate(epsilons):\n",
        "  correct = 0\n",
        "  incorrect = 0\n",
        "  original_correct = 0\n",
        "  correctly_misclassified = 0\n",
        "\n",
        "  image = x_test\n",
        "  image_label = (y_test+1)%10 \n",
        "\n",
        "  perturbations = adversarial_pattern(image, image_label).numpy()\n",
        "  adv_x = image - (eps/255)*perturbations\n",
        "  adv_x = tf.clip_by_value(adv_x, 0, 1).numpy()\n",
        "  prediction = model.predict(image)\n",
        "  prediction_adv = model.predict(adv_x)\n",
        "  for predicted_label, predicted_label_adv, actual_label in zip(prediction, prediction_adv, y_test):\n",
        "    # success rate\n",
        "    if actual_label == predicted_label.argmax():\n",
        "      original_correct += 1\n",
        "      if (predicted_label.argmax() + 1) % 10 == predicted_label_adv.argmax():\n",
        "        correctly_misclassified+=1\n",
        "    # accuracy after the attack\n",
        "    if predicted_label_adv.argmax() == actual_label:\n",
        "      correct+=1\n",
        "    else:\n",
        "      incorrect+=1\n",
        "  accuracy = (correct/(correct+incorrect))*100\n",
        "  print(\"Accuracy for Epsilon {:.2f} is {:.2f}%\".format(eps, accuracy))\n",
        "  print(\"Success rate of the attack for Epsilon {:.2f} is {:.2f}%\".format(eps, (correctly_misclassified*100/original_correct) ))\n"
      ],
      "execution_count": 213,
      "outputs": [
        {
          "output_type": "stream",
          "text": [
            "Accuracy for Epsilon 1.00 is 97.53%\n",
            "Success rate of the attack for Epsilon 1.00 is 0.03%\n",
            "Accuracy for Epsilon 5.00 is 96.49%\n",
            "Success rate of the attack for Epsilon 5.00 is 0.48%\n",
            "Accuracy for Epsilon 10.00 is 91.58%\n",
            "Success rate of the attack for Epsilon 10.00 is 2.39%\n",
            "Accuracy for Epsilon 20.00 is 58.43%\n",
            "Success rate of the attack for Epsilon 20.00 is 21.38%\n",
            "Accuracy for Epsilon 30.00 is 29.74%\n",
            "Success rate of the attack for Epsilon 30.00 is 39.90%\n",
            "Accuracy for Epsilon 40.00 is 14.48%\n",
            "Success rate of the attack for Epsilon 40.00 is 52.26%\n",
            "Accuracy for Epsilon 50.00 is 6.50%\n",
            "Success rate of the attack for Epsilon 50.00 is 59.76%\n"
          ],
          "name": "stdout"
        }
      ]
    },
    {
      "cell_type": "markdown",
      "metadata": {
        "id": "I2_fIU5p6DD3"
      },
      "source": [
        "### 3. Defense Strategies Untargeted FGSM and Adversarial Retraining"
      ]
    },
    {
      "cell_type": "markdown",
      "metadata": {
        "id": "euZRc3uwJEVn"
      },
      "source": [
        "#### Creating new data set with perturbed images"
      ]
    },
    {
      "cell_type": "code",
      "metadata": {
        "id": "uifHwJ85JgMZ"
      },
      "source": [
        "eps_defense = 10/255\n",
        "x_train_perturbed = []\n",
        "y_train_perturbed = []\n",
        "\n",
        "perturbations = adversarial_pattern(x_train, y_train).numpy()\n",
        "x_train_perturbed = x_train + eps_defense*perturbations\n",
        "x_train_perturbed = tf.clip_by_value(x_train_perturbed, 0, 1).numpy()\n",
        "\n",
        "y_train_perturbed = np.asarray(y_train)"
      ],
      "execution_count": 214,
      "outputs": []
    },
    {
      "cell_type": "code",
      "metadata": {
        "id": "wbkhwo9lLOnL",
        "colab": {
          "base_uri": "https://localhost:8080/"
        },
        "outputId": "fc23da55-0ff9-4222-ed8b-55854b1bac17"
      },
      "source": [
        "\n",
        "print(x_train_perturbed.shape)\n",
        "print(y_train_perturbed.shape)"
      ],
      "execution_count": 215,
      "outputs": [
        {
          "output_type": "stream",
          "text": [
            "(60000, 28, 28)\n",
            "(60000,)\n"
          ],
          "name": "stdout"
        }
      ]
    },
    {
      "cell_type": "markdown",
      "metadata": {
        "id": "priyVzeVs1A-"
      },
      "source": [
        "### Appending it to the original training data set\n",
        "\n",
        "\n",
        "\n",
        "\n",
        "\n",
        "\n",
        "\n",
        "\n",
        "\n",
        "\n",
        "\n",
        "\n",
        "\n",
        "\n",
        "\n",
        "\n",
        "\n",
        "\n",
        "\n",
        "\n",
        "\n",
        "\n",
        "\n",
        "\n",
        "\n",
        "\n",
        "\n",
        "\n",
        "\n",
        "\n",
        "\n",
        "\n",
        "\n",
        "\n",
        "\n",
        "\n",
        "\n"
      ]
    },
    {
      "cell_type": "code",
      "metadata": {
        "id": "6ety14AJDCpt"
      },
      "source": [
        "x_train = np.append(x_train, x_train_perturbed, axis = 0)\n",
        "y_train = np.append(y_train, y_train_perturbed, axis = 0)"
      ],
      "execution_count": 216,
      "outputs": []
    },
    {
      "cell_type": "code",
      "metadata": {
        "id": "2WSIoIG7C69N",
        "colab": {
          "base_uri": "https://localhost:8080/"
        },
        "outputId": "bbf33088-48d7-4870-9a39-55301c09972c"
      },
      "source": [
        "print(x_train.shape)\n",
        "print(y_train.shape)"
      ],
      "execution_count": 217,
      "outputs": [
        {
          "output_type": "stream",
          "text": [
            "(120000, 28, 28)\n",
            "(120000,)\n"
          ],
          "name": "stdout"
        }
      ]
    },
    {
      "cell_type": "markdown",
      "metadata": {
        "id": "xVKqvIRc_XlB"
      },
      "source": [
        "### Performing Retrain and evaluating on the original clean test data set"
      ]
    },
    {
      "cell_type": "code",
      "metadata": {
        "id": "MNcR43MZ-pEW",
        "colab": {
          "base_uri": "https://localhost:8080/"
        },
        "outputId": "a9af93f9-f6a6-4ae6-e35c-f04b7ec8d2ec"
      },
      "source": [
        "new_model = tf.keras.models.Sequential([\n",
        "  tf.keras.layers.Flatten(input_shape=(28, 28)),\n",
        "  tf.keras.layers.Dense(128, activation='relu'),\n",
        "  tf.keras.layers.Dropout(0.2),\n",
        "  tf.keras.layers.Dense(10)\n",
        "])\n",
        "new_model.compile(optimizer='adam',\n",
        "              loss=loss_fn,\n",
        "              metrics=['accuracy'])\n",
        "new_model.fit(x_train, y_train, epochs=5)"
      ],
      "execution_count": 218,
      "outputs": [
        {
          "output_type": "stream",
          "text": [
            "Epoch 1/5\n",
            "3750/3750 [==============================] - 7s 2ms/step - loss: 0.2026 - accuracy: 0.9418\n",
            "Epoch 2/5\n",
            "3750/3750 [==============================] - 6s 2ms/step - loss: 0.0806 - accuracy: 0.9759\n",
            "Epoch 3/5\n",
            "3750/3750 [==============================] - 6s 2ms/step - loss: 0.0580 - accuracy: 0.9818\n",
            "Epoch 4/5\n",
            "3750/3750 [==============================] - 6s 2ms/step - loss: 0.0464 - accuracy: 0.9850\n",
            "Epoch 5/5\n",
            "3750/3750 [==============================] - 6s 2ms/step - loss: 0.0396 - accuracy: 0.9872\n"
          ],
          "name": "stdout"
        },
        {
          "output_type": "execute_result",
          "data": {
            "text/plain": [
              "<tensorflow.python.keras.callbacks.History at 0x7f2555bf1b00>"
            ]
          },
          "metadata": {
            "tags": []
          },
          "execution_count": 218
        }
      ]
    },
    {
      "cell_type": "code",
      "metadata": {
        "colab": {
          "base_uri": "https://localhost:8080/"
        },
        "id": "LU-nL-hxG3-j",
        "outputId": "31f54ecf-4201-458a-f1d8-a8a49e7417fe"
      },
      "source": [
        "print(\"Reporting classification accuracy of the adversarially retrained DNN on the original test dataset\", new_model.evaluate(x_test, y_test, verbose=2))\n"
      ],
      "execution_count": 219,
      "outputs": [
        {
          "output_type": "stream",
          "text": [
            "313/313 - 0s - loss: 0.0745 - accuracy: 0.9782\n",
            "Reporting classification accuracy of the adversarially retrained DNN on the original test dataset [0.07445166260004044, 0.9782000184059143]\n"
          ],
          "name": "stdout"
        }
      ]
    },
    {
      "cell_type": "markdown",
      "metadata": {
        "id": "heMbyFDYHWdK"
      },
      "source": [
        "### Adversarial untargeted attack on the retrained data set using the new model"
      ]
    },
    {
      "cell_type": "code",
      "metadata": {
        "colab": {
          "base_uri": "https://localhost:8080/"
        },
        "id": "liWiOLEfHVQw",
        "outputId": "71f218df-cebf-413e-e35b-ec5232fd77e7"
      },
      "source": [
        "epsilons = [1, 5, 10, 20, 30, 40, 50]\n",
        "\n",
        "for i, eps in enumerate(epsilons):\n",
        "  correct = 0\n",
        "  incorrect = 0\n",
        "  original_correct = 0\n",
        "  correctly_misclassified = 0\n",
        "\n",
        "  image = x_test\n",
        "  image_label = y_test\n",
        "  perturbations = adversarial_pattern(image, image_label).numpy()\n",
        "  adv_x = image + (eps/255)*perturbations\n",
        "  adv_x = tf.clip_by_value(adv_x, 0, 1).numpy()\n",
        "  prediction = new_model.predict(image)\n",
        "  prediction_adv = new_model.predict(adv_x)\n",
        "  for predicted_label, predicted_label_adv, actual_label in zip(prediction, prediction_adv, y_test):\n",
        "    # success rate => out of the correctly predicted labels in the original model, how many are now correctly misclassified\n",
        "    if actual_label == predicted_label.argmax():\n",
        "      original_correct += 1\n",
        "      if actual_label != predicted_label_adv.argmax():\n",
        "        correctly_misclassified += 1\n",
        "    # accuracy\n",
        "    if predicted_label_adv.argmax() == actual_label:\n",
        "      correct+=1\n",
        "    else:\n",
        "      incorrect+=1\n",
        "  accuracy = (correct/(correct+incorrect))*100\n",
        "  print(\"Accuracy for Epsilon {:.2f} is {:.2f}%\".format(eps, accuracy))\n",
        "  print(\"Success rate of the attack for Epsilon {:.2f} is {:.2f}%\".format(eps, (correctly_misclassified*100/original_correct) ))"
      ],
      "execution_count": 220,
      "outputs": [
        {
          "output_type": "stream",
          "text": [
            "Accuracy for Epsilon 1.00 is 98.19%\n",
            "Success rate of the attack for Epsilon 1.00 is 0.00%\n",
            "Accuracy for Epsilon 5.00 is 99.14%\n",
            "Success rate of the attack for Epsilon 5.00 is 0.00%\n",
            "Accuracy for Epsilon 10.00 is 99.56%\n",
            "Success rate of the attack for Epsilon 10.00 is 0.00%\n",
            "Accuracy for Epsilon 20.00 is 99.92%\n",
            "Success rate of the attack for Epsilon 20.00 is 0.01%\n",
            "Accuracy for Epsilon 30.00 is 99.79%\n",
            "Success rate of the attack for Epsilon 30.00 is 0.09%\n",
            "Accuracy for Epsilon 40.00 is 99.51%\n",
            "Success rate of the attack for Epsilon 40.00 is 0.34%\n",
            "Accuracy for Epsilon 50.00 is 98.92%\n",
            "Success rate of the attack for Epsilon 50.00 is 0.91%\n"
          ],
          "name": "stdout"
        }
      ]
    },
    {
      "cell_type": "markdown",
      "metadata": {
        "id": "nHfFrXC9wPYG"
      },
      "source": [
        "#### The adversarially retrained DNN is robust against adversarial atacks as we can see that from the success rate of the attacks."
      ]
    },
    {
      "cell_type": "code",
      "metadata": {
        "id": "1cimfSgjwOB1"
      },
      "source": [
        ""
      ],
      "execution_count": null,
      "outputs": []
    }
  ]
}