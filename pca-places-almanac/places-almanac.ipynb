{
 "nbformat": 4,
 "nbformat_minor": 0,
 "metadata": {
  "colab": {
   "name": "Homework_6.ipynb",
   "provenance": [],
   "collapsed_sections": []
  },
  "kernelspec": {
   "name": "python3",
   "display_name": "Python 3"
  },
  "pycharm": {
   "stem_cell": {
    "cell_type": "raw",
    "source": [],
    "metadata": {
     "collapsed": false
    }
   }
  }
 },
 "cells": [
  {
   "cell_type": "markdown",
   "metadata": {
    "id": "OhZH_KNbM_lc",
    "colab_type": "text"
   },
   "source": [
    "This demo demonstrates PCA (Principal Component Analysis) on first a small dataset and then on a bigger data set,\n",
    "places almanac."
   ]
  },
  {
   "cell_type": "markdown",
   "metadata": {
    "id": "Q-1UFAREnJGs",
    "colab_type": "text"
   },
   "source": [
    "Part a - Sample mean is the summation of all coordinates divided by the number of samples n, [$\\frac{\\sum{x_i}}{n}$,$\\frac{\\sum{y_i}}{n}$,$\\frac{\\sum{z_i}}{n}$]\n",
    "\n",
    "\n",
    "\n"
   ]
  },
  {
   "cell_type": "code",
   "metadata": {
    "id": "68iD7U983uGw",
    "colab_type": "code",
    "outputId": "36c3ee7f-e3f3-4ab4-cf88-8758b2999d1e",
    "colab": {
     "base_uri": "https://localhost:8080/",
     "height": 51
    }
   },
   "source": [
    "from sklearn.preprocessing import StandardScaler\n",
    "import numpy as np\n",
    "\n",
    "import matplotlib.pyplot as plt\n",
    "import pandas as pd\n",
    "\n",
    "data = [[ 3., 2.,  1.],\n",
    "                    [ 2.,  4.,  5.],\n",
    "                    [ 1.,  2., 3.],\n",
    "                    [0., 2., 5.]]\n",
    "scaler = StandardScaler(with_std=False)\n",
    "scaler.fit(data)\n",
    "print(\"Mean:\")\n",
    "print(scaler.mean_)"
   ],
   "execution_count": 136,
   "outputs": [
    {
     "output_type": "stream",
     "text": [
      "Mean:\n",
      "[1.5 2.5 3.5]\n"
     ],
     "name": "stdout"
    }
   ]
  },
  {
   "cell_type": "markdown",
   "metadata": {
    "id": "YKCI-Ld5nuK6",
    "colab_type": "text"
   },
   "source": [
    "Part b) Finding the data samples with zero mean by $x=\\frac{x-\\mu}{\\sigma}$"
   ]
  },
  {
   "cell_type": "code",
   "metadata": {
    "id": "dQYH7yC14Zgr",
    "colab_type": "code",
    "colab": {
     "base_uri": "https://localhost:8080/",
     "height": 272
    },
    "outputId": "e03fedb0-76e9-483d-a8be-39e9f553476f"
   },
   "source": [
    "print(\"Transformed Data with zero center\")\n",
    "transformed_data = scaler.transform(data)\n",
    "print(transformed_data)\n",
    "print(\"Covariance matrix\")\n",
    "q = np.cov(transformed_data.T)\n",
    "print(q)\n",
    "print(\"Eigen vectors of the sample\")\n",
    "eig_vals, eig_vec = np.linalg.eig(q)\n",
    "print(eig_vec)\n",
    "\n",
    "print(\"Eigen values of the sample\")\n",
    "print(eig_vals)\n"
   ],
   "execution_count": 244,
   "outputs": [
    {
     "output_type": "stream",
     "text": [
      "Transformed Data with zero center\n",
      "[[ 1.5 -0.5 -2.5]\n",
      " [ 0.5  1.5  1.5]\n",
      " [-0.5 -0.5 -0.5]\n",
      " [-1.5 -0.5  1.5]]\n",
      "Covariance matrix\n",
      "[[ 1.66666667  0.33333333 -1.66666667]\n",
      " [ 0.33333333  1.          1.        ]\n",
      " [-1.66666667  1.          3.66666667]]\n",
      "Eigen vectors of the sample\n",
      "[[-0.45056922 -0.66677184 -0.59363515]\n",
      " [ 0.19247228 -0.72187235  0.66472154]\n",
      " [ 0.87174641 -0.18524476 -0.45358856]]\n",
      "Eigen values of the sample\n",
      "[4.74888619 1.56450706 0.01994008]\n"
     ],
     "name": "stdout"
    }
   ]
  },
  {
   "cell_type": "markdown",
   "metadata": {
    "id": "6MIBtKvg33iO",
    "colab_type": "text"
   },
   "source": [
    "Part c) We know that max |eigen value| is our first principal component and so on.\n"
   ]
  },
  {
   "cell_type": "code",
   "metadata": {
    "id": "af-bGDGF5A8z",
    "colab_type": "code",
    "colab": {
     "base_uri": "https://localhost:8080/",
     "height": 102
    },
    "outputId": "b6ee987e-79b1-40d2-b92e-5d5d4a839a34"
   },
   "source": [
    "print(\"Score of the component with samples (PCA Coeffecient)\")\n",
    "print(np.matmul(transformed_data, eig_vec))"
   ],
   "execution_count": 138,
   "outputs": [
    {
     "output_type": "stream",
     "text": [
      "Score of the component with samples (PCA Coeffecient)\n",
      "[[-2.95145599 -0.17610969 -0.0888421 ]\n",
      " [ 1.37104342 -1.69406159  0.0198819 ]\n",
      " [-0.30682473  0.78694448  0.19125108]\n",
      " [ 1.8872373   1.0832268  -0.12229089]]\n"
     ],
     "name": "stdout"
    }
   ]
  },
  {
   "cell_type": "markdown",
   "metadata": {
    "id": "t6YdteHOG_x8",
    "colab_type": "text"
   },
   "source": [
    "Part d) - restructured samples are"
   ]
  },
  {
   "cell_type": "code",
   "metadata": {
    "id": "tydZ9YahJ0lE",
    "colab_type": "code",
    "colab": {
     "base_uri": "https://localhost:8080/",
     "height": 255
    },
    "outputId": "2733219a-b94d-48d1-e11b-a3ab3cb27bea"
   },
   "source": [
    "from sklearn.decomposition import PCA\n",
    "#Using two components\n",
    "pca = PCA(n_components=2)\n",
    "projected = pca.fit_transform(data)\n",
    "print(projected)\n",
    "print(\"Reconstructed Original Samples from these 2 components\")\n",
    "reconstructed_samples = pca.inverse_transform(projected)\n",
    "print(reconstructed_samples)\n",
    "\n",
    "print(\"Error\")\n",
    "error = np.sqrt((reconstructed_samples - data) ** 2)\n",
    "print(error)"
   ],
   "execution_count": 144,
   "outputs": [
    {
     "output_type": "stream",
     "text": [
      "[[ 2.95145599  0.17610969]\n",
      " [-1.37104342  1.69406159]\n",
      " [ 0.30682473 -0.78694448]\n",
      " [-1.8872373  -1.0832268 ]]\n",
      "Reconstructed Original Samples from these 2 components\n",
      "[[ 2.94726021  2.05905526  0.95970224]\n",
      " [ 2.0118026   3.98678407  5.0090182 ]\n",
      " [ 1.11353336  1.87287129  3.0867493 ]\n",
      " [-0.07259617  2.08128939  4.94453025]]\n",
      "Error\n",
      "[[0.05273979 0.05905526 0.04029776]\n",
      " [0.0118026  0.01321593 0.0090182 ]\n",
      " [0.11353336 0.12712871 0.0867493 ]\n",
      " [0.07259617 0.08128939 0.05546975]]\n"
     ],
     "name": "stdout"
    }
   ]
  },
  {
   "cell_type": "markdown",
   "metadata": {
    "id": "1YJ0M_9_mLNF",
    "colab_type": "text"
   },
   "source": [
    "Places Almanac"
   ]
  },
  {
   "cell_type": "code",
   "metadata": {
    "id": "my-bz0WmmKks",
    "colab_type": "code",
    "colab": {}
   },
   "source": [
    "data_dir = \"places.txt\""
   ],
   "execution_count": 0,
   "outputs": []
  },
  {
   "cell_type": "code",
   "metadata": {
    "id": "_lDIj0oIay85",
    "colab_type": "code",
    "colab": {
     "base_uri": "https://localhost:8080/",
     "height": 419
    },
    "outputId": "e8895845-0e71-4d5c-ac7e-80562bad2fef"
   },
   "source": [
    "data_cols = ['city', 'climate', 'HousingCost', 'HlthCare', 'Crime',  'Transp', 'Educ', 'Arts',  'Recreat', 'Econ','casenm', 'longitude','latitude',\n",
    "'pop','state']\n",
    "living_condition_df =  pd.read_table(data_dir, header=None, skiprows=1, names=data_cols,error_bad_lines=False,delim_whitespace=True)\n",
    "living_condition_df"
   ],
   "execution_count": 290,
   "outputs": [
    {
     "output_type": "execute_result",
     "data": {
      "text/html": [
       "<div>\n",
       "<style scoped>\n",
       "    .dataframe tbody tr th:only-of-type {\n",
       "        vertical-align: middle;\n",
       "    }\n",
       "\n",
       "    .dataframe tbody tr th {\n",
       "        vertical-align: top;\n",
       "    }\n",
       "\n",
       "    .dataframe thead th {\n",
       "        text-align: right;\n",
       "    }\n",
       "</style>\n",
       "<table border=\"1\" class=\"dataframe\">\n",
       "  <thead>\n",
       "    <tr style=\"text-align: right;\">\n",
       "      <th></th>\n",
       "      <th>city</th>\n",
       "      <th>climate</th>\n",
       "      <th>HousingCost</th>\n",
       "      <th>HlthCare</th>\n",
       "      <th>Crime</th>\n",
       "      <th>Transp</th>\n",
       "      <th>Educ</th>\n",
       "      <th>Arts</th>\n",
       "      <th>Recreat</th>\n",
       "      <th>Econ</th>\n",
       "      <th>casenm</th>\n",
       "      <th>longitude</th>\n",
       "      <th>latitude</th>\n",
       "      <th>pop</th>\n",
       "      <th>state</th>\n",
       "    </tr>\n",
       "  </thead>\n",
       "  <tbody>\n",
       "    <tr>\n",
       "      <th>0</th>\n",
       "      <td>Abilene,TX</td>\n",
       "      <td>521</td>\n",
       "      <td>6200</td>\n",
       "      <td>237</td>\n",
       "      <td>923</td>\n",
       "      <td>4031</td>\n",
       "      <td>2757</td>\n",
       "      <td>996</td>\n",
       "      <td>1405</td>\n",
       "      <td>7633</td>\n",
       "      <td>1</td>\n",
       "      <td>-99.6890</td>\n",
       "      <td>32.5590</td>\n",
       "      <td>110932</td>\n",
       "      <td>44</td>\n",
       "    </tr>\n",
       "    <tr>\n",
       "      <th>1</th>\n",
       "      <td>Akron,OH</td>\n",
       "      <td>575</td>\n",
       "      <td>8138</td>\n",
       "      <td>1656</td>\n",
       "      <td>886</td>\n",
       "      <td>4883</td>\n",
       "      <td>2438</td>\n",
       "      <td>5564</td>\n",
       "      <td>2632</td>\n",
       "      <td>4350</td>\n",
       "      <td>2</td>\n",
       "      <td>-81.5180</td>\n",
       "      <td>41.0850</td>\n",
       "      <td>660328</td>\n",
       "      <td>36</td>\n",
       "    </tr>\n",
       "    <tr>\n",
       "      <th>2</th>\n",
       "      <td>Albany,GA</td>\n",
       "      <td>468</td>\n",
       "      <td>7339</td>\n",
       "      <td>618</td>\n",
       "      <td>970</td>\n",
       "      <td>2531</td>\n",
       "      <td>2560</td>\n",
       "      <td>237</td>\n",
       "      <td>859</td>\n",
       "      <td>5250</td>\n",
       "      <td>3</td>\n",
       "      <td>-84.1580</td>\n",
       "      <td>31.5750</td>\n",
       "      <td>112402</td>\n",
       "      <td>11</td>\n",
       "    </tr>\n",
       "    <tr>\n",
       "      <th>3</th>\n",
       "      <td>Albany-Schenectady-Troy,NY</td>\n",
       "      <td>476</td>\n",
       "      <td>7908</td>\n",
       "      <td>1431</td>\n",
       "      <td>610</td>\n",
       "      <td>6883</td>\n",
       "      <td>3399</td>\n",
       "      <td>4655</td>\n",
       "      <td>1617</td>\n",
       "      <td>5864</td>\n",
       "      <td>4</td>\n",
       "      <td>-73.7983</td>\n",
       "      <td>42.7327</td>\n",
       "      <td>835880</td>\n",
       "      <td>35</td>\n",
       "    </tr>\n",
       "    <tr>\n",
       "      <th>4</th>\n",
       "      <td>Albuquerque,NM</td>\n",
       "      <td>659</td>\n",
       "      <td>8393</td>\n",
       "      <td>1853</td>\n",
       "      <td>1483</td>\n",
       "      <td>6558</td>\n",
       "      <td>3026</td>\n",
       "      <td>4496</td>\n",
       "      <td>2612</td>\n",
       "      <td>5727</td>\n",
       "      <td>5</td>\n",
       "      <td>-106.6500</td>\n",
       "      <td>35.0830</td>\n",
       "      <td>419700</td>\n",
       "      <td>33</td>\n",
       "    </tr>\n",
       "    <tr>\n",
       "      <th>...</th>\n",
       "      <td>...</td>\n",
       "      <td>...</td>\n",
       "      <td>...</td>\n",
       "      <td>...</td>\n",
       "      <td>...</td>\n",
       "      <td>...</td>\n",
       "      <td>...</td>\n",
       "      <td>...</td>\n",
       "      <td>...</td>\n",
       "      <td>...</td>\n",
       "      <td>...</td>\n",
       "      <td>...</td>\n",
       "      <td>...</td>\n",
       "      <td>...</td>\n",
       "      <td>...</td>\n",
       "    </tr>\n",
       "    <tr>\n",
       "      <th>324</th>\n",
       "      <td>Worcester,MA</td>\n",
       "      <td>562</td>\n",
       "      <td>8715</td>\n",
       "      <td>1805</td>\n",
       "      <td>680</td>\n",
       "      <td>3643</td>\n",
       "      <td>3299</td>\n",
       "      <td>1784</td>\n",
       "      <td>910</td>\n",
       "      <td>5040</td>\n",
       "      <td>325</td>\n",
       "      <td>-71.7950</td>\n",
       "      <td>42.2720</td>\n",
       "      <td>402918</td>\n",
       "      <td>20</td>\n",
       "    </tr>\n",
       "    <tr>\n",
       "      <th>325</th>\n",
       "      <td>Yakima,WA</td>\n",
       "      <td>535</td>\n",
       "      <td>6440</td>\n",
       "      <td>317</td>\n",
       "      <td>1106</td>\n",
       "      <td>3731</td>\n",
       "      <td>2491</td>\n",
       "      <td>996</td>\n",
       "      <td>2140</td>\n",
       "      <td>4986</td>\n",
       "      <td>326</td>\n",
       "      <td>-120.5130</td>\n",
       "      <td>46.5950</td>\n",
       "      <td>172508</td>\n",
       "      <td>48</td>\n",
       "    </tr>\n",
       "    <tr>\n",
       "      <th>326</th>\n",
       "      <td>York,PA</td>\n",
       "      <td>540</td>\n",
       "      <td>8371</td>\n",
       "      <td>713</td>\n",
       "      <td>440</td>\n",
       "      <td>2267</td>\n",
       "      <td>2903</td>\n",
       "      <td>1022</td>\n",
       "      <td>842</td>\n",
       "      <td>4946</td>\n",
       "      <td>327</td>\n",
       "      <td>-76.7280</td>\n",
       "      <td>39.9600</td>\n",
       "      <td>381255</td>\n",
       "      <td>39</td>\n",
       "    </tr>\n",
       "    <tr>\n",
       "      <th>327</th>\n",
       "      <td>Youngstown-Warren,OH</td>\n",
       "      <td>570</td>\n",
       "      <td>7021</td>\n",
       "      <td>1097</td>\n",
       "      <td>938</td>\n",
       "      <td>3374</td>\n",
       "      <td>2920</td>\n",
       "      <td>2797</td>\n",
       "      <td>1327</td>\n",
       "      <td>3894</td>\n",
       "      <td>328</td>\n",
       "      <td>-80.7290</td>\n",
       "      <td>41.1700</td>\n",
       "      <td>531350</td>\n",
       "      <td>36</td>\n",
       "    </tr>\n",
       "    <tr>\n",
       "      <th>328</th>\n",
       "      <td>Yuba-City,CA</td>\n",
       "      <td>608</td>\n",
       "      <td>7875</td>\n",
       "      <td>212</td>\n",
       "      <td>1179</td>\n",
       "      <td>2768</td>\n",
       "      <td>2387</td>\n",
       "      <td>122</td>\n",
       "      <td>918</td>\n",
       "      <td>4694</td>\n",
       "      <td>329</td>\n",
       "      <td>-121.6220</td>\n",
       "      <td>39.1280</td>\n",
       "      <td>101979</td>\n",
       "      <td>5</td>\n",
       "    </tr>\n",
       "  </tbody>\n",
       "</table>\n",
       "<p>329 rows × 15 columns</p>\n",
       "</div>"
      ],
      "text/plain": [
       "                           city  climate  HousingCost  ...  latitude     pop  state\n",
       "0                    Abilene,TX      521         6200  ...   32.5590  110932     44\n",
       "1                      Akron,OH      575         8138  ...   41.0850  660328     36\n",
       "2                     Albany,GA      468         7339  ...   31.5750  112402     11\n",
       "3    Albany-Schenectady-Troy,NY      476         7908  ...   42.7327  835880     35\n",
       "4                Albuquerque,NM      659         8393  ...   35.0830  419700     33\n",
       "..                          ...      ...          ...  ...       ...     ...    ...\n",
       "324                Worcester,MA      562         8715  ...   42.2720  402918     20\n",
       "325                   Yakima,WA      535         6440  ...   46.5950  172508     48\n",
       "326                     York,PA      540         8371  ...   39.9600  381255     39\n",
       "327        Youngstown-Warren,OH      570         7021  ...   41.1700  531350     36\n",
       "328                Yuba-City,CA      608         7875  ...   39.1280  101979      5\n",
       "\n",
       "[329 rows x 15 columns]"
      ]
     },
     "metadata": {
      "tags": []
     },
     "execution_count": 290
    }
   ]
  },
  {
   "cell_type": "markdown",
   "metadata": {
    "id": "PFbVYbLUIl-F",
    "colab_type": "text"
   },
   "source": [
    "Part a"
   ]
  },
  {
   "cell_type": "code",
   "metadata": {
    "id": "UySmcpsr-zD0",
    "colab_type": "code",
    "colab": {}
   },
   "source": [
    "# save the city names\n",
    "cities = living_condition_df['city']\n",
    "living_condition_df = living_condition_df.drop(labels=['city','casenm', 'longitude','latitude', 'pop','state'],axis=1)\n",
    "\n",
    "#living_condition_df.set_index('city')\n",
    "X_original = living_condition_df.copy()"
   ],
   "execution_count": 0,
   "outputs": []
  },
  {
   "cell_type": "markdown",
   "metadata": {
    "id": "9R7ExJO8IoPf",
    "colab_type": "text"
   },
   "source": [
    "Part b"
   ]
  },
  {
   "cell_type": "code",
   "metadata": {
    "id": "mV7uC1RDBzkR",
    "colab_type": "code",
    "colab": {}
   },
   "source": [
    "living_condition_df = living_condition_df.apply(lambda x: np.log10(x))"
   ],
   "execution_count": 0,
   "outputs": []
  },
  {
   "cell_type": "code",
   "metadata": {
    "id": "JMEJN2CQJhKc",
    "colab_type": "code",
    "colab": {
     "base_uri": "https://localhost:8080/",
     "height": 419
    },
    "outputId": "5479dfb7-75c2-49f2-cc6e-11de64b5cd68"
   },
   "source": [
    "living_condition_df"
   ],
   "execution_count": 293,
   "outputs": [
    {
     "output_type": "execute_result",
     "data": {
      "text/html": [
       "<div>\n",
       "<style scoped>\n",
       "    .dataframe tbody tr th:only-of-type {\n",
       "        vertical-align: middle;\n",
       "    }\n",
       "\n",
       "    .dataframe tbody tr th {\n",
       "        vertical-align: top;\n",
       "    }\n",
       "\n",
       "    .dataframe thead th {\n",
       "        text-align: right;\n",
       "    }\n",
       "</style>\n",
       "<table border=\"1\" class=\"dataframe\">\n",
       "  <thead>\n",
       "    <tr style=\"text-align: right;\">\n",
       "      <th></th>\n",
       "      <th>climate</th>\n",
       "      <th>HousingCost</th>\n",
       "      <th>HlthCare</th>\n",
       "      <th>Crime</th>\n",
       "      <th>Transp</th>\n",
       "      <th>Educ</th>\n",
       "      <th>Arts</th>\n",
       "      <th>Recreat</th>\n",
       "      <th>Econ</th>\n",
       "    </tr>\n",
       "  </thead>\n",
       "  <tbody>\n",
       "    <tr>\n",
       "      <th>0</th>\n",
       "      <td>2.716838</td>\n",
       "      <td>3.792392</td>\n",
       "      <td>2.374748</td>\n",
       "      <td>2.965202</td>\n",
       "      <td>3.605413</td>\n",
       "      <td>3.440437</td>\n",
       "      <td>2.998259</td>\n",
       "      <td>3.147676</td>\n",
       "      <td>3.882695</td>\n",
       "    </tr>\n",
       "    <tr>\n",
       "      <th>1</th>\n",
       "      <td>2.759668</td>\n",
       "      <td>3.910518</td>\n",
       "      <td>3.219060</td>\n",
       "      <td>2.947434</td>\n",
       "      <td>3.688687</td>\n",
       "      <td>3.387034</td>\n",
       "      <td>3.745387</td>\n",
       "      <td>3.420286</td>\n",
       "      <td>3.638489</td>\n",
       "    </tr>\n",
       "    <tr>\n",
       "      <th>2</th>\n",
       "      <td>2.670246</td>\n",
       "      <td>3.865637</td>\n",
       "      <td>2.790988</td>\n",
       "      <td>2.986772</td>\n",
       "      <td>3.403292</td>\n",
       "      <td>3.408240</td>\n",
       "      <td>2.374748</td>\n",
       "      <td>2.933993</td>\n",
       "      <td>3.720159</td>\n",
       "    </tr>\n",
       "    <tr>\n",
       "      <th>3</th>\n",
       "      <td>2.677607</td>\n",
       "      <td>3.898067</td>\n",
       "      <td>3.155640</td>\n",
       "      <td>2.785330</td>\n",
       "      <td>3.837778</td>\n",
       "      <td>3.531351</td>\n",
       "      <td>3.667920</td>\n",
       "      <td>3.208710</td>\n",
       "      <td>3.768194</td>\n",
       "    </tr>\n",
       "    <tr>\n",
       "      <th>4</th>\n",
       "      <td>2.818885</td>\n",
       "      <td>3.923917</td>\n",
       "      <td>3.267875</td>\n",
       "      <td>3.171141</td>\n",
       "      <td>3.816771</td>\n",
       "      <td>3.480869</td>\n",
       "      <td>3.652826</td>\n",
       "      <td>3.416973</td>\n",
       "      <td>3.757927</td>\n",
       "    </tr>\n",
       "    <tr>\n",
       "      <th>...</th>\n",
       "      <td>...</td>\n",
       "      <td>...</td>\n",
       "      <td>...</td>\n",
       "      <td>...</td>\n",
       "      <td>...</td>\n",
       "      <td>...</td>\n",
       "      <td>...</td>\n",
       "      <td>...</td>\n",
       "      <td>...</td>\n",
       "    </tr>\n",
       "    <tr>\n",
       "      <th>324</th>\n",
       "      <td>2.749736</td>\n",
       "      <td>3.940267</td>\n",
       "      <td>3.256477</td>\n",
       "      <td>2.832509</td>\n",
       "      <td>3.561459</td>\n",
       "      <td>3.518382</td>\n",
       "      <td>3.251395</td>\n",
       "      <td>2.959041</td>\n",
       "      <td>3.702431</td>\n",
       "    </tr>\n",
       "    <tr>\n",
       "      <th>325</th>\n",
       "      <td>2.728354</td>\n",
       "      <td>3.808886</td>\n",
       "      <td>2.501059</td>\n",
       "      <td>3.043755</td>\n",
       "      <td>3.571825</td>\n",
       "      <td>3.396374</td>\n",
       "      <td>2.998259</td>\n",
       "      <td>3.330414</td>\n",
       "      <td>3.697752</td>\n",
       "    </tr>\n",
       "    <tr>\n",
       "      <th>326</th>\n",
       "      <td>2.732394</td>\n",
       "      <td>3.922777</td>\n",
       "      <td>2.853090</td>\n",
       "      <td>2.643453</td>\n",
       "      <td>3.355452</td>\n",
       "      <td>3.462847</td>\n",
       "      <td>3.009451</td>\n",
       "      <td>2.925312</td>\n",
       "      <td>3.694254</td>\n",
       "    </tr>\n",
       "    <tr>\n",
       "      <th>327</th>\n",
       "      <td>2.755875</td>\n",
       "      <td>3.846399</td>\n",
       "      <td>3.040207</td>\n",
       "      <td>2.972203</td>\n",
       "      <td>3.528145</td>\n",
       "      <td>3.465383</td>\n",
       "      <td>3.446692</td>\n",
       "      <td>3.122871</td>\n",
       "      <td>3.590396</td>\n",
       "    </tr>\n",
       "    <tr>\n",
       "      <th>328</th>\n",
       "      <td>2.783904</td>\n",
       "      <td>3.896251</td>\n",
       "      <td>2.326336</td>\n",
       "      <td>3.071514</td>\n",
       "      <td>3.442166</td>\n",
       "      <td>3.377852</td>\n",
       "      <td>2.086360</td>\n",
       "      <td>2.962843</td>\n",
       "      <td>3.671543</td>\n",
       "    </tr>\n",
       "  </tbody>\n",
       "</table>\n",
       "<p>329 rows × 9 columns</p>\n",
       "</div>"
      ],
      "text/plain": [
       "      climate  HousingCost  HlthCare  ...      Arts   Recreat      Econ\n",
       "0    2.716838     3.792392  2.374748  ...  2.998259  3.147676  3.882695\n",
       "1    2.759668     3.910518  3.219060  ...  3.745387  3.420286  3.638489\n",
       "2    2.670246     3.865637  2.790988  ...  2.374748  2.933993  3.720159\n",
       "3    2.677607     3.898067  3.155640  ...  3.667920  3.208710  3.768194\n",
       "4    2.818885     3.923917  3.267875  ...  3.652826  3.416973  3.757927\n",
       "..        ...          ...       ...  ...       ...       ...       ...\n",
       "324  2.749736     3.940267  3.256477  ...  3.251395  2.959041  3.702431\n",
       "325  2.728354     3.808886  2.501059  ...  2.998259  3.330414  3.697752\n",
       "326  2.732394     3.922777  2.853090  ...  3.009451  2.925312  3.694254\n",
       "327  2.755875     3.846399  3.040207  ...  3.446692  3.122871  3.590396\n",
       "328  2.783904     3.896251  2.326336  ...  2.086360  2.962843  3.671543\n",
       "\n",
       "[329 rows x 9 columns]"
      ]
     },
     "metadata": {
      "tags": []
     },
     "execution_count": 293
    }
   ]
  },
  {
   "cell_type": "code",
   "metadata": {
    "id": "7M4nZhkbLirx",
    "colab_type": "code",
    "colab": {
     "base_uri": "https://localhost:8080/",
     "height": 281
    },
    "outputId": "e3b74e3a-c8b3-4839-f281-8cc3d402b94e"
   },
   "source": [
    "#Center the data\n",
    "X_mean = np.mean(living_condition_df, axis = 0)\n",
    "plt.plot(X_mean)\n",
    "plt.title('Mean of columns of X')\n",
    "plt.show()\n",
    "X = living_condition_df - np.mean(living_condition_df, axis = 0)"
   ],
   "execution_count": 294,
   "outputs": [
    {
     "output_type": "display_data",
     "data": {
      "image/png": "[encoded data removed]",
      "text/plain": [
       "<Figure size 432x288 with 1 Axes>"
      ]
     },
     "metadata": {
      "tags": [],
      "needs_background": "light"
     }
    }
   ]
  },
  {
   "cell_type": "markdown",
   "metadata": {
    "id": "fIIgogfiMX4y",
    "colab_type": "text"
   },
   "source": [
    "Part c - Running PCA on the modified data and performing SVD"
   ]
  },
  {
   "cell_type": "code",
   "metadata": {
    "id": "NZCmYIzeLt5r",
    "colab_type": "code",
    "colab": {
     "base_uri": "https://localhost:8080/",
     "height": 340
    },
    "outputId": "bf23ca44-0c48-40b2-cd21-a795757d5d54"
   },
   "source": [
    "from sklearn.decomposition import PCA\n",
    "\n",
    "pca = PCA(n_components=9)\n",
    "pca.fit_transform(X)\n",
    "print(\"Components:\")\n",
    "print(pca.components_)"
   ],
   "execution_count": 295,
   "outputs": [
    {
     "output_type": "stream",
     "text": [
      "Components:\n",
      "[[ 0.03507288  0.09335159  0.40776448  0.10044536  0.15009714  0.03215319\n",
      "   0.87434057  0.15899622  0.01949418]\n",
      " [ 0.0088782   0.00923057 -0.85853187  0.22042372  0.05920111 -0.06058858\n",
      "   0.30380632  0.33399255  0.0561011 ]\n",
      " [ 0.14087477  0.12884967  0.27605769  0.5926882   0.22089816  0.0081447\n",
      "  -0.36328732  0.58362605  0.12085337]\n",
      " [-0.15274476  0.17838233  0.03516139 -0.72366303  0.12620531  0.00519693\n",
      "  -0.08111571  0.62822609 -0.05216997]\n",
      " [ 0.39751159  0.1753133   0.05032469 -0.01345714 -0.86996951 -0.04779772\n",
      "   0.05506994  0.21328989  0.02965242]\n",
      " [-0.83129501 -0.20905725  0.08967085  0.16401885 -0.37244964 -0.02362804\n",
      "   0.02812147  0.14179906  0.26481279]\n",
      " [-0.0559096   0.6958923  -0.06245284 -0.05553037  0.0724604   0.05738567\n",
      "  -0.0232698  -0.23451524  0.66448592]\n",
      " [-0.31490125  0.61361583 -0.0210358   0.1823479  -0.05714199 -0.20447312\n",
      "  -0.01673991 -0.08353911 -0.66203179]\n",
      " [ 0.06448925 -0.08687702  0.06550333 -0.05421223  0.07183942 -0.97327107\n",
      "   0.00525656 -0.01749472  0.16826376]]\n"
     ],
     "name": "stdout"
    }
   ]
  },
  {
   "cell_type": "markdown",
   "metadata": {
    "id": "-KeqL11dR5Bf",
    "colab_type": "text"
   },
   "source": [
    "Part d"
   ]
  },
  {
   "cell_type": "markdown",
   "metadata": {
    "id": "d1pRSO9JSIJV",
    "colab_type": "text"
   },
   "source": [
    "The two principal components are as follows!"
   ]
  },
  {
   "cell_type": "code",
   "metadata": {
    "id": "AmXcCOdCTFoS",
    "colab_type": "code",
    "colab": {
     "base_uri": "https://localhost:8080/",
     "height": 289
    },
    "outputId": "a6f2141e-6ba8-442d-c972-ef72f2a62004"
   },
   "source": [
    "projected = pca.fit_transform(X)\n",
    "\n",
    "print(\"First two components\")\n",
    "print(\"Component 1 - v1\")\n",
    "print(pca.components_[:,0])\n",
    "print(\"Component 2 - v2\")\n",
    "print(pca.components_[:,1])\n",
    "\n",
    "print(\"Variance/Eigen values experienced by each components\")\n",
    "print(pca.explained_variance_)\n",
    "\n",
    "print(\"The best features the cities correlate with in these 2 components is the one with the highest maintaining variance\")\n",
    "print(\"Component 1:\")\n",
    "print()\n",
    "maxIndex_pc1 = np.argmax(np.sqrt(np.abs(pca.components_[:,0])))\n",
    "print(list(living_condition_df)[maxIndex_pc1+1])\n",
    "\n",
    "print(\"Component 2:\")\n",
    "maxIndex_pc2 = np.argmax(np.sqrt(np.abs(pca.components_[:,1])))\n",
    "print(list(living_condition_df)[maxIndex_pc2+1])"
   ],
   "execution_count": 296,
   "outputs": [
    {
     "output_type": "stream",
     "text": [
      "First two components\n",
      "Component 1 - v1\n",
      "[ 0.03507288  0.0088782   0.14087477 -0.15274476  0.39751159 -0.83129501\n",
      " -0.0559096  -0.31490125  0.06448925]\n",
      "Component 2 - v2\n",
      "[ 0.09335159  0.00923057  0.12884967  0.17838233  0.1753133  -0.20905725\n",
      "  0.6958923   0.61361583 -0.08687702]\n",
      "Variance/Eigen values experienced by each components\n",
      "[0.37746236 0.05105221 0.02791958 0.02296708 0.01677125 0.01195269\n",
      " 0.0084567  0.00393422 0.00179733]\n",
      "The best features the cities correlate with in these 2 components is the one with the highest maintaining variance\n",
      "Component 1:\n",
      "\n",
      "Arts\n",
      "Component 2:\n",
      "Recreat\n"
     ],
     "name": "stdout"
    }
   ]
  },
  {
   "cell_type": "markdown",
   "metadata": {
    "id": "WJpM-DnkToBW",
    "colab_type": "text"
   },
   "source": [
    "\n",
    "\n",
    "*   PC1 - This component can be viewed as a measure of the quality of Arts, Health.\n",
    "*   PC2 - This component can be viewed as a measure of how recreational the location is."
   ]
  },
  {
   "cell_type": "markdown",
   "metadata": {
    "id": "aDIU0vkEVJG1",
    "colab_type": "text"
   },
   "source": [
    "Part e"
   ]
  },
  {
   "cell_type": "code",
   "metadata": {
    "id": "vb4t2m6kVJ7i",
    "colab_type": "code",
    "colab": {
     "base_uri": "https://localhost:8080/",
     "height": 295
    },
    "outputId": "f7fc4191-3a01-4771-dab3-9ffd7b0a5a8d"
   },
   "source": [
    "\n",
    "# Computing scores for the 2 components\n",
    "scores_a_1 = projected[:,0]\n",
    "scores_a_2 = projected[:,1]\n",
    "\n",
    "plt.scatter(scores_a_1, scores_a_2)\n",
    "plt.xlabel('PC1')\n",
    "plt.ylabel('PC2')\n",
    "plt.title('Projection on two principal components')\n",
    "plt.show()\n"
   ],
   "execution_count": 297,
   "outputs": [
    {
     "output_type": "display_data",
     "data": {
      "image/png": "[encoded data removed]",
      "text/plain": [
       "<Figure size 432x288 with 1 Axes>"
      ]
     },
     "metadata": {
      "tags": [],
      "needs_background": "light"
     }
    }
   ]
  },
  {
   "cell_type": "code",
   "metadata": {
    "id": "u42ZOfYi6qeV",
    "colab_type": "code",
    "colab": {
     "base_uri": "https://localhost:8080/",
     "height": 204
    },
    "outputId": "edafe18b-a787-4e15-b894-ce96b8895229"
   },
   "source": [
    "print(\"printing top 10 cities which are outliers\")\n",
    "outlier_cities = []\n",
    "\n",
    "for i, score in enumerate(scores_a_1):\n",
    "  dist = np.sqrt((scores_a_1[i])**2 + (scores_a_2[i])**2)\n",
    "  outlier_cities.append({'city':cities[i], 'dist': dist})\n",
    "\n",
    "maxCity = sorted(outlier_cities, key=lambda city: city['dist'], reverse=True)\n",
    "for i in range(10):\n",
    "  print(maxCity[i]['city'] + \" \" + str(maxCity[i]['dist']))"
   ],
   "execution_count": 298,
   "outputs": [
    {
     "output_type": "stream",
     "text": [
      "printing top 10 cities which are outliers\n",
      "New-York,NY 1.9111419267486547\n",
      "Sharon,PA 1.557948133819192\n",
      "Texarkana,TX-Texarkana,AR 1.530961561875393\n",
      "Chicago,IL 1.4868352946346497\n",
      "Los-Angeles,Long-Beach,CA 1.4618305970139218\n",
      "Sherman-Denison,TX 1.4557070953609403\n",
      "Danville,VA 1.4319207457633791\n",
      "Brownsville-Harlington,TX 1.4226640711684897\n",
      "Boston,MA 1.4147013401210553\n",
      "Joplin,MO 1.4017639900840062\n"
     ],
     "name": "stdout"
    }
   ]
  },
  {
   "cell_type": "markdown",
   "metadata": {
    "id": "QMk4WRY9wFsh",
    "colab_type": "text"
   },
   "source": [
    "Part f - Applying z-score"
   ]
  },
  {
   "cell_type": "code",
   "metadata": {
    "id": "Fmqox2gmeGIX",
    "colab_type": "code",
    "colab": {}
   },
   "source": [
    "#living_condition_df = living_condition_copy.apply(lambda x: x - np.std(living_condition_df_copy['']))\n",
    "from scipy.stats import zscore\n",
    "X_original = X_original.apply(zscore)\n"
   ],
   "execution_count": 0,
   "outputs": []
  },
  {
   "cell_type": "code",
   "metadata": {
    "id": "Ut8fXFE-SSuv",
    "colab_type": "code",
    "colab": {
     "base_uri": "https://localhost:8080/",
     "height": 255
    },
    "outputId": "6c11a700-484a-497f-c301-89c0a2f97fb0"
   },
   "source": [
    "\n",
    "print(X_original)"
   ],
   "execution_count": 300,
   "outputs": [
    {
     "output_type": "stream",
     "text": [
      "      climate  HousingCost  HlthCare  ...      Arts   Recreat      Econ\n",
      "0   -0.147006    -0.901297 -0.947340  ... -0.464893 -0.546646  1.946433\n",
      "1    0.300664    -0.087570  0.469568  ...  0.520604  0.974442 -1.085467\n",
      "2   -0.586386    -0.423054 -0.566902  ... -0.628640 -1.223512 -0.254304\n",
      "3   -0.520064    -0.184142  0.244900  ...  0.324497 -0.283834  0.312735\n",
      "4    0.997040     0.019500  0.666278  ...  0.290194  0.949648  0.186213\n",
      "..        ...          ...       ...  ...       ...       ...       ...\n",
      "324  0.192892     0.154701  0.618348  ... -0.294891 -1.160288 -0.448242\n",
      "325 -0.030943    -0.800525 -0.867458  ... -0.464893  0.364519 -0.498112\n",
      "326  0.010508     0.010262 -0.472042  ... -0.459284 -1.244586 -0.535052\n",
      "327  0.259213    -0.556575 -0.088608  ... -0.076347 -0.643341 -1.506590\n",
      "328  0.574240    -0.197998 -0.972303  ... -0.653450 -1.150371 -0.767778\n",
      "\n",
      "[329 rows x 9 columns]\n"
     ],
     "name": "stdout"
    }
   ]
  },
  {
   "cell_type": "code",
   "metadata": {
    "id": "vf2J8NDrQSAX",
    "colab_type": "code",
    "colab": {
     "base_uri": "https://localhost:8080/",
     "height": 281
    },
    "outputId": "f2358ac8-8ed1-40e5-8f33-21ca53e4bbac"
   },
   "source": [
    "#Center the data\n",
    "X_mean = np.mean(X_original, axis = 0)\n",
    "plt.plot(X_mean)\n",
    "plt.title('Mean of columns of X')\n",
    "plt.show()\n",
    "X_original = X_original - np.mean(X_original, axis = 0)"
   ],
   "execution_count": 301,
   "outputs": [
    {
     "output_type": "display_data",
     "data": {
      "image/png": "[encoded data removed]",
      "text/plain": [
       "<Figure size 432x288 with 1 Axes>"
      ]
     },
     "metadata": {
      "tags": [],
      "needs_background": "light"
     }
    }
   ]
  },
  {
   "cell_type": "markdown",
   "metadata": {
    "id": "Zjef2CC8x3DB",
    "colab_type": "text"
   },
   "source": [
    "Running PCA on X_original"
   ]
  },
  {
   "cell_type": "code",
   "metadata": {
    "id": "nk4bW0oPx49h",
    "colab_type": "code",
    "colab": {
     "base_uri": "https://localhost:8080/",
     "height": 493
    },
    "outputId": "31d65167-a5f7-4ea9-91fb-6b8ce5c07cb3"
   },
   "source": [
    "from sklearn.decomposition import PCA\n",
    "\n",
    "pca_new = PCA(n_components=9)\n",
    "projected = pca_new.fit_transform(X_original)\n",
    "print(\"Components:\")\n",
    "print(pca_new.components_)"
   ],
   "execution_count": 302,
   "outputs": [
    {
     "output_type": "stream",
     "text": [
      "Components:\n",
      "[[ 2.06413954e-01  3.56521608e-01  4.60214647e-01  2.81298380e-01\n",
      "   3.51150781e-01  2.75292636e-01  4.63054489e-01  3.27887907e-01\n",
      "   1.35412251e-01]\n",
      " [ 2.17835308e-01  2.50624000e-01 -2.99465282e-01  3.55342273e-01\n",
      "  -1.79604477e-01 -4.83382093e-01 -1.94789920e-01  3.84474638e-01\n",
      "   4.71283277e-01]\n",
      " [ 6.89955982e-01  2.08172230e-01  7.32492550e-03 -1.85104981e-01\n",
      "  -1.46376283e-01 -2.29702548e-01  2.64842979e-02  5.08526400e-02\n",
      "  -6.07314475e-01]\n",
      " [ 1.37321246e-01  5.11828708e-01  1.47018320e-02 -5.39050473e-01\n",
      "  -3.02903705e-01  3.35411034e-01 -1.01080391e-01 -1.89800816e-01\n",
      "   4.21769940e-01]\n",
      " [-3.69149929e-01  2.33487781e-01 -1.03240518e-01 -5.23939687e-01\n",
      "   4.04348475e-01 -2.08819059e-01 -1.05097637e-01  5.29540576e-01\n",
      "  -1.59620056e-01]\n",
      " [-3.74604694e-01  1.41639825e-01  3.73848037e-01 -8.09232850e-02\n",
      "  -4.67591803e-01 -5.02169811e-01  4.61880719e-01 -8.99157817e-02\n",
      "  -3.26081342e-02]\n",
      " [-8.47057741e-02 -2.30638624e-01  1.38676115e-02  1.86064572e-02\n",
      "  -5.83390970e-01  4.26181860e-01 -2.15251529e-02  6.27877892e-01\n",
      "  -1.49740658e-01]\n",
      " [-3.62308330e-01  6.13855131e-01 -1.85676120e-01  4.30024765e-01\n",
      "  -9.35986618e-02  1.88667565e-01 -2.03989691e-01 -1.50595968e-01\n",
      "  -4.04809255e-01]\n",
      " [ 1.39135150e-03  1.36003402e-02 -7.16354893e-01 -5.86084614e-02\n",
      "   3.62945266e-03  1.10840191e-01  6.85758213e-01 -2.55062915e-02\n",
      "   4.37794248e-04]]\n"
     ],
     "name": "stdout"
    }
   ]
  },
  {
   "cell_type": "code",
   "metadata": {
    "id": "oE0lIQ7px7Zn",
    "colab_type": "code",
    "colab": {
     "base_uri": "https://localhost:8080/",
     "height": 272
    },
    "outputId": "82ff2b1a-88d8-4ec2-a212-d1a39ff675e7"
   },
   "source": [
    "projected = pca_new.fit_transform(X_original)\n",
    "\n",
    "print(\"First two components\")\n",
    "print(\"Component 1 - v1\")\n",
    "print(pca_new.components_[:,0])\n",
    "print(\"Component 2 - v2\")\n",
    "print(pca_new.components_[:,1])\n",
    "\n",
    "\n",
    "print(\"Variance\\eigen values experienced by each components\")\n",
    "print(pca_new.explained_variance_)\n",
    "\n",
    "print(\"The best features the cities correlate with in these 2 components is the one with the highest maintaining variance\")\n",
    "print(\"Component 1:\")\n",
    "maxIndex_pc1 = np.argmax(np.abs(pca_new.components_[:,0]))\n",
    "print(list(living_condition_df)[maxIndex_pc1])\n",
    "\n",
    "print(\"Component 2:\")\n",
    "maxIndex_pc2 = np.argmax(np.abs(pca_new.components_[:,1]))\n",
    "print(list(living_condition_df)[maxIndex_pc2+1])"
   ],
   "execution_count": 303,
   "outputs": [
    {
     "output_type": "stream",
     "text": [
      "First two components\n",
      "Component 1 - v1\n",
      "[ 0.20641395  0.21783531  0.68995598  0.13732125 -0.36914993 -0.37460469\n",
      " -0.08470577 -0.36230833  0.00139135]\n",
      "Component 2 - v2\n",
      "[ 0.35652161  0.250624    0.20817223  0.51182871  0.23348778  0.14163983\n",
      " -0.23063862  0.61385513  0.01360034]\n",
      "Variance\\eigen values experienced by each components\n",
      "[3.41868293 1.21767731 1.14495927 0.9237255  0.75558148 0.63248434\n",
      " 0.49455091 0.31900812 0.12076916]\n",
      "The best features the cities correlate with in these 2 components is the one with the highest maintaining variance\n",
      "Component 1:\n",
      "HlthCare\n",
      "Component 2:\n",
      "Econ\n"
     ],
     "name": "stdout"
    }
   ]
  },
  {
   "cell_type": "markdown",
   "metadata": {
    "id": "CCRDLZxQTS17",
    "colab_type": "text"
   },
   "source": [
    "First Principal Component Analysis - PCA1\n",
    "The first principal component is a measure of the quality of Health and the Arts, and to some extent Housing, Transportation, and Recreation. They are all positively related to PCA1 because they all have positive signs.\n",
    "\n",
    "Second Principal Component Analysis - PCA2\n",
    "The second principal component is a measure of the severity of crime, the quality of the economy, and the lack of quality in education. Here we can see that PCA2 distinguishes cities with high levels of crime and good economies from cities with poor educational systems."
   ]
  },
  {
   "cell_type": "code",
   "metadata": {
    "id": "S8x6ox_Q_HKJ",
    "colab_type": "code",
    "colab": {
     "base_uri": "https://localhost:8080/",
     "height": 295
    },
    "outputId": "542db22f-8786-4eb5-f611-650ecace1882"
   },
   "source": [
    "\n",
    "# Computing scores for the 2 components\n",
    "scores_a_1 = projected[:,0]\n",
    "scores_a_2 = projected[:,1]\n",
    "\n",
    "plt.scatter(scores_a_1, scores_a_2)\n",
    "plt.xlabel('PC1')\n",
    "plt.ylabel('PC2')\n",
    "plt.title('Projection on two principal components')\n",
    "plt.show()"
   ],
   "execution_count": 304,
   "outputs": [
    {
     "output_type": "display_data",
     "data": {
      "image/png": "[encoded data removed]",
      "text/plain": [
       "<Figure size 432x288 with 1 Axes>"
      ]
     },
     "metadata": {
      "tags": [],
      "needs_background": "light"
     }
    }
   ]
  },
  {
   "cell_type": "code",
   "metadata": {
    "id": "xMV4m1DdAJny",
    "colab_type": "code",
    "colab": {
     "base_uri": "https://localhost:8080/",
     "height": 204
    },
    "outputId": "b2348b7f-8eac-4204-faaf-cc363d1ea372"
   },
   "source": [
    "print(\"printing top 10 cities which are outliers, i.e. they are most away from the 2 components\")\n",
    "outlier_cities = []\n",
    "\n",
    "for i, score in enumerate(scores_a_1):\n",
    "  dist = np.sqrt((scores_a_1[i])**2 + (scores_a_2[i])**2)\n",
    "  outlier_cities.append({'city':cities[i], 'dist': dist})\n",
    "\n",
    "maxCity = sorted(outlier_cities, key=lambda city: city['dist'], reverse=True)\n",
    "for i in range(10):\n",
    "  print(maxCity[i]['city'] + \" \" + str(maxCity[i]['dist']))"
   ],
   "execution_count": 305,
   "outputs": [
    {
     "output_type": "stream",
     "text": [
      "printing top 10 cities which are outliers, i.e. they are most away from the 2 components\n",
      "New-York,NY 12.615317739191813\n",
      "San-Francisco,CA 7.503967283005698\n",
      "Los-Angeles,Long-Beach,CA 7.273060872735875\n",
      "Chicago,IL 7.175093043575058\n",
      "Washington,DC-MD-VA 6.598060633939288\n",
      "Boston,MA 6.513087486088499\n",
      "Philadelphia,PA-NJ 5.679072966460826\n",
      "Miami-Hialeah,FL 4.451020228797066\n",
      "Baltimore,MD 4.4117473842107255\n",
      "Seattle,WA 4.2952189036383706\n"
     ],
     "name": "stdout"
    }
   ]
  },
  {
   "cell_type": "code",
   "metadata": {
    "id": "WQjNM9NWAOyL",
    "colab_type": "code",
    "colab": {}
   },
   "source": [
    ""
   ],
   "execution_count": 0,
   "outputs": []
  }
 ]
}