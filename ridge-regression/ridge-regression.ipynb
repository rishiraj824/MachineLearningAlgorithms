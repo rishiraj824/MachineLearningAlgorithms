{
 "cells": [
  {
   "cell_type": "markdown",
   "metadata": {},
   "source": [
    "\n",
    "### This is an example of a basic 10-fold cross validation on the boston housing dataset of sklearn using Ridge-Regression."
   ]
  },
  {
   "cell_type": "code",
   "execution_count": 46,
   "metadata": {},
   "outputs": [],
   "source": [
    "import pandas as pd\n",
    "import numpy as np\n",
    "from sklearn.datasets import load_boston\n",
    "import matplotlib.pyplot as plt\n",
    "from sklearn.linear_model import Ridge\n",
    "from sklearn.model_selection import train_test_split\n",
    "from sklearn.metrics import r2_score\n",
    "from sklearn.preprocessing import Normalizer\n",
    "\n",
    "\n",
    "boston_dataset = load_boston()\n",
    "\n",
    "X = boston_dataset.data \n",
    "\n",
    "transformer = Normalizer().fit(X)\n",
    "\n",
    "transformer.transform(X)\n",
    "\n",
    "y = boston_dataset.target.reshape(-1, 1) # Converting to Column vector "
   ]
  },
  {
   "cell_type": "code",
   "execution_count": 47,
   "metadata": {},
   "outputs": [
    {
     "name": "stdout",
     "output_type": "stream",
     "text": [
      "Cost after iteration 1 - 0.7126916135010682\n",
      "Cost after iteration 2 - 0.6580161986180606\n",
      "Cost after iteration 3 - 0.6593572420098802\n",
      "Cost after iteration 4 - 0.6827689513882875\n",
      "Cost after iteration 5 - 0.7427883698752009\n",
      "Cost after iteration 6 - 0.7037718042199794\n",
      "Cost after iteration 7 - 0.6266438909778318\n",
      "Cost after iteration 8 - 0.7455364640710955\n",
      "Cost after iteration 9 - 0.7291283475880821\n",
      "Cost after iteration 10 - 0.7353142325508967\n",
      "Aggregate R2 Coeff 0.69960\n"
     ]
    }
   ],
   "source": [
    "r2_coeff = []\n",
    "clf = Ridge(alpha=10)\n",
    "for i in range(10):\n",
    "    X_train, X_test, y_train, y_test = train_test_split(X, y, test_size=0.20)\n",
    "    clf.fit(X_train, y_train)\n",
    "    y_predict=clf.predict(X_test)\n",
    "    \n",
    "    RSS = (np.mean((y_test-y_predict)**2)/np.std(y_test)**2)\n",
    "    r2_coeff.append(1-RSS)\n",
    "    print(\"Cost after iteration {} - {}\".format(i+1, 1-RSS))\n",
    "    \n",
    "average_r2 = np.mean(r2_coeff)\n",
    "print(\"Aggregate R2 Coeff {0:.5f}\".format(average_r2))"
   ]
  },
  {
   "cell_type": "code",
   "execution_count": null,
   "metadata": {},
   "outputs": [],
   "source": []
  }
 ],
 "metadata": {
  "kernelspec": {
   "display_name": "Python 3",
   "language": "python",
   "name": "python3"
  },
  "language_info": {
   "codemirror_mode": {
    "name": "ipython",
    "version": 3
   },
   "file_extension": ".py",
   "mimetype": "text/x-python",
   "name": "python",
   "nbconvert_exporter": "python",
   "pygments_lexer": "ipython3",
   "version": "3.7.4-final"
  }
 },
 "nbformat": 4,
 "nbformat_minor": 2
}