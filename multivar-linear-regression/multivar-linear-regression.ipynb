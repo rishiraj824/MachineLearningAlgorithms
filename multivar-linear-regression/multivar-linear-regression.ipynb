{
 "cells": [
  {
   "cell_type": "markdown",
   "source": [
    "The goal of this notebook is to implement multivariate linear regression from scratch using gradient descent and validate it.\n",
    "The algorithm is validated on the glucose dataset discussed in the sklearn repository."
   ],
   "metadata": {
    "collapsed": false,
    "pycharm": {
     "name": "#%% md\n"
    }
   }
  },
  {
   "cell_type": "code",
   "execution_count": 177,
   "metadata": {},
   "outputs": [],
   "source": [
    "import pandas as pd\n",
    "import numpy as np\n",
    "\n",
    "from sklearn import datasets\n",
    "\n",
    "def normalize(X):\n",
    "    X_opt = (X-np.mean(X, axis=0)) / np.std(X, axis=0)\n",
    "    return X_opt\n",
    "\n",
    "diabetes = datasets.load_diabetes()\n",
    "\n",
    "df = pd.DataFrame(diabetes.data, columns=diabetes.feature_names)\n",
    "\n",
    "X = diabetes.data\n",
    "\n",
    "X = normalize(X) \n",
    "\n",
    "\n",
    "y = diabetes.target.reshape(-1, 1) # Converting to Column vector   \n",
    "# Inserting bias feature (x0 = 1) into features for all examples\n",
    "X = np.concatenate((np.ones((X.shape[0],1)), X), axis=1)"
   ]
  },
  {
   "cell_type": "markdown",
   "metadata": {},
   "source": [
    "### Creating a test train split"
   ]
  },
  {
   "cell_type": "code",
   "execution_count": 178,
   "metadata": {},
   "outputs": [],
   "source": [
    "idx = np.random.permutation(range(len(y)))\n",
    "ratio_for_split = 0.8\n",
    "split_index = int(X.shape[0]*ratio_for_split)\n",
    "\n",
    "## training set\n",
    "X_train, y_train = X[idx[:split_index]], y[idx[:split_index]]\n",
    "\n",
    "## test set\n",
    "X_test, y_test = X[idx[split_index:]], y[idx[split_index:]]"
   ]
  },
  {
   "cell_type": "code",
   "execution_count": 179,
   "metadata": {},
   "outputs": [],
   "source": [
    "class MultivariateLinearRegression:\n",
    "    def __init__(self, dimensions, alpha, epochs):\n",
    "        # intialize weights\n",
    "        self.w = np.zeros((dimensions, 1))\n",
    "        self.alpha = alpha # Learning rate\n",
    "        self.epochs = epochs # Iterations/epochs T\n",
    "        # Cost function values during the training\n",
    "        self.costs_train = []\n",
    "    \n",
    "    def fit(self, X, y):\n",
    "        for epoch in np.arange(1, self.epochs+1):\n",
    "            \n",
    "            # Predictions\n",
    "            preds = self.predict(X)\n",
    "            \n",
    "            # Costs\n",
    "            cost_value = self.cost(preds, y)        \n",
    "\n",
    "            # Storing the costs\n",
    "            self.costs_train.append(cost_value)\n",
    "            \n",
    "            # Finding the Derivatives\n",
    "            dw = (1/X.shape[0]) * np.matmul(X.T , (preds - y))\n",
    "            # Updating parameters\n",
    "            self.update(dw)    \n",
    "        return preds\n",
    "            \n",
    "    def update(self, dw):\n",
    "        self.w -= self.alpha * dw\n",
    "        \n",
    "    # Model prediction\n",
    "    def predict(self, X):\n",
    "        preds = np.matmul(X, self.w)\n",
    "        return preds\n",
    "    \n",
    "    def get_parameters(self):\n",
    "        return self.w\n",
    "    \n",
    "    def cost(self, preds, y):\n",
    "        Cost = (1/2) * np.mean( np.power( np.sum(preds-y), 2 ) )\n",
    "        return Cost"
   ]
  },
  {
   "cell_type": "markdown",
   "metadata": {},
   "source": [
    "### Setting the `dimensions`, learning rate `alpha` and the `epochs`.\n",
    "\n",
    "Note: Using the complete training set"
   ]
  },
  {
   "cell_type": "code",
   "execution_count": 180,
   "metadata": {},
   "outputs": [],
   "source": [
    "model = MultivariateLinearRegression(X.shape[1], 0.06, 80)"
   ]
  },
  {
   "cell_type": "code",
   "execution_count": 181,
   "metadata": {},
   "outputs": [],
   "source": [
    "predictions = model.fit(X, y)\n",
    "updated_parameters = model.get_parameters()"
   ]
  },
  {
   "cell_type": "code",
   "execution_count": 182,
   "metadata": {},
   "outputs": [
    {
     "data": {
      "text/plain": [
       "(442, 1)"
      ]
     },
     "execution_count": 182,
     "metadata": {},
     "output_type": "execute_result"
    }
   ],
   "source": [
    "# sanity check\n",
    "predictions.shape"
   ]
  },
  {
   "cell_type": "code",
   "execution_count": 183,
   "metadata": {},
   "outputs": [
    {
     "data": {
      "text/plain": [
       "(442, 1)"
      ]
     },
     "execution_count": 183,
     "metadata": {},
     "output_type": "execute_result"
    }
   ],
   "source": [
    "y.shape"
   ]
  },
  {
   "cell_type": "code",
   "execution_count": 184,
   "metadata": {},
   "outputs": [
    {
     "name": "stdout",
     "output_type": "stream",
     "text": [
      "MSE is  2882.453840763284\n",
      "R^2 is  0.5139106591655576\n"
     ]
    }
   ],
   "source": [
    "MSE = np.mean((y-predictions)**2)\n",
    "RSS = MSE/(np.std(y)**2)\n",
    "print(\"MSE is \", MSE)\n",
    "\n",
    "Rsq = 1 - RSS\n",
    "print(\"R^2 is \", Rsq)"
   ]
  },
  {
   "cell_type": "markdown",
   "metadata": {},
   "source": [
    "### Using the test train split"
   ]
  },
  {
   "cell_type": "code",
   "execution_count": 185,
   "metadata": {},
   "outputs": [],
   "source": [
    "model_with_split = MultivariateLinearRegression(X_train.shape[1], 0.06, 100)"
   ]
  },
  {
   "cell_type": "markdown",
   "metadata": {},
   "source": [
    "### Verifying with the `model_with_split` on the test data"
   ]
  },
  {
   "cell_type": "code",
   "execution_count": 186,
   "metadata": {},
   "outputs": [],
   "source": [
    "predictions_with_split = model_with_split.fit(X_test, y_test)\n",
    "updated_parameters_with_split = model_with_split.get_parameters()"
   ]
  },
  {
   "cell_type": "code",
   "execution_count": 187,
   "metadata": {},
   "outputs": [
    {
     "name": "stdout",
     "output_type": "stream",
     "text": [
      "MSE is  3460.5842541494626\n",
      "R^2 is  0.4869385698893116\n"
     ]
    }
   ],
   "source": [
    "MSE_with_split = np.mean((y_test-predictions_with_split)**2)\n",
    "RSS_with_split = MSE_with_split/(np.std(y_test)**2)\n",
    "print(\"MSE is \", MSE_with_split)\n",
    "\n",
    "Rsq_with_split = 1 - RSS_with_split\n",
    "print(\"R^2 is \", Rsq_with_split)"
   ]
  },
  {
   "cell_type": "markdown",
   "metadata": {},
   "source": [
    "## Scikit Learn Validation of MSE Score"
   ]
  },
  {
   "cell_type": "code",
   "execution_count": 188,
   "metadata": {},
   "outputs": [],
   "source": [
    "from sklearn.metrics import mean_squared_error, r2_score\n",
    "\n",
    "from sklearn.linear_model import LinearRegression"
   ]
  },
  {
   "cell_type": "code",
   "execution_count": 189,
   "metadata": {},
   "outputs": [
    {
     "data": {
      "text/plain": [
       "LinearRegression(copy_X=True, fit_intercept=True, n_jobs=None, normalize=False)"
      ]
     },
     "execution_count": 189,
     "metadata": {},
     "output_type": "execute_result"
    }
   ],
   "source": [
    "reg = LinearRegression()\n",
    "reg.fit(X, y)"
   ]
  },
  {
   "cell_type": "code",
   "execution_count": 190,
   "metadata": {
    "scrolled": true,
    "pycharm": {
     "name": "#%%\n"
    }
   },
   "outputs": [
    {
     "name": "stdout",
     "output_type": "stream",
     "text": [
      "MSE:  2882.453840763284\n",
      "R2 score:  0.5139106591655576\n"
     ]
    }
   ],
   "source": [
    "print(\"MSE: \", mean_squared_error(y, predictions))\n",
    "print(\"R2 score: \", r2_score(y, predictions))"
   ]
  }
 ],
 "metadata": {
  "kernelspec": {
   "display_name": "Python 3",
   "language": "python",
   "name": "python3"
  },
  "language_info": {
   "codemirror_mode": {
    "name": "ipython",
    "version": 3
   },
   "file_extension": ".py",
   "mimetype": "text/x-python",
   "name": "python",
   "nbconvert_exporter": "python",
   "pygments_lexer": "ipython3",
   "version": "3.7.3"
  },
  "pycharm": {
   "stem_cell": {
    "cell_type": "raw",
    "source": [],
    "metadata": {
     "collapsed": false
    }
   }
  }
 },
 "nbformat": 4,
 "nbformat_minor": 4
}