{
 "nbformat": 4,
 "nbformat_minor": 0,
 "metadata": {
  "colab": {
   "name": "Homework_6.ipynb",
   "provenance": [],
   "collapsed_sections": []
  },
  "kernelspec": {
   "name": "python3",
   "display_name": "Python 3"
  },
  "pycharm": {
   "stem_cell": {
    "cell_type": "raw",
    "source": [],
    "metadata": {
     "collapsed": false
    }
   }
  }
 },
 "cells": [
  {
   "cell_type": "markdown",
   "metadata": {
    "id": "OhZH_KNbM_lc",
    "colab_type": "text"
   },
   "source": [
    "We use the senator voting data to separate out the data into possible clusters. \n",
    "\n"
   ]
  },
  {
   "cell_type": "markdown",
   "metadata": {
    "id": "FDkj5OOOahc3",
    "colab_type": "text"
   },
   "source": [
    "Load data"
   ]
  },
  {
   "cell_type": "code",
   "metadata": {
    "id": "a1-bjPDGaxii",
    "colab_type": "code",
    "colab": {
     "base_uri": "https://localhost:8080/",
     "height": 54
    },
    "outputId": "5164a9ed-41f2-4c49-aeaa-0b008384d3e3"
   },
   "source": [
    "url_votes = 'https://raw.githubusercontent.com/exemplary-citizen/PCA-and-Senate-Voting-Data/master/senator_pca_problem/senator_data_pca/'\n",
    "senator_df =  pd.read_csv(url_votes + 'data_matrix.csv',error_bad_lines=False)\n",
    "af = pd.read_csv(url_votes + 'politician_labels.txt', header=None)\n",
    "af[\"affiliations\"] = af[0].str.split().str[-1]\n",
    "senators = list(senator_df)[3:]\n",
    "print(senators)"
   ],
   "execution_count": 256,
   "outputs": [
    {
     "output_type": "stream",
     "text": [
      "[' Arlen Specter (PA)', ' Barack H. Obama (IL)', ' BarbaraA Mikulski(MD)', ' BarbaraBoxer(CA)', ' Bill Nelson(FL)', ' BlancheL.Lincoln(AR)', ' ByronL.Dorgan(ND)', ' C.SaxbyChambliss(GA)', ' CarlLevin(MI)', \" CharlesE.'Chuck' Grassley(IA)\", \" CharlesE.'Chuck'Schumer(NY)\", \" CharlesT.'Chuck' Hagel(NE)\", ' ChristopherJ.Dodd(CT)', \" ChristopherS.'Kit'Bond(MO)\", ' ConradR.Burns(MT)', ' CraigThomas(WY)', ' DanielK.Inouye(HI)', ' DanielKahikinaAkaka(HI)', ' DavidB.Vitter (LA)', ' DebbieAnnStabenow(MI)', ' DianneFeinstein(CA)', \" E. Benjamin'Ben'Nelson(NE)\", \" EdwardM.'Ted'Kennedy(MA)\", ' ElizabethH.Dole(NC)', ' EvanBayh(IN)', ' FrankR.Lautenberg(NJ)', ' GeorgeFelixAllen(VA)', ' GeorgeV.Voinovich(OH)', ' GordonHaroldSmith(OR)', ' HarryM.Reid(NV)', \" HerbertH.’Herb'Kohl(WI)\", ' HillaryRodhamClinton(NY)', \" JamesM.'Jim'Inhofe(OK)\", \" JamesM.'Jim'Talent(MO)\", \" JamesMerrill'Jim'Jeffords(VT)\", ' JeffBingaman(NM)', \" JeffersonB.'Jeff'SessionsIII(AL)\", ' JimBunning(KY)', ' JimW.DeMint(SC)', ' JohnCornyn(TX)', \" JohnD.'Jay'RockefellerIV(WV)\", ' JohnE.Sununu(NH)', ' JohnEricEnsign(NV)', \" JohnF.'Jack'Reed(RI)\", ' JohnForbesKerry(MA)', \" JohnH.'Johnny'Isakson(GA)\", ' JohnR.Thune(SD)', ' JohnS.McCain(AZ)', ' JohnW.Warner(VA)', ' JonKyl(AZ)', ' JosephI.Lieberman(CT)', ' JosephR.BidenJr.(DE)', ' JuddA.Gregg(NH)', ' KayBaileyHutchison(TX)', ' KenSalazar(CO)', ' KentConrad(ND)', ' LamarAlexander(TN)', ' LarryE.Craig(ID)', ' Lincoln D. Chafee(RI)', ' LindseyO.Graham(SC)', ' LisaA.Murkowski(AK)', ' MariaCantwell(WA)', ' MarkDayton(MN)', ' MarkPryor(AR)', ' MaryL.Landrieu(LA)', ' MaxS.Baucus(MT)', ' MelMartinez(FL)', ' MichaelB.Enzi(WY)', \" MichaelD.'Mike'Crapo(ID)\", \" Michael'Mike'DeWine(OH)\", ' MitchMcConnell(KY)', ' NormColeman(MN)', ' OlympiaJ.Snowe(ME)', ' OrrinG.Hatch(UT)', ' PatRoberts(KS)', ' PatrickJ.Leahy(VT)', ' PattyMurray(WA)', ' PaulS.Sarbanes(MD)', ' PeteV.Domenici(NM)', ' RichardC.Shelby(AL)', ' RichardG.Lugar(IN)', \" RichardJ.'Dick'Durbin(IL)\", \" RichardJ.'Rick'Santorum(PA)\", ' RichardM.Burr(NC)', ' RobertC.Byrd(WV)', ' RobertF.Bennett(UT)', ' RobertMenendez(NJ)', ' RonWyden(OR)', ' RussellD.Feingold (WI)', \" SamuelD.'Sam'Brownback(KS)\", ' SusanM.Collins(ME)', ' TedStevens(AK)', ' ThadCochran(MS)', \" ThomasAllen'Tom'Coburn(OK)\", ' ThomasRichardCarper(DE)', \" Thomas'Tom'Harkin(IA)\", ' TimP.Johnson(SD)', ' TrentLott(MS)', ' WayneA.Allard(CO)', \" WilliamH.'Bill'Frist(TN)\"]\n"
     ],
     "name": "stdout"
    }
   ]
  },
  {
   "cell_type": "code",
   "metadata": {
    "id": "suOdtuF9as_3",
    "colab_type": "code",
    "colab": {}
   },
   "source": [
    "X = np.array(senator_df.values[:, 3:].T, dtype='float64') #transpose to get senators as rows"
   ],
   "execution_count": 0,
   "outputs": []
  },
  {
   "cell_type": "markdown",
   "metadata": {
    "id": "0VwBx-BB1dOH",
    "colab_type": "text"
   },
   "source": [
    "Red is labeled as 1 and Blue as 0"
   ]
  },
  {
   "cell_type": "code",
   "metadata": {
    "id": "DxPFtO0hbQ72",
    "colab_type": "code",
    "outputId": "dc4d6e48-e0aa-49f6-c07d-660624151800",
    "colab": {
     "base_uri": "https://localhost:8080/",
     "height": 54
    }
   },
   "source": [
    "typical_row = X[0,:]\n",
    "affiliations = af[\"affiliations\"]\n",
    "def convertLabel(label):\n",
    "  if label == 'Red':\n",
    "    return 1\n",
    "  else:\n",
    "    return 0\n",
    "new_af = list(map(convertLabel, affiliations))\n",
    "print(new_af)"
   ],
   "execution_count": 258,
   "outputs": [
    {
     "output_type": "stream",
     "text": [
      "[1, 0, 0, 0, 0, 0, 0, 1, 0, 1, 0, 1, 0, 1, 1, 1, 0, 0, 1, 0, 0, 0, 0, 1, 0, 0, 1, 1, 1, 0, 0, 0, 1, 1, 0, 0, 1, 1, 1, 1, 0, 1, 1, 0, 0, 1, 1, 1, 1, 1, 0, 0, 1, 1, 0, 0, 1, 1, 1, 1, 1, 0, 0, 0, 0, 0, 1, 1, 1, 1, 1, 1, 1, 1, 1, 0, 0, 0, 1, 1, 1, 0, 1, 1, 0, 1, 0, 0, 0, 1, 1, 1, 1, 1, 0, 0, 0, 1, 1, 1]\n"
     ],
     "name": "stdout"
    }
   ]
  },
  {
   "cell_type": "code",
   "metadata": {
    "id": "uaT1nRNKajrh",
    "colab_type": "code",
    "outputId": "9aa664ad-769a-41ad-997f-d2d7fde75a69",
    "colab": {
     "base_uri": "https://localhost:8080/",
     "height": 54
    }
   },
   "source": [
    "from sklearn.cluster import KMeans\n",
    "kmeans = KMeans(2)\n",
    "classifier = kmeans.fit(X)\n",
    "labels = classifier.labels_\n",
    "print(labels.tolist())"
   ],
   "execution_count": 259,
   "outputs": [
    {
     "output_type": "stream",
     "text": [
      "[1, 0, 0, 0, 0, 0, 0, 1, 0, 1, 0, 1, 0, 1, 1, 1, 0, 0, 1, 0, 0, 1, 0, 1, 0, 0, 1, 1, 1, 0, 0, 0, 1, 1, 0, 0, 1, 1, 1, 1, 0, 1, 1, 0, 0, 1, 1, 1, 1, 1, 0, 0, 1, 1, 0, 0, 1, 1, 0, 1, 1, 0, 0, 0, 0, 0, 1, 1, 1, 1, 1, 1, 1, 1, 1, 0, 0, 0, 1, 1, 1, 0, 1, 1, 0, 1, 0, 0, 0, 1, 1, 1, 1, 1, 0, 0, 0, 1, 1, 1]\n"
     ],
     "name": "stdout"
    }
   ]
  },
  {
   "cell_type": "code",
   "metadata": {
    "id": "wAdPTz7uxFhB",
    "colab_type": "code",
    "colab": {
     "base_uri": "https://localhost:8080/",
     "height": 319
    },
    "outputId": "56caa1c5-14a8-464f-c92a-813587b4c490"
   },
   "source": [
    "# Visual of the centers and the data\n",
    "\n",
    "print(\"Centers of the Clusters marked in red\")\n",
    "plt.scatter(X[:,0], X[:,1])\n",
    "plt.scatter(kmeans.cluster_centers_[:,0], kmeans.cluster_centers_[:,1])\n",
    "plt.show()\n",
    "\n",
    "y_true = new_af\n",
    "y_pred = labels.tolist()\n",
    "mispredictions = np.array(y_true) - labels\n",
    "\n",
    "cluster_centers = classifier.cluster_centers_;\n",
    "for i, label in enumerate(mispredictions):\n",
    "  if label == 1 or label == -1:\n",
    "    color = \"Red\" if labels[i]==1 else \"Blue\"\n",
    "    print(senators[i] +\" was mispredicted as \" + color)"
   ],
   "execution_count": 278,
   "outputs": [
    {
     "output_type": "stream",
     "text": [
      "Centers of the Clusters marked in red\n"
     ],
     "name": "stdout"
    },
    {
     "output_type": "display_data",
     "data": {
      "image/png": "[encoded data removed]",
      "text/plain": [
       "<Figure size 432x288 with 1 Axes>"
      ]
     },
     "metadata": {
      "tags": []
     }
    },
    {
     "output_type": "stream",
     "text": [
      " E. Benjamin'Ben'Nelson(NE) was mispredicted as Red\n",
      " Lincoln D. Chafee(RI) was mispredicted as Blue\n"
     ],
     "name": "stdout"
    }
   ]
  },
  {
   "cell_type": "markdown",
   "metadata": {
    "id": "nKK8Bbf5agus",
    "colab_type": "text"
   },
   "source": [
    "The mispredictions were because the centers of the clusters were at a closer euclidean distance from these data points and thus they were misclassified."
   ]
  },
  {
   "cell_type": "markdown",
   "metadata": {
    "id": "1YJ0M_9_mLNF",
    "colab_type": "text",
    "pycharm": {
     "name": "#%% md\n"
    }
   },
   "source": []
  }
 ]
}