{
 "cells": [
  {
   "cell_type": "code",
   "execution_count": 0,
   "metadata": {
    "colab": {},
    "colab_type": "code",
    "id": "jHV-tUHLVgiV"
   },
   "outputs": [],
   "source": [
    "import pandas as pd\n",
    "import numpy as np\n",
    "import matplotlib.pyplot as plt\n",
    "from sklearn.model_selection import train_test_split\n",
    "from sklearn.metrics import r2_score\n",
    "from sklearn.preprocessing import Normalizer\n",
    "\n",
    "import matplotlib.pyplot as plt\n"
   ]
  },
  {
   "cell_type": "markdown",
   "metadata": {
    "colab_type": "text",
    "id": "UOWG4vY_GiPg"
   },
   "source": [
    "Part a)"
   ]
  },
  {
   "cell_type": "code",
   "execution_count": 0,
   "metadata": {
    "colab": {},
    "colab_type": "code",
    "id": "11xc_3VIVgiZ"
   },
   "outputs": [],
   "source": [
    "mean_cluster_one = [0.5,0.5]\n",
    "mean_cluster_two = [-0.5,-0.5]\n",
    "\n",
    "cov = [[0.05,0],[0,0.05]]\n",
    "\n",
    "# getting random gaussian points from the computed mean and covariance\n",
    "cluster_one = np.random.multivariate_normal(mean_cluster_one, cov, (100,1))\n",
    "cluster_two = np.random.multivariate_normal(mean_cluster_two, cov, (100,1))\n"
   ]
  },
  {
   "cell_type": "code",
   "execution_count": 6,
   "metadata": {
    "colab": {
     "base_uri": "https://localhost:8080/",
     "height": 334
    },
    "colab_type": "code",
    "id": "6HSQp0sNVgic",
    "outputId": "d8f58a47-c06e-4cd5-9cee-5c29ccaa7331"
   },
   "outputs": [
    {
     "data": {
      "image/png": "[encoded data removed]",
      "text/plain": [
       "<Figure size 432x288 with 1 Axes>"
      ]
     },
     "metadata": {
      "tags": []
     },
     "output_type": "display_data"
    },
    {
     "name": "stdout",
     "output_type": "stream",
     "text": [
      "(200, 2)\n",
      "(200, 1)\n",
      "(160, 2)\n",
      "(160, 1)\n"
     ]
    }
   ],
   "source": [
    "#showing scatter plot of clusters\n",
    "x_one, y_one = cluster_one.T\n",
    "x_two, y_two = cluster_two.T\n",
    "\n",
    "y_label_one = [1]*100\n",
    "y_label_two = [-1]*100\n",
    "\n",
    "plt.scatter(x_one,y_one,c='red')\n",
    "plt.scatter(x_two, y_two,c='blue')\n",
    "plt.show()\n",
    "\n",
    "#preparing data\n",
    "\n",
    "X=np.concatenate((cluster_one, cluster_two),axis=0).reshape(200,2)\n",
    "y=np.concatenate((y_label_one, y_label_two),axis=0).reshape(200,1)\n",
    "\n",
    "# sanity check\n",
    "print(X.shape)\n",
    "print(y.shape)\n",
    "\n",
    "# Dividing into test train split\n",
    "X_train, X_test, y_train, y_test = train_test_split(\n",
    "    X, y, test_size=0.20)\n",
    "\n",
    "print(X_train.shape)\n",
    "print(y_train.shape)"
   ]
  },
  {
   "cell_type": "code",
   "execution_count": 0,
   "metadata": {
    "colab": {},
    "colab_type": "code",
    "id": "5CTHwUutVgif"
   },
   "outputs": [],
   "source": [
    "class Perceptron:\n",
    "    def __init__(self, dimensions, alpha, epochs):\n",
    "        # intialize weights\n",
    "        self.w = np.zeros((dimensions, 1))\n",
    "        self.epochs = epochs # Iterations/epochs T\n",
    "        self.alpha = alpha\n",
    "        self.preds = np.matmul(X, self.w)\n",
    "\n",
    "    def model(self, x):\n",
    "      return [1] if (np.dot(self.w.T, np.reshape(x, newshape=(2,1)))[0][0] >= 0) else [-1]\n",
    "\n",
    "    def minimumLoss(self, preds, y):\n",
    "      cost = 0\n",
    "      for i, pred in enumerate(preds):\n",
    "        cost = cost + (pred[0] - y[i][0])**2\n",
    "\n",
    "      if cost == 0:\n",
    "        return True\n",
    "      else:\n",
    "        return False\n",
    "\n",
    "    def fit(self, X, Y):\n",
    "        epochForConverge = 0\n",
    "        for epoch in range(self.epochs):\n",
    "          predictions = []\n",
    "          epochForConverge += 1\n",
    "          # Predictions for every x_i\n",
    "          for x, y in zip(X, Y):\n",
    "            y_pred = self.model(x)\n",
    "\n",
    "            # add to prediction array\n",
    "            predictions.append(y_pred)\n",
    "            self.w = self.w + self.alpha * (y[0] - y_pred[0]) * np.reshape(x, newshape=(2,1))\n",
    "\n",
    "          # save the epoch when there is no loss, i.e. all predictions are correct\n",
    "          if self.minimumLoss(predictions, Y) == True:\n",
    "            break\n",
    "          \n",
    "        return self.w, epochForConverge\n",
    "        \n",
    "    # Model prediction    \n",
    "    def predict(self, X):\n",
    "      Y = []\n",
    "      for x in X:\n",
    "        result = self.model(x)\n",
    "        Y.append(result)\n",
    "      return np.array(Y)"
   ]
  },
  {
   "cell_type": "markdown",
   "metadata": {
    "colab_type": "text",
    "id": "VnKGFg-DGvny"
   },
   "source": [
    "Part b)"
   ]
  },
  {
   "cell_type": "code",
   "execution_count": 104,
   "metadata": {
    "colab": {
     "base_uri": "https://localhost:8080/",
     "height": 68
    },
    "colab_type": "code",
    "id": "CeIEGAkqVgii",
    "outputId": "0dbd2ff7-5ad7-4fa9-f235-5f8126d82faa"
   },
   "outputs": [
    {
     "name": "stdout",
     "output_type": "stream",
     "text": [
      "[[0.68638802]\n",
      " [1.19931823]]\n",
      "No. of  epochs to to converge 2\n"
     ]
    }
   ],
   "source": [
    "clf = Perceptron(X_train.shape[1], 1, 100)\n",
    "weights, epochs = clf.fit(X_train, y_train)\n",
    "print(weights)\n",
    "print(\"No. of  epochs to to converge\", epochs)"
   ]
  },
  {
   "cell_type": "code",
   "execution_count": 105,
   "metadata": {
    "colab": {
     "base_uri": "https://localhost:8080/",
     "height": 266
    },
    "colab_type": "code",
    "id": "IWDlMwnyDBK2",
    "outputId": "2d261b58-c355-4efc-d07b-acaae7141dc9"
   },
   "outputs": [
    {
     "data": {
      "image/png": "[encoded data removed]",
      "text/plain": [
       "<Figure size 432x288 with 1 Axes>"
      ]
     },
     "metadata": {
      "tags": []
     },
     "output_type": "display_data"
    }
   ],
   "source": [
    "x_values = [np.max(cluster_one), np.min(cluster_two)]\n",
    "y_values_gd = - (np.dot(weights[0][0], x_values)) / weights[1][0]\n",
    "plt.plot(x_values, y_values_gd, c='pink')\n",
    "\n",
    "plt.scatter(x_one,y_one,c='red')\n",
    "plt.scatter(x_two, y_two,c='blue')\n",
    "plt.show()"
   ]
  },
  {
   "cell_type": "markdown",
   "metadata": {
    "colab_type": "text",
    "id": "P2DWU23NGnQV"
   },
   "source": [
    "Part c) Increasing variance of data to **[[0.1,0],[0,0.1]]** and running the perceptron algorithm."
   ]
  },
  {
   "cell_type": "code",
   "execution_count": 0,
   "metadata": {
    "colab": {},
    "colab_type": "code",
    "id": "CUw3QrppGphP"
   },
   "outputs": [],
   "source": [
    "mean_cluster_one = [0.5,0.5]\n",
    "mean_cluster_two = [-0.5,-0.5]\n",
    "\n",
    "cov_new = [[0.1,0],[0,0.1]]\n",
    "\n",
    "# getting random gaussian points from the computed mean and covariance\n",
    "cluster_one_new = np.random.multivariate_normal(mean_cluster_one, cov_new, (100,1))\n",
    "cluster_two_new = np.random.multivariate_normal(mean_cluster_two, cov_new, (100,1))"
   ]
  },
  {
   "cell_type": "code",
   "execution_count": 107,
   "metadata": {
    "colab": {
     "base_uri": "https://localhost:8080/",
     "height": 333
    },
    "colab_type": "code",
    "id": "6OM89SAzGyRT",
    "outputId": "08eed146-cf34-49da-b318-9415fb8cbc9a"
   },
   "outputs": [
    {
     "data": {
      "image/png": "[encoded data removed]",
      "text/plain": [
       "<Figure size 432x288 with 1 Axes>"
      ]
     },
     "metadata": {
      "tags": []
     },
     "output_type": "display_data"
    },
    {
     "name": "stdout",
     "output_type": "stream",
     "text": [
      "(200, 2)\n",
      "(200, 1)\n",
      "(160, 2)\n",
      "(160, 1)\n"
     ]
    }
   ],
   "source": [
    "#showing scatter plot of the new clusters\n",
    "x_one_new, y_one_new = cluster_one_new.T\n",
    "x_two_new, y_two_new = cluster_two_new.T\n",
    "\n",
    "y_label_one_new = [1]*100\n",
    "y_label_two_new = [-1]*100\n",
    "\n",
    "plt.scatter(x_one_new, y_one_new,c='red')\n",
    "plt.scatter(x_two_new, y_two_new,c='blue')\n",
    "plt.show()\n",
    "\n",
    "#preparing data\n",
    "\n",
    "X_new=np.concatenate((cluster_one_new, cluster_two_new),axis=0).reshape(200,2)\n",
    "y_new=np.concatenate((y_label_one_new, y_label_two_new),axis=0).reshape(200,1)\n",
    "\n",
    "# sanity check\n",
    "print(X_new.shape)\n",
    "print(y_new.shape)\n",
    "\n",
    "# Dividing into test train split\n",
    "X_train_new, X_test_new, y_train_new, y_test_new = train_test_split(\n",
    "    X_new, y_new, test_size=0.20)\n",
    "\n",
    "print(X_train_new.shape)\n",
    "print(y_train_new.shape)"
   ]
  },
  {
   "cell_type": "code",
   "execution_count": 108,
   "metadata": {
    "colab": {
     "base_uri": "https://localhost:8080/",
     "height": 85
    },
    "colab_type": "code",
    "id": "RfG0bLo7G6Pe",
    "outputId": "84a0d75f-3465-4e59-b1a9-b9f6169c9d6c"
   },
   "outputs": [
    {
     "name": "stdout",
     "output_type": "stream",
     "text": [
      "Loss is False\n",
      "No. of  epochs to to converge 100\n",
      "[[1.20602783]\n",
      " [0.50073356]]\n"
     ]
    }
   ],
   "source": [
    "clf_new = Perceptron(X_train_new.shape[1], 1, 100)\n",
    "weights_new, epochs_new = clf_new.fit(X_train_new, y_train_new)\n",
    "predictions_new = clf_new.predict(X_test_new)\n",
    "\n",
    "print(\"No. of  epochs to to converge\", epochs_new)\n",
    "\n",
    "print(weights_new)"
   ]
  },
  {
   "cell_type": "markdown",
   "metadata": {
    "colab_type": "text",
    "id": "yZvkOsnyMji5"
   },
   "source": [
    "It did not converge, since the iterations passed 100 it stopped. We do have misclassified results. We can see that from the graph below and the loss function results above."
   ]
  },
  {
   "cell_type": "code",
   "execution_count": 109,
   "metadata": {
    "colab": {
     "base_uri": "https://localhost:8080/",
     "height": 265
    },
    "colab_type": "code",
    "id": "hKGVVL01HJ6B",
    "outputId": "545c7758-b489-4e39-8665-4f4694fb6400"
   },
   "outputs": [
    {
     "data": {
      "image/png": "[encoded data removed]",
      "text/plain": [
       "<Figure size 432x288 with 1 Axes>"
      ]
     },
     "metadata": {
      "tags": []
     },
     "output_type": "display_data"
    }
   ],
   "source": [
    "x_values_new = [np.max(cluster_one_new), np.min(cluster_two_new)]\n",
    "y_values_new = - (np.dot(weights_new[0][0], x_values_new)) / weights_new[1][0]\n",
    "plt.plot(x_values_new, y_values_new, c='pink')\n",
    "\n",
    "plt.scatter(x_one_new, y_one_new,c='red')\n",
    "plt.scatter(x_two_new, y_two_new,c='blue')\n",
    "plt.show()"
   ]
  },
  {
   "cell_type": "markdown",
   "metadata": {
    "colab_type": "text",
    "id": "r3LzzXdaVgil"
   },
   "source": [
    "### Question 4"
   ]
  },
  {
   "cell_type": "code",
   "execution_count": 110,
   "metadata": {
    "colab": {
     "base_uri": "https://localhost:8080/",
     "height": 153
    },
    "colab_type": "code",
    "id": "VvmPgp1yVgil",
    "outputId": "799eb739-b375-4959-b50a-13064b7a72df"
   },
   "outputs": [
    {
     "name": "stdout",
     "output_type": "stream",
     "text": [
      "Downloading data from https://storage.googleapis.com/tensorflow/tf-keras-datasets/train-labels-idx1-ubyte.gz\n",
      "32768/29515 [=================================] - 0s 0us/step\n",
      "Downloading data from https://storage.googleapis.com/tensorflow/tf-keras-datasets/train-images-idx3-ubyte.gz\n",
      "26427392/26421880 [==============================] - 0s 0us/step\n",
      "Downloading data from https://storage.googleapis.com/tensorflow/tf-keras-datasets/t10k-labels-idx1-ubyte.gz\n",
      "8192/5148 [===============================================] - 0s 0us/step\n",
      "Downloading data from https://storage.googleapis.com/tensorflow/tf-keras-datasets/t10k-images-idx3-ubyte.gz\n",
      "4423680/4422102 [==============================] - 0s 0us/step\n"
     ]
    }
   ],
   "source": [
    "import tensorflow as tf\n",
    "from tensorflow import keras\n",
    "\n",
    "fashion_mnist = keras.datasets.fashion_mnist\n",
    "((trainX, trainY), (testX, testY)) = fashion_mnist.load_data()"
   ]
  },
  {
   "cell_type": "code",
   "execution_count": 111,
   "metadata": {
    "colab": {
     "base_uri": "https://localhost:8080/",
     "height": 34
    },
    "colab_type": "code",
    "id": "zeK7sCiAVgio",
    "outputId": "e3127a73-0c52-4b62-806d-59926f8699b8"
   },
   "outputs": [
    {
     "data": {
      "text/plain": [
       "<module 'tensorflow.keras.datasets.fashion_mnist' from '/usr/local/lib/python3.6/dist-packages/tensorflow/keras/datasets/fashion_mnist/__init__.py'>"
      ]
     },
     "execution_count": 111,
     "metadata": {
      "tags": []
     },
     "output_type": "execute_result"
    }
   ],
   "source": [
    "fashion_mnist"
   ]
  },
  {
   "cell_type": "code",
   "execution_count": 0,
   "metadata": {
    "colab": {},
    "colab_type": "code",
    "id": "HoZBpF9gVgir"
   },
   "outputs": [],
   "source": [
    "class_names = ['T-shirt/top', 'Trouser', 'Pullover', 'Dress', 'Coat',\n",
    "               'Sandal', 'Shirt', 'Sneaker', 'Bag', 'Ankle boot']\n",
    "trainX.shape\n",
    "\n",
    "## Reeshape\n",
    "nsamples, nx, ny = trainX.shape\n",
    "log_trainX = trainX.reshape((nsamples,nx*ny))\n",
    "\n",
    "test_samples, testx, testy = testX.shape\n",
    "log_testX = testX.reshape((test_samples,testx*testy))"
   ]
  },
  {
   "cell_type": "markdown",
   "metadata": {
    "colab_type": "text",
    "id": "I45_Kr-cVgiv"
   },
   "source": [
    "### Part a"
   ]
  },
  {
   "cell_type": "code",
   "execution_count": 113,
   "metadata": {
    "colab": {
     "base_uri": "https://localhost:8080/",
     "height": 251
    },
    "colab_type": "code",
    "id": "PC7dS8o1Vgiw",
    "outputId": "53c31555-cd64-412c-d477-62d4117cdddb"
   },
   "outputs": [
    {
     "data": {
      "image/png": "[encoded data removed]",
      "text/plain": [
       "<Figure size 720x720 with 10 Axes>"
      ]
     },
     "metadata": {
      "tags": []
     },
     "output_type": "display_data"
    }
   ],
   "source": [
    "plt.figure(figsize=(10,10))\n",
    "for i in range(10):\n",
    "    plt.subplot(5,5,i+1)\n",
    "    plt.xticks([])\n",
    "    plt.yticks([])\n",
    "    plt.grid(False)\n",
    "    plt.imshow(trainX[i], cmap=plt.cm.binary)\n",
    "    plt.xlabel(class_names[trainY[i]])\n",
    "plt.show()"
   ]
  },
  {
   "cell_type": "markdown",
   "metadata": {
    "colab_type": "text",
    "id": "VrD9Bu5lVgiz"
   },
   "source": [
    "### Part b\n",
    "\n",
    "#### 1) k-NN"
   ]
  },
  {
   "cell_type": "code",
   "execution_count": 0,
   "metadata": {
    "colab": {},
    "colab_type": "code",
    "id": "0S_b_B7WVgiz"
   },
   "outputs": [],
   "source": [
    "scores = []"
   ]
  },
  {
   "cell_type": "code",
   "execution_count": 115,
   "metadata": {
    "colab": {
     "base_uri": "https://localhost:8080/",
     "height": 102
    },
    "colab_type": "code",
    "id": "jdQT11z4Vgi2",
    "outputId": "d86b3e37-2023-4822-ed1d-e12054bb94dc"
   },
   "outputs": [
    {
     "name": "stdout",
     "output_type": "stream",
     "text": [
      "CPU times: user 10.5 s, sys: 79.6 ms, total: 10.5 s\n",
      "Wall time: 10.6 s\n"
     ]
    },
    {
     "data": {
      "text/plain": [
       "KNeighborsClassifier(algorithm='auto', leaf_size=30, metric='minkowski',\n",
       "                     metric_params=None, n_jobs=None, n_neighbors=4, p=2,\n",
       "                     weights='uniform')"
      ]
     },
     "execution_count": 115,
     "metadata": {
      "tags": []
     },
     "output_type": "execute_result"
    }
   ],
   "source": [
    "from sklearn.neighbors import KNeighborsClassifier\n",
    "neigh = KNeighborsClassifier(n_neighbors=4)\n",
    "%time neigh.fit(log_trainX, trainY)"
   ]
  },
  {
   "cell_type": "code",
   "execution_count": 116,
   "metadata": {
    "colab": {
     "base_uri": "https://localhost:8080/",
     "height": 595
    },
    "colab_type": "code",
    "id": "yDpo6SBiVgi6",
    "outputId": "96883e9b-1ba2-4f7e-e5a2-329b8e17614d"
   },
   "outputs": [
    {
     "name": "stdout",
     "output_type": "stream",
     "text": [
      "[9 2 1 ... 8 1 5]\n",
      "CPU times: user 13min 56s, sys: 45.8 ms, total: 13min 56s\n",
      "Wall time: 13min 56s\n",
      "Score is 0.8577\n",
      "Test and Prediction\n",
      "9\n",
      "9\n",
      "Test and Prediction\n",
      "2\n",
      "2\n",
      "Test and Prediction\n",
      "1\n",
      "1\n",
      "Test and Prediction\n",
      "1\n",
      "1\n",
      "Test and Prediction\n",
      "6\n",
      "6\n",
      "Test and Prediction\n",
      "1\n",
      "1\n",
      "Test and Prediction\n",
      "4\n",
      "4\n",
      "Test and Prediction\n",
      "6\n",
      "6\n",
      "Test and Prediction\n",
      "5\n",
      "5\n",
      "Test and Prediction\n",
      "7\n",
      "7\n"
     ]
    }
   ],
   "source": [
    "print(testY)\n",
    "%time predictions = neigh.predict(log_testX)\n",
    "score = neigh.score(log_testX, testY)\n",
    "print(\"Score is %s\" % (score))\n",
    "\n",
    "# Showing predictins for top 10 data sets\n",
    "for i in range(10):\n",
    "  print(\"Test and Prediction\")\n",
    "  print(testY[i])\n",
    "  print(predictions[i])"
   ]
  },
  {
   "cell_type": "code",
   "execution_count": 0,
   "metadata": {
    "colab": {},
    "colab_type": "code",
    "id": "PkG5lO3VVgi9"
   },
   "outputs": [],
   "source": [
    "scores.append(score)"
   ]
  },
  {
   "cell_type": "markdown",
   "metadata": {
    "colab_type": "text",
    "id": "u720-pgIVgi_"
   },
   "source": [
    "\n",
    "#### 2) Logistic Regression, "
   ]
  },
  {
   "cell_type": "code",
   "execution_count": 120,
   "metadata": {
    "colab": {
     "base_uri": "https://localhost:8080/",
     "height": 136
    },
    "colab_type": "code",
    "id": "OBrBRK2SVgi_",
    "outputId": "3290299a-e629-4cc1-970e-927540cd2a7a"
   },
   "outputs": [
    {
     "name": "stdout",
     "output_type": "stream",
     "text": [
      "CPU times: user 9.09 s, sys: 62 ms, total: 9.15 s\n",
      "Wall time: 9.16 s\n"
     ]
    },
    {
     "data": {
      "text/plain": [
       "LogisticRegression(C=0.001, class_weight=None, dual=False, fit_intercept=True,\n",
       "                   intercept_scaling=1, l1_ratio=None, max_iter=100,\n",
       "                   multi_class='auto', n_jobs=None, penalty='l2',\n",
       "                   random_state=None, solver='saga', tol=0.1, verbose=0,\n",
       "                   warm_start=False)"
      ]
     },
     "execution_count": 120,
     "metadata": {
      "tags": []
     },
     "output_type": "execute_result"
    }
   ],
   "source": [
    "from sklearn.linear_model import LogisticRegression\n",
    "\n",
    "logisticReg = LogisticRegression(penalty='l2',tol=0.1,solver='saga',C=0.001)\n",
    "%time logisticReg.fit(log_trainX, trainY)"
   ]
  },
  {
   "cell_type": "code",
   "execution_count": 121,
   "metadata": {
    "colab": {
     "base_uri": "https://localhost:8080/",
     "height": 68
    },
    "colab_type": "code",
    "id": "yBav-_b8VgjB",
    "outputId": "765d8714-042c-453a-9be4-4b3b1ca46a7a"
   },
   "outputs": [
    {
     "name": "stdout",
     "output_type": "stream",
     "text": [
      "CPU times: user 41.9 ms, sys: 13 ms, total: 54.9 ms\n",
      "Wall time: 37.2 ms\n",
      "0.8399\n"
     ]
    }
   ],
   "source": [
    "%time predictions = logisticReg.predict(log_testX)\n",
    "score = logisticReg.score(log_testX,testY)\n",
    "print(score)\n",
    "scores.append(score)"
   ]
  },
  {
   "cell_type": "code",
   "execution_count": 122,
   "metadata": {
    "colab": {
     "base_uri": "https://localhost:8080/",
     "height": 309
    },
    "colab_type": "code",
    "id": "RfkcK6X7VgjE",
    "outputId": "c260d4ba-542e-414c-985b-01c81dd42ed5"
   },
   "outputs": [
    {
     "data": {
      "image/png": "[encoded data removed]",
      "text/plain": [
       "<Figure size 720x360 with 10 Axes>"
      ]
     },
     "metadata": {
      "tags": []
     },
     "output_type": "display_data"
    }
   ],
   "source": [
    "def plot_weights(coef):\n",
    "    plt.figure(figsize=(10,5))\n",
    "    scale = np.abs(coef).max()\n",
    "    for i in range(10):\n",
    "        l2_plot = plt.subplot(2,5,i+1)\n",
    "        l2_plot.imshow(coef[i].reshape(28,28), vmin = -scale, vmax = scale, cmap=plt.cm.coolwarm)\n",
    "        l2_plot.set_xlabel('Class %s' % class_names[i])\n",
    "\n",
    "coef = logisticReg.coef_.copy()\n",
    "plot_weights(coef)"
   ]
  },
  {
   "cell_type": "markdown",
   "metadata": {
    "colab_type": "text",
    "id": "B-h34V2iVgjH"
   },
   "source": [
    "\n",
    "#### 3) Support Vector Machines"
   ]
  },
  {
   "cell_type": "markdown",
   "metadata": {
    "colab_type": "text",
    "id": "ckJZioJ6DdWp"
   },
   "source": [
    "**SVM** (linear)"
   ]
  },
  {
   "cell_type": "code",
   "execution_count": 131,
   "metadata": {
    "colab": {
     "base_uri": "https://localhost:8080/",
     "height": 173
    },
    "colab_type": "code",
    "id": "eTxZwHUHVgjH",
    "outputId": "45c1012a-a4e3-4a5e-c6d8-9015c3ba5008"
   },
   "outputs": [
    {
     "name": "stdout",
     "output_type": "stream",
     "text": [
      "CPU times: user 5min 20s, sys: 56 ms, total: 5min 20s\n",
      "Wall time: 5min 20s\n"
     ]
    },
    {
     "name": "stderr",
     "output_type": "stream",
     "text": [
      "/usr/local/lib/python3.6/dist-packages/sklearn/svm/_base.py:231: ConvergenceWarning: Solver terminated early (max_iter=1000).  Consider pre-processing your data with StandardScaler or MinMaxScaler.\n",
      "  % self.max_iter, ConvergenceWarning)\n"
     ]
    },
    {
     "data": {
      "text/plain": [
       "SVC(C=1.0, break_ties=False, cache_size=200, class_weight=None, coef0=0.0,\n",
       "    decision_function_shape='ovr', degree=3, gamma='auto', kernel='linear',\n",
       "    max_iter=1000, probability=False, random_state=None, shrinking=True,\n",
       "    tol=0.001, verbose=False)"
      ]
     },
     "execution_count": 131,
     "metadata": {
      "tags": []
     },
     "output_type": "execute_result"
    }
   ],
   "source": [
    "from sklearn.svm import SVC\n",
    "clf = SVC(kernel='linear',gamma='auto', max_iter=1000)\n",
    "%time clf.fit(log_trainX, trainY)"
   ]
  },
  {
   "cell_type": "code",
   "execution_count": 132,
   "metadata": {
    "colab": {
     "base_uri": "https://localhost:8080/",
     "height": 85
    },
    "colab_type": "code",
    "id": "E_3t_bFGVgjK",
    "outputId": "f14f30a0-13ae-4265-f85a-d38c8fa6e48d"
   },
   "outputs": [
    {
     "name": "stdout",
     "output_type": "stream",
     "text": [
      "[9 2 1 ... 8 1 5]\n",
      "CPU times: user 2min 20s, sys: 14 ms, total: 2min 20s\n",
      "Wall time: 2min 20s\n",
      "Score  0.6844\n"
     ]
    }
   ],
   "source": [
    "scores.append(clf.score(log_testX, testY))\n",
    "%time print(clf.predict(log_testX))\n",
    "print(\"Score \", clf.score(log_testX, testY))"
   ]
  },
  {
   "cell_type": "markdown",
   "metadata": {
    "colab_type": "text",
    "id": "orrB-TGvDWoj"
   },
   "source": [
    "**SVM** (Kernel RBF)"
   ]
  },
  {
   "cell_type": "code",
   "execution_count": 149,
   "metadata": {
    "colab": {
     "base_uri": "https://localhost:8080/",
     "height": 119
    },
    "colab_type": "code",
    "id": "QzA9VhC_DLem",
    "outputId": "58bf3730-1274-471d-c1a9-5e01bc318b81"
   },
   "outputs": [
    {
     "name": "stdout",
     "output_type": "stream",
     "text": [
      "CPU times: user 10min 54s, sys: 318 ms, total: 10min 55s\n",
      "Wall time: 10min 55s\n"
     ]
    },
    {
     "data": {
      "text/plain": [
       "SVC(C=1.0, break_ties=False, cache_size=200, class_weight=None, coef0=0.0,\n",
       "    decision_function_shape='ovr', degree=3, gamma='scale', kernel='rbf',\n",
       "    max_iter=-1, probability=False, random_state=None, shrinking=True,\n",
       "    tol=0.001, verbose=False)"
      ]
     },
     "execution_count": 149,
     "metadata": {
      "tags": []
     },
     "output_type": "execute_result"
    }
   ],
   "source": [
    "clf_rbf = SVC(kernel='rbf')\n",
    "%time clf_rbf.fit(log_trainX, trainY)"
   ]
  },
  {
   "cell_type": "code",
   "execution_count": 150,
   "metadata": {
    "colab": {
     "base_uri": "https://localhost:8080/",
     "height": 85
    },
    "colab_type": "code",
    "id": "QOosTISuVgjN",
    "outputId": "c30800e2-6a77-47ea-97b4-fc0213d7574c"
   },
   "outputs": [
    {
     "name": "stdout",
     "output_type": "stream",
     "text": [
      "[9 2 1 ... 8 1 5]\n",
      "CPU times: user 3min 55s, sys: 23 ms, total: 3min 55s\n",
      "Wall time: 3min 55s\n",
      "Score  0.8828\n"
     ]
    }
   ],
   "source": [
    "scores.append(clf_rbf.score(log_testX, testY))\n",
    "%time print(clf_rbf.predict(log_testX))\n",
    "\n",
    "print(\"Score \", clf_rbf.score(log_testX, testY))"
   ]
  },
  {
   "cell_type": "markdown",
   "metadata": {
    "colab_type": "text",
    "id": "Jx2WLZzTVgjP"
   },
   "source": [
    "### c) Best Train-Test performances (Score)"
   ]
  },
  {
   "cell_type": "code",
   "execution_count": 151,
   "metadata": {
    "colab": {
     "base_uri": "https://localhost:8080/",
     "height": 34
    },
    "colab_type": "code",
    "id": "FuXs7wpxVgjP",
    "outputId": "51b0a685-8553-4390-d890-19381dc6feb4"
   },
   "outputs": [
    {
     "name": "stdout",
     "output_type": "stream",
     "text": [
      "Best performance comes for 0.8828\n"
     ]
    }
   ],
   "source": [
    "print(\"Best performance comes for %s\" % (max(scores)))"
   ]
  },
  {
   "cell_type": "markdown",
   "metadata": {
    "colab_type": "text",
    "id": "OITdPxljVgjR"
   },
   "source": [
    "### d) Train and Test-running time and performance table"
   ]
  },
  {
   "cell_type": "code",
   "execution_count": 154,
   "metadata": {
    "colab": {
     "base_uri": "https://localhost:8080/",
     "height": 173
    },
    "colab_type": "code",
    "id": "lNjvfkxFVgjS",
    "outputId": "0284bdd5-253c-4cd0-a7c0-87df8961c4aa"
   },
   "outputs": [
    {
     "data": {
      "text/html": [
       "<div>\n",
       "<style scoped>\n",
       "    .dataframe tbody tr th:only-of-type {\n",
       "        vertical-align: middle;\n",
       "    }\n",
       "\n",
       "    .dataframe tbody tr th {\n",
       "        vertical-align: top;\n",
       "    }\n",
       "\n",
       "    .dataframe thead th {\n",
       "        text-align: right;\n",
       "    }\n",
       "</style>\n",
       "<table border=\"1\" class=\"dataframe\">\n",
       "  <thead>\n",
       "    <tr style=\"text-align: right;\">\n",
       "      <th></th>\n",
       "      <th>Training Time</th>\n",
       "      <th>Testing Time</th>\n",
       "      <th>Score</th>\n",
       "    </tr>\n",
       "  </thead>\n",
       "  <tbody>\n",
       "    <tr>\n",
       "      <th>KNN</th>\n",
       "      <td>10.6s</td>\n",
       "      <td>13min 56s</td>\n",
       "      <td>85.77</td>\n",
       "    </tr>\n",
       "    <tr>\n",
       "      <th>Logistic Regression</th>\n",
       "      <td>9.19s</td>\n",
       "      <td>37.2ms</td>\n",
       "      <td>83.99</td>\n",
       "    </tr>\n",
       "    <tr>\n",
       "      <th>SVM Linear</th>\n",
       "      <td>21min 56s</td>\n",
       "      <td>2min 20s</td>\n",
       "      <td>68.44</td>\n",
       "    </tr>\n",
       "    <tr>\n",
       "      <th>SVM RBF</th>\n",
       "      <td>5min 18s</td>\n",
       "      <td>3min 55s</td>\n",
       "      <td>88.28</td>\n",
       "    </tr>\n",
       "  </tbody>\n",
       "</table>\n",
       "</div>"
      ],
      "text/plain": [
       "                    Training Time Testing Time  Score\n",
       "KNN                         10.6s    13min 56s  85.77\n",
       "Logistic Regression         9.19s       37.2ms  83.99\n",
       "SVM Linear              21min 56s     2min 20s  68.44\n",
       "SVM RBF                  5min 18s     3min 55s  88.28"
      ]
     },
     "execution_count": 154,
     "metadata": {
      "tags": []
     },
     "output_type": "execute_result"
    }
   ],
   "source": [
    "df = pd.DataFrame(index=[\"KNN\",\"Logistic Regression\",\"SVM Linear\", \"SVM RBF\"], data={\"Training Time\": [\"10.6s\", \"9.19s\", \"21min 56s\", \"5min 18s\"],\"Testing Time\": [\"13min 56s\", \"37.2ms\", \"2min 20s\", \"3min 55s\"], \"Score\": [\"85.77\",\"83.99\",\"68.44\",\"88.28\"]})\n",
    "df"
   ]
  },
  {
   "cell_type": "markdown",
   "metadata": {
    "colab_type": "text",
    "id": "aSu_M8X9oYOu"
   },
   "source": [
    "Overall,\n",
    "1.  Logistic Regression has the best time for training and for testing.\n",
    "2.  SVM takes the most amount of time for training but lesser time for testing as compared to KNN.\n",
    "3.  KNN takes the largest time for testing.\n",
    "\n"
   ]
  },
  {
   "cell_type": "code",
   "execution_count": 0,
   "metadata": {
    "colab": {},
    "colab_type": "code",
    "id": "Yg917iTZpggq"
   },
   "outputs": [],
   "source": []
  }
 ],
 "metadata": {
  "accelerator": "GPU",
  "colab": {
   "collapsed_sections": [],
   "name": "Homework 4.ipynb",
   "provenance": []
  },
  "kernelspec": {
   "display_name": "Python 3",
   "language": "python",
   "name": "python3"
  },
  "language_info": {
   "codemirror_mode": {
    "name": "ipython",
    "version": 3
   },
   "file_extension": ".py",
   "mimetype": "text/x-python",
   "name": "python",
   "nbconvert_exporter": "python",
   "pygments_lexer": "ipython3",
   "version": "3.7.4"
  }
 },
 "nbformat": 4,
 "nbformat_minor": 1
}
