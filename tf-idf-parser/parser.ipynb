{
 "cells": [
  {
   "cell_type": "markdown",
   "metadata": {},
   "source": [
    "### Given set of text files we will try to find the cosine similarities of documents with a query document. For this demonstration, we will find the tf-idf values calculated for every word in the documents"
   ]
  },
  {
   "cell_type": "code",
   "execution_count": 1,
   "metadata": {
    "pycharm": {
     "is_executing": false
    }
   },
   "outputs": [],
   "source": [
    "import os, glob, math, string\n",
    "import re\n",
    "import numpy as np"
   ]
  },
  {
   "cell_type": "code",
   "execution_count": 2,
   "metadata": {
    "pycharm": {
     "is_executing": false
    }
   },
   "outputs": [],
   "source": [
    "def getTFDict(document):\n",
    "    \"\"\"Returns a dictionary for each document whose keys are all the unique words in the document and whose values are their \n",
    "    corresponding tf.\"\"\"\n",
    "    tfDict={}\n",
    "    for word in document:\n",
    "        if word in tfDict:\n",
    "            tfDict[word] += 1\n",
    "        else:\n",
    "            tfDict[word] = 1\n",
    "    #Computes tf for each word           \n",
    "    for word in tfDict:\n",
    "        tfDict[word] = tfDict[word] / len(document)\n",
    "    return tfDict"
   ]
  },
  {
   "cell_type": "code",
   "execution_count": 3,
   "metadata": {
    "pycharm": {
     "is_executing": false
    }
   },
   "outputs": [],
   "source": [
    "def getCountDict(tfDict):\n",
    "    \"\"\" Returns a dictionary whose keys are all the unique words in\n",
    "    the dataset and whose values count the number of documents in which\n",
    "    the word appears.\n",
    "    \"\"\"\n",
    "    countDict = {}\n",
    "    # Run through each review's tf dictionary and increment countDict's (word, doc) pair\n",
    "    for review in tfDict:\n",
    "        for word in review:\n",
    "            if word in countDict:\n",
    "                countDict[word] += 1\n",
    "            else:\n",
    "                countDict[word] = 1\n",
    "    return countDict"
   ]
  },
  {
   "cell_type": "code",
   "execution_count": 4,
   "metadata": {
    "pycharm": {
     "is_executing": false
    }
   },
   "outputs": [],
   "source": [
    "def getIDFDict(data, countDict):\n",
    "    \"\"\" Returns a dictionary whose keys are all the unique words in the\n",
    "    dataset and whose values are their corresponding idf.\n",
    "    \"\"\"\n",
    "    idfDict = {}\n",
    "    for word in countDict:\n",
    "        idfDict[word] = math.log(len(data) / countDict[word])\n",
    "    return idfDict"
   ]
  },
  {
   "cell_type": "code",
   "execution_count": 5,
   "metadata": {
    "pycharm": {
     "is_executing": false
    }
   },
   "outputs": [],
   "source": [
    "def getDocumentTFIDFDict(tfDict, idfDict):\n",
    "    \"\"\" Returns a dictionary whose keys are all the unique words in the\n",
    "    document and whose values are their corresponding tfidf.\n",
    "    \"\"\"\n",
    "    documentTFIDFDict = {}\n",
    "    #For each word in the document, we multiply its tf and its idf.\n",
    "    for word in tfDict:\n",
    "        documentTFIDFDict[word] = round(tfDict[word] * idfDict[word], 4)\n",
    "    return documentTFIDFDict"
   ]
  },
  {
   "cell_type": "code",
   "execution_count": 6,
   "metadata": {
    "pycharm": {
     "is_executing": false
    }
   },
   "outputs": [],
   "source": [
    "def getTFIDFVector(document, wordDict):\n",
    "    tfidfVector = [0] * len(wordDict)\n",
    "    # For each unique word, if it is in the document, store its TF-IDF value.\n",
    "    for i, word in enumerate(wordDict):\n",
    "          if word in document:\n",
    "                tfidfVector[i] = document[word]\n",
    "    return tfidfVector"
   ]
  },
  {
   "cell_type": "code",
   "execution_count": 7,
   "metadata": {
    "pycharm": {
     "is_executing": false
    }
   },
   "outputs": [],
   "source": [
    "def removeQueryDoc(file):\n",
    "    return file!=query"
   ]
  },
  {
   "cell_type": "markdown",
   "metadata": {},
   "source": [
    "`query` is the name of the file which has the query document. "
   ]
  },
  {
   "cell_type": "code",
   "execution_count": 8,
   "metadata": {
    "pycharm": {
     "is_executing": false
    }
   },
   "outputs": [],
   "source": [
    "query = 'd_query.txt'"
   ]
  },
  {
   "cell_type": "markdown",
   "metadata": {},
   "source": [
    "### Cleaning data and computing tf and idf dictionaries"
   ]
  },
  {
   "cell_type": "code",
   "execution_count": 9,
   "metadata": {
    "pycharm": {
     "is_executing": false
    }
   },
   "outputs": [],
   "source": [
    "documents = filter(removeQueryDoc, glob.glob(\"*.txt\"))\n",
    "\n",
    "# list of list of all words in a document\n",
    "data=[]\n",
    "\n",
    "#Storing the tf dict of every document in a list\n",
    "tfDict = []\n",
    "\n",
    "# storing the count of every word in all documents in a dict\n",
    "countDict = {}\n",
    "\n",
    "# storing the idf value of every word in the documents\n",
    "idfDict = {}\n",
    "\n",
    "# cleaning and data preparation\n",
    "for file in glob.glob(\"*.txt\"):\n",
    "    f=open(file,'r')\n",
    "    contents = f.read()\n",
    "    data_row=[]\n",
    "    contents = re.sub('[^a-zA-Z0-9 +]', '', contents)\n",
    "    for word in contents.split():\n",
    "        data_row.append(word.lower())\n",
    "    data.append(data_row)\n",
    "    documentTFDict = getTFDict(data_row)\n",
    "    # calculate the tf Map\n",
    "    tfDict.append(documentTFDict)\n",
    "\n",
    "# calculate the idf Map of all the words in the documents\n",
    "countDict = getCountDict(tfDict)\n",
    "\n",
    "# find the idfCountMap of the dataset\n",
    "idfDict = getIDFDict(data, countDict)\n"
   ]
  },
  {
   "cell_type": "markdown",
   "metadata": {},
   "source": [
    "### c) Computing tf-idf values for each word in every document as well as the query, printing them as vectors"
   ]
  },
  {
   "cell_type": "code",
   "execution_count": 10,
   "metadata": {
    "pycharm": {
     "is_executing": false
    }
   },
   "outputs": [
    {
     "name": "stdout",
     "text": [
      "For file d_query.txt\n[0, 0, 0, 0, 0, 0, 0, 0, 0, 0, 0, 0, 0, 0, 0, 0, 0, 0, 0, 0, 0, 0, 0, 0, 0, 0, 0, 0, 0, 0, 0, 0, 0, 0, 0, 0, 0, 0, 0, 0, 0, 0, 0, 0, 0, 0, 0, 0, 0, 0, 0, 0, 0, 0, 0, 0, 0, 0, 0, 0, 0, 0, 0, 0, 0, 0, 0, 0, 0, 0, 0, 0, 0, 0, 0, 0, 0, 0, 0, 0, 0, 0, 0, 0, 0, 0, 0, 0, 0, 0, 0, 0, 0, 0, 0, 0, 0, 0, 0, 0, 0, 0, 0, 0, 0, 0, 0, 0, 0, 0, 0, 0, 0, 0, 0, 0, 0, 0, 0, 0, 0, 0, 0, 0, 0, 0, 0, 0, 0, 0, 0.3662, 0, 0, 0, 0, 0, 0, 0, 0, 0, 0, 0, 0, 0, 0, 0, 0, 0, 0, 0, 0, 0, 0, 0, 0, 0, 0, 0, 0, 0, 0, 0, 0, 0, 0, 0, 0, 0, 0, 0, 0, 0, 0, 0, 0, 0, 0, 0, 0, 0, 0, 0, 0, 0, 0, 0, 0, 0, 0, 0, 0, 0, 0, 0, 0, 0, 0, 0, 0, 0, 0, 0, 0, 0, 0, 0, 0, 0, 0, 0, 0, 0, 0, 0, 0, 0, 0, 0, 0, 0, 0, 0, 0, 0, 0, 0, 0, 0, 0, 0, 0, 0, 0, 0, 0, 0, 0, 0, 0, 0, 0, 0, 0, 0, 0, 0, 0, 0, 0, 0, 0, 0, 0, 0, 0, 0, 0, 0, 0, 0, 0, 0, 0, 0, 0, 0, 0, 0, 0, 0, 0, 0, 0, 0, 0, 0, 0, 0, 0.0, 0, 0, 0, 0, 0, 0, 0, 0, 0, 0, 0, 0, 0, 0, 0, 0, 0, 0, 0, 0, 0, 0, 0, 0, 0, 0, 0, 0, 0, 0, 0, 0, 0, 0, 0, 0, 0, 0, 0, 0, 0, 0, 0, 0, 0, 0, 0.5973, 0, 0, 0, 0, 0, 0, 0, 0, 0, 0, 0, 0, 0, 0, 0, 0, 0, 0, 0, 0, 0, 0, 0, 0, 0, 0, 0, 0, 0, 0, 0, 0, 0, 0, 0, 0, 0, 0, 0, 0, 0, 0, 0, 0, 0, 0, 0, 0, 0, 0, 0, 0, 0, 0, 0, 0, 0, 0, 0, 0, 0, 0, 0, 0, 0, 0, 0, 0, 0, 0, 0, 0, 0, 0, 0, 0, 0, 0, 0, 0, 0, 0, 0, 0, 0, 0, 0, 0, 0, 0, 0, 0, 0, 0, 0, 0, 0, 0, 0, 0, 0, 0, 0, 0, 0, 0, 0, 0, 0, 0, 0, 0, 0, 0, 0, 0, 0, 0, 0, 0, 0, 0, 0, 0, 0, 0, 0, 0, 0, 0, 0, 0, 0, 0, 0, 0, 0, 0, 0, 0, 0, 0, 0, 0, 0, 0, 0, 0, 0, 0, 0, 0, 0, 0, 0, 0, 0, 0, 0, 0, 0, 0, 0, 0, 0, 0, 0, 0, 0, 0, 0, 0, 0, 0, 0, 0, 0, 0, 0, 0, 0, 0, 0, 0, 0, 0, 0, 0, 0, 0, 0, 0, 0, 0, 0, 0, 0, 0, 0, 0, 0, 0, 0, 0, 0, 0, 0, 0, 0, 0, 0, 0, 0, 0, 0, 0, 0, 0, 0, 0, 0, 0, 0, 0, 0, 0, 0, 0, 0, 0, 0, 0, 0, 0, 0, 0, 0, 0, 0, 0, 0, 0, 0, 0, 0]\nFor file d4.txt\n[0, 0, 0, 0, 0, 0, 0, 0, 0, 0, 0, 0, 0.0068, 0, 0, 0, 0, 0, 0, 0, 0, 0, 0.0068, 0, 0, 0, 0, 0, 0.0042, 0, 0, 0, 0, 0.0068, 0, 0, 0, 0.0026, 0.0068, 0.0136, 0.0136, 0.0068, 0, 0, 0.0068, 0, 0.0042, 0, 0, 0, 0.0076, 0, 0, 0, 0, 0, 0, 0, 0, 0, 0.0132, 0, 0.0046, 0, 0, 0.0015, 0, 0, 0, 0, 0, 0, 0, 0, 0, 0.0136, 0, 0, 0, 0, 0, 0.0068, 0, 0.0068, 0, 0, 0, 0.0068, 0.0068, 0.0068, 0.0068, 0.0136, 0, 0, 0, 0, 0, 0.0136, 0, 0, 0.0042, 0.0068, 0, 0.0053, 0.0015, 0, 0, 0, 0.0068, 0.0084, 0, 0, 0, 0, 0.0068, 0, 0.0068, 0.0068, 0, 0.0068, 0.0068, 0, 0, 0, 0, 0, 0, 0.0068, 0, 0, 0.0418, 0.0136, 0, 0, 0, 0, 0, 0, 0, 0, 0, 0, 0.0042, 0, 0, 0, 0, 0, 0, 0, 0.0068, 0, 0, 0, 0.0068, 0.0068, 0, 0, 0, 0, 0, 0, 0, 0, 0, 0, 0, 0, 0.0068, 0, 0, 0, 0, 0.0136, 0.0068, 0, 0, 0, 0.0068, 0, 0, 0.0068, 0.0042, 0, 0, 0, 0, 0, 0, 0, 0, 0, 0, 0, 0, 0.0273, 0, 0, 0, 0, 0, 0.0068, 0, 0, 0, 0, 0.0068, 0, 0.0136, 0, 0, 0, 0, 0.0136, 0.0068, 0.0068, 0.0015, 0, 0, 0, 0.0079, 0, 0, 0.0068, 0, 0, 0, 0.0068, 0, 0, 0, 0, 0, 0, 0.0068, 0, 0, 0, 0.0042, 0, 0.0068, 0.0068, 0, 0, 0, 0.0068, 0, 0.0042, 0, 0, 0.0068, 0.0068, 0, 0.0068, 0, 0, 0, 0, 0, 0, 0, 0, 0, 0.0068, 0.0062, 0, 0, 0.0084, 0, 0.0062, 0, 0.0026, 0, 0, 0, 0, 0.0068, 0, 0.0, 0, 0, 0, 0, 0.0068, 0, 0.0068, 0, 0, 0, 0.0084, 0.0026, 0.0068, 0, 0, 0, 0, 0, 0, 0.0068, 0, 0, 0.0068, 0, 0, 0, 0, 0, 0, 0, 0, 0, 0, 0, 0, 0, 0, 0, 0, 0, 0, 0, 0, 0.0068, 0, 0.0068, 0, 0.0068, 0, 0, 0, 0, 0, 0, 0, 0, 0, 0, 0, 0, 0, 0, 0.0068, 0, 0.0042, 0.0068, 0, 0.0028, 0.0042, 0, 0, 0.0068, 0.0204, 0, 0.0007, 0, 0.0026, 0.0068, 0, 0.0209, 0, 0, 0, 0.0068, 0, 0, 0, 0, 0, 0, 0, 0, 0.0068, 0.0068, 0, 0.0068, 0.0068, 0, 0, 0, 0, 0, 0, 0, 0.0068, 0, 0, 0, 0, 0, 0, 0, 0, 0, 0, 0.0068, 0, 0, 0, 0, 0.0068, 0.0068, 0.0042, 0.0068, 0.0068, 0, 0, 0, 0, 0.0068, 0.0068, 0.0068, 0, 0.0068, 0, 0, 0, 0.0068, 0, 0.0136, 0, 0, 0.0068, 0, 0, 0, 0, 0, 0, 0, 0, 0.0068, 0, 0, 0, 0, 0.0068, 0.0068, 0, 0, 0, 0, 0, 0.0068, 0, 0.0068, 0, 0, 0, 0, 0, 0, 0, 0, 0, 0, 0, 0, 0, 0, 0, 0, 0, 0, 0, 0, 0.0068, 0, 0.0068, 0.0136, 0, 0, 0, 0, 0, 0, 0.0068, 0.0068, 0, 0, 0, 0, 0, 0.0042, 0.0068, 0.0068, 0.0068, 0.0042, 0, 0, 0, 0, 0, 0.0068, 0, 0.0136, 0, 0, 0.0068, 0, 0, 0.0042, 0.0042, 0.0083, 0.0209, 0, 0.0042, 0, 0.0015, 0.0273, 0.0068, 0, 0.0068, 0, 0, 0.0055, 0, 0, 0, 0.0068, 0.0068, 0, 0, 0, 0, 0, 0.0068, 0, 0.0068, 0, 0, 0, 0, 0, 0, 0.0042, 0, 0, 0, 0.0068, 0.0068, 0, 0.0068, 0, 0, 0, 0, 0, 0.0068, 0, 0, 0.0026, 0, 0.0068, 0, 0.0031, 0.0042, 0, 0, 0.0014, 0, 0, 0, 0, 0, 0, 0, 0, 0.0068, 0.0068, 0, 0]\nFor file d5.txt\n[0, 0, 0, 0, 0, 0, 0, 0, 0, 0, 0, 0, 0, 0.008, 0.0049, 0, 0, 0.008, 0, 0, 0, 0, 0, 0, 0, 0, 0, 0.008, 0.0024, 0, 0, 0, 0, 0, 0.008, 0, 0, 0, 0, 0, 0, 0, 0, 0.008, 0, 0, 0.0049, 0.008, 0, 0, 0.0049, 0, 0.008, 0.008, 0.008, 0.008, 0.016, 0, 0, 0.008, 0.0031, 0, 0.0109, 0, 0, 0.0018, 0, 0, 0, 0, 0, 0, 0, 0, 0, 0, 0, 0, 0.0049, 0, 0, 0, 0, 0, 0, 0, 0, 0, 0, 0, 0, 0, 0, 0, 0, 0, 0, 0, 0.008, 0, 0, 0, 0, 0.0031, 0.0054, 0.016, 0.008, 0.008, 0, 0.0098, 0, 0, 0, 0, 0, 0, 0, 0, 0, 0, 0, 0, 0, 0.008, 0.008, 0.008, 0.008, 0, 0, 0.008, 0, 0, 0, 0, 0, 0, 0.008, 0.016, 0.016, 0.008, 0, 0.008, 0.0049, 0.016, 0, 0.008, 0, 0, 0, 0, 0, 0, 0.0049, 0.008, 0, 0, 0, 0, 0, 0, 0, 0, 0, 0, 0.008, 0, 0.008, 0.008, 0, 0.016, 0.016, 0, 0, 0, 0, 0, 0, 0, 0, 0, 0, 0, 0, 0, 0, 0, 0, 0, 0, 0.008, 0, 0, 0, 0, 0, 0, 0, 0, 0, 0.008, 0, 0, 0.008, 0.008, 0, 0, 0, 0, 0, 0, 0, 0, 0, 0, 0, 0, 0.0072, 0, 0, 0, 0.0031, 0, 0, 0, 0, 0.0049, 0.008, 0, 0, 0, 0, 0, 0, 0.024, 0, 0, 0.008, 0, 0, 0, 0, 0, 0, 0, 0, 0, 0.0098, 0.0098, 0, 0, 0, 0, 0, 0, 0, 0, 0, 0, 0, 0.008, 0, 0.016, 0.008, 0, 0.0024, 0, 0, 0, 0.008, 0.0072, 0, 0, 0.0062, 0.016, 0, 0.0049, 0, 0, 0.0, 0, 0, 0.008, 0, 0, 0, 0, 0, 0.0098, 0.0049, 0, 0, 0, 0.008, 0, 0, 0.016, 0.008, 0.008, 0, 0, 0, 0, 0.008, 0, 0.008, 0.008, 0, 0, 0, 0, 0, 0, 0, 0.008, 0.008, 0, 0, 0, 0.016, 0, 0, 0.0049, 0, 0, 0, 0, 0, 0.0062, 0, 0, 0.0049, 0, 0, 0, 0, 0, 0.008, 0, 0, 0, 0, 0, 0, 0, 0, 0.008, 0.0081, 0, 0, 0, 0, 0, 0, 0.0016, 0.008, 0.0031, 0, 0, 0, 0.008, 0, 0, 0, 0.008, 0.016, 0, 0, 0.008, 0, 0, 0, 0, 0, 0, 0, 0, 0, 0.008, 0, 0, 0, 0, 0, 0, 0, 0, 0.008, 0.008, 0, 0.008, 0.008, 0, 0, 0, 0, 0.008, 0, 0, 0, 0, 0, 0.0049, 0, 0, 0.016, 0.008, 0, 0.008, 0, 0, 0, 0, 0, 0, 0, 0.008, 0, 0.008, 0, 0.008, 0, 0, 0.016, 0.008, 0, 0, 0.008, 0, 0, 0, 0, 0, 0, 0, 0, 0, 0, 0, 0, 0.024, 0, 0, 0, 0, 0, 0, 0, 0, 0, 0, 0, 0, 0, 0, 0, 0, 0, 0, 0, 0, 0, 0, 0.008, 0, 0, 0, 0, 0, 0, 0, 0, 0, 0, 0.008, 0.008, 0, 0, 0, 0, 0.008, 0, 0, 0, 0, 0, 0, 0.0049, 0, 0, 0, 0.04, 0, 0, 0.008, 0, 0.008, 0, 0, 0.016, 0, 0.0049, 0.0196, 0.0057, 0, 0.008, 0, 0, 0.0018, 0, 0, 0, 0, 0, 0, 0.0024, 0, 0, 0, 0, 0, 0, 0, 0, 0, 0, 0, 0, 0, 0.008, 0, 0.0098, 0, 0, 0, 0, 0, 0, 0.008, 0, 0, 0, 0, 0, 0.016, 0, 0, 0.0018, 0, 0.008, 0, 0.0031, 0, 0, 0, 0.0018, 0, 0, 0, 0.0016, 0, 0.008, 0, 0.008, 0, 0, 0.008, 0, 0, 0, 0, 0]\nFor file d1.txt\n[0, 0.0101, 0, 0, 0, 0, 0, 0, 0, 0, 0, 0, 0, 0, 0, 0, 0, 0, 0, 0, 0, 0, 0, 0, 0, 0.0101, 0.0101, 0, 0.0031, 0.0101, 0, 0, 0, 0, 0, 0, 0, 0, 0, 0, 0, 0, 0, 0, 0, 0.0101, 0, 0, 0, 0.0123, 0.0051, 0, 0, 0, 0, 0, 0, 0, 0, 0, 0.0117, 0, 0.0046, 0, 0, 0, 0, 0, 0, 0, 0, 0, 0, 0, 0, 0, 0, 0, 0, 0, 0, 0, 0.0101, 0, 0, 0.0101, 0, 0, 0, 0, 0, 0, 0, 0, 0, 0, 0, 0, 0, 0, 0, 0, 0, 0, 0, 0, 0, 0, 0, 0, 0.0101, 0, 0, 0, 0, 0.0062, 0, 0, 0.0101, 0, 0, 0, 0.0101, 0, 0, 0, 0, 0, 0, 0, 0, 0, 0.0101, 0, 0, 0, 0, 0, 0, 0, 0, 0, 0, 0, 0, 0, 0, 0, 0, 0, 0, 0, 0.0062, 0, 0, 0, 0, 0, 0, 0.0101, 0, 0, 0, 0, 0, 0, 0, 0, 0, 0, 0, 0, 0, 0, 0, 0, 0.0101, 0, 0, 0.0101, 0, 0, 0.0062, 0, 0, 0, 0.0101, 0.0101, 0.0101, 0, 0.0101, 0, 0, 0, 0.0101, 0, 0.0101, 0, 0, 0, 0, 0, 0, 0, 0.0101, 0, 0, 0.0101, 0, 0, 0, 0, 0, 0, 0, 0, 0, 0, 0.0101, 0, 0, 0, 0.0101, 0, 0, 0, 0, 0, 0, 0, 0, 0, 0, 0, 0, 0, 0, 0, 0, 0, 0, 0, 0, 0, 0, 0, 0.0062, 0, 0, 0, 0, 0, 0, 0, 0.0101, 0.0101, 0, 0.0062, 0, 0, 0, 0, 0, 0, 0.0031, 0.0101, 0.0403, 0.0247, 0, 0.0159, 0.0101, 0.0195, 0.0078, 0, 0.0101, 0, 0, 0, 0.0, 0, 0.0201, 0, 0, 0, 0, 0, 0, 0.0185, 0.0062, 0, 0.0078, 0, 0, 0, 0, 0, 0, 0, 0, 0.0101, 0.0062, 0, 0, 0, 0, 0, 0.0101, 0.0062, 0, 0.0101, 0, 0, 0, 0, 0, 0, 0, 0, 0, 0, 0, 0.0123, 0, 0.0101, 0, 0, 0, 0.0117, 0.0101, 0.0101, 0.0062, 0.0101, 0, 0, 0.0101, 0, 0, 0, 0, 0, 0, 0, 0, 0, 0, 0, 0.0154, 0, 0, 0.0062, 0, 0, 0, 0.0051, 0, 0, 0, 0, 0.0062, 0, 0, 0, 0, 0, 0, 0, 0, 0, 0, 0, 0.0062, 0, 0, 0, 0, 0, 0, 0, 0.0123, 0.0101, 0, 0, 0, 0, 0, 0.0101, 0, 0, 0, 0, 0, 0.0201, 0.0101, 0, 0, 0, 0.0101, 0, 0, 0, 0, 0, 0, 0, 0, 0, 0, 0, 0, 0, 0, 0, 0, 0, 0, 0, 0, 0, 0, 0, 0, 0, 0, 0, 0.0101, 0, 0, 0.0101, 0, 0.0101, 0, 0, 0, 0, 0, 0, 0, 0, 0, 0, 0, 0, 0, 0, 0, 0, 0, 0, 0.0039, 0, 0, 0, 0, 0, 0, 0, 0, 0, 0, 0, 0, 0, 0, 0, 0, 0, 0, 0, 0, 0, 0, 0, 0.0101, 0, 0, 0, 0, 0.0101, 0.0101, 0, 0, 0, 0, 0, 0, 0, 0, 0, 0.0101, 0, 0, 0.0101, 0, 0, 0, 0, 0, 0, 0, 0, 0, 0, 0.0184, 0.0062, 0, 0, 0, 0.0023, 0, 0, 0.0101, 0, 0.0101, 0, 0.001, 0.0101, 0, 0, 0, 0, 0, 0, 0, 0, 0, 0, 0, 0, 0, 0, 0, 0, 0, 0, 0, 0, 0, 0, 0, 0, 0, 0, 0, 0, 0.0201, 0, 0.0023, 0, 0, 0, 0, 0.0101, 0, 0, 0, 0.0062, 0.0101, 0, 0.001, 0, 0, 0, 0, 0.0101, 0, 0, 0, 0, 0, 0, 0]\nFor file d2.txt\n[0.0085, 0, 0.0085, 0.0085, 0, 0, 0, 0, 0, 0, 0, 0, 0, 0, 0.0052, 0.0085, 0.0085, 0, 0, 0.0085, 0, 0.0085, 0, 0, 0, 0, 0, 0, 0.0043, 0, 0.0085, 0.017, 0.0085, 0, 0, 0, 0.017, 0.0066, 0, 0, 0, 0, 0, 0, 0, 0, 0, 0, 0, 0.0104, 0.0017, 0.0085, 0, 0, 0, 0, 0, 0.0085, 0, 0, 0, 0.0085, 0, 0, 0.0085, 0.0019, 0.0085, 0, 0, 0, 0, 0.0085, 0.0085, 0.0085, 0.0085, 0, 0, 0, 0, 0.0085, 0.0052, 0, 0, 0, 0, 0, 0, 0, 0, 0, 0, 0, 0, 0.0085, 0, 0, 0.0085, 0, 0, 0.0085, 0, 0, 0, 0, 0.0019, 0, 0, 0, 0, 0, 0, 0, 0, 0.0085, 0, 0.0052, 0, 0, 0, 0, 0, 0, 0, 0, 0, 0, 0, 0, 0, 0, 0, 0, 0, 0, 0, 0, 0, 0, 0, 0, 0, 0, 0, 0, 0.0085, 0, 0.0085, 0, 0, 0.0085, 0, 0.0085, 0, 0, 0, 0, 0, 0, 0, 0, 0.0085, 0, 0, 0, 0, 0, 0, 0, 0, 0, 0, 0, 0, 0, 0, 0.017, 0, 0.0085, 0, 0, 0.0052, 0, 0, 0, 0.017, 0, 0, 0, 0, 0, 0, 0, 0, 0, 0, 0, 0, 0.0085, 0, 0, 0, 0, 0, 0, 0, 0, 0, 0, 0, 0, 0, 0, 0, 0, 0, 0, 0.0019, 0.0085, 0, 0, 0, 0.0085, 0, 0, 0, 0.0052, 0, 0, 0.017, 0.0085, 0.0085, 0.0085, 0, 0, 0, 0.0085, 0, 0, 0.0052, 0.017, 0, 0, 0, 0.0052, 0, 0, 0, 0, 0, 0, 0, 0, 0, 0, 0, 0, 0, 0, 0, 0, 0, 0, 0, 0, 0.0078, 0, 0, 0, 0, 0.0115, 0, 0, 0.0066, 0, 0, 0, 0, 0, 0.0, 0.0085, 0, 0, 0.0085, 0, 0, 0, 0, 0, 0, 0.0052, 0.0033, 0, 0, 0.0085, 0.0085, 0, 0, 0, 0, 0, 0.0104, 0, 0, 0.0052, 0, 0, 0, 0.0052, 0.0085, 0, 0, 0, 0, 0, 0, 0, 0, 0, 0, 0.0085, 0.034, 0, 0, 0, 0, 0, 0, 0.0033, 0, 0, 0, 0, 0, 0, 0, 0, 0, 0, 0, 0, 0, 0, 0.0085, 0, 0, 0, 0.0121, 0, 0.0085, 0.0052, 0, 0, 0, 0.0017, 0, 0, 0, 0, 0, 0, 0, 0.0085, 0, 0, 0, 0.034, 0.017, 0, 0, 0.0085, 0, 0, 0, 0, 0, 0, 0, 0, 0.0052, 0, 0, 0, 0, 0, 0, 0, 0, 0, 0.0085, 0, 0, 0, 0, 0, 0, 0, 0, 0.0085, 0, 0, 0, 0, 0, 0, 0, 0, 0, 0, 0, 0, 0, 0.0085, 0, 0.0085, 0, 0, 0, 0, 0, 0, 0.0085, 0, 0, 0, 0, 0.0085, 0, 0, 0, 0, 0, 0, 0, 0, 0, 0, 0, 0, 0.0085, 0, 0.0085, 0.0085, 0, 0.0085, 0, 0, 0, 0.0052, 0.0033, 0.0085, 0.0085, 0, 0, 0, 0.0085, 0, 0, 0.0085, 0, 0, 0.0085, 0, 0, 0.0085, 0.0085, 0, 0, 0, 0, 0.051, 0.0085, 0, 0, 0, 0, 0, 0, 0, 0, 0, 0, 0, 0, 0, 0, 0, 0, 0, 0, 0, 0, 0, 0, 0, 0, 0, 0, 0, 0, 0, 0, 0, 0.0181, 0, 0, 0, 0.0052, 0.0019, 0, 0, 0, 0, 0, 0.0085, 0.0035, 0, 0, 0.034, 0, 0, 0, 0, 0, 0.0255, 0.0085, 0, 0, 0, 0, 0.0085, 0, 0, 0, 0, 0, 0, 0.0085, 0, 0, 0, 0, 0, 0, 0, 0, 0.0156, 0.0019, 0, 0, 0, 0.0033, 0, 0, 0, 0.0019, 0, 0, 0, 0.0009, 0.017, 0, 0, 0, 0, 0.0085, 0, 0, 0, 0, 0, 0.0085]\nFor file d3.txt\n[0, 0, 0, 0, 0.0114, 0.0057, 0.0114, 0.0057, 0.0057, 0.0057, 0.0057, 0.0057, 0, 0, 0, 0, 0, 0, 0.0057, 0, 0.0057, 0, 0, 0.0057, 0.0057, 0, 0, 0, 0.0029, 0, 0, 0, 0, 0, 0, 0.0057, 0, 0.0044, 0, 0, 0, 0, 0.0114, 0, 0, 0, 0, 0, 0.0114, 0, 0.007, 0, 0, 0, 0, 0, 0, 0, 0.0057, 0, 0, 0, 0.0013, 0.0057, 0, 0.0078, 0, 0.0057, 0.0057, 0.0114, 0.0057, 0, 0, 0, 0, 0, 0.0057, 0.0057, 0.0035, 0, 0.0035, 0, 0, 0, 0.0057, 0, 0.0057, 0, 0, 0, 0, 0, 0.0057, 0, 0.0057, 0.0057, 0, 0, 0, 0, 0.0035, 0, 0.0057, 0.0022, 0.0026, 0, 0, 0, 0, 0, 0, 0.0172, 0.0057, 0, 0, 0, 0, 0, 0, 0, 0, 0.0057, 0, 0, 0, 0, 0, 0, 0.0057, 0, 0, 0, 0, 0.0114, 0.0057, 0.0057, 0, 0, 0, 0, 0.0057, 0, 0, 0, 0, 0, 0, 0.0057, 0.0057, 0, 0, 0, 0, 0, 0, 0, 0.0057, 0.0057, 0.0114, 0, 0, 0.0057, 0.0057, 0.0057, 0, 0.0057, 0, 0, 0, 0, 0, 0.0057, 0.0057, 0, 0, 0, 0, 0, 0, 0, 0.0035, 0, 0, 0.0057, 0, 0.0057, 0, 0, 0, 0, 0, 0.0114, 0.0057, 0.0057, 0, 0, 0, 0, 0.0057, 0, 0.0057, 0, 0, 0, 0, 0.0057, 0, 0, 0, 0.0057, 0.0057, 0.0057, 0.0057, 0, 0, 0, 0.0039, 0, 0, 0.0172, 0.0066, 0, 0, 0, 0.0057, 0, 0, 0, 0, 0, 0, 0, 0.0057, 0, 0, 0, 0, 0.0057, 0, 0, 0, 0, 0.0057, 0.0105, 0.0057, 0, 0, 0, 0.0057, 0.0057, 0, 0, 0.0114, 0, 0, 0, 0.0114, 0.0035, 0.0057, 0, 0.0057, 0, 0, 0, 0.007, 0, 0, 0, 0, 0, 0, 0.0022, 0, 0, 0, 0.0035, 0, 0.0057, 0.0, 0, 0, 0, 0, 0, 0.0057, 0, 0.0057, 0, 0, 0, 0, 0, 0, 0, 0, 0, 0, 0, 0, 0, 0, 0, 0, 0.0035, 0, 0, 0, 0, 0, 0, 0.0057, 0.0057, 0.0057, 0, 0, 0.0172, 0.0057, 0.0057, 0, 0, 0, 0, 0, 0, 0, 0, 0, 0, 0, 0, 0, 0, 0.0057, 0.0057, 0, 0.0057, 0, 0.0114, 0.0172, 0.0057, 0.0057, 0, 0, 0.0035, 0, 0, 0.0064, 0.007, 0, 0, 0, 0, 0.0057, 0.0006, 0, 0.0022, 0, 0.0057, 0, 0, 0.0114, 0, 0, 0, 0, 0, 0, 0, 0.0057, 0, 0.0035, 0, 0, 0.0057, 0, 0, 0.0057, 0, 0, 0, 0.0057, 0.0114, 0.0057, 0, 0.0057, 0, 0, 0, 0, 0, 0, 0, 0, 0.0057, 0, 0, 0, 0, 0.0057, 0, 0, 0, 0, 0, 0, 0, 0.0057, 0, 0, 0, 0, 0, 0, 0, 0.0057, 0, 0, 0, 0, 0, 0, 0, 0, 0, 0, 0, 0, 0, 0.0057, 0, 0, 0.0114, 0.0057, 0.0057, 0.0057, 0, 0, 0.0057, 0, 0, 0, 0, 0, 0, 0, 0.0114, 0.0057, 0.0035, 0.0044, 0, 0, 0.0057, 0.0057, 0.0057, 0, 0.0057, 0.0286, 0, 0.0057, 0.0057, 0, 0.0057, 0, 0, 0, 0, 0.0057, 0, 0, 0, 0, 0.0057, 0, 0, 0, 0, 0, 0, 0, 0, 0.0172, 0.0057, 0.0035, 0, 0, 0, 0, 0.0057, 0, 0.0057, 0, 0, 0, 0, 0, 0, 0.0057, 0, 0, 0.0057, 0, 0, 0.014, 0, 0, 0.0035, 0.0035, 0, 0, 0, 0, 0, 0, 0, 0.0052, 0, 0.0057, 0, 0, 0, 0.0057, 0.0057, 0.0057, 0, 0, 0, 0.0057, 0, 0, 0, 0.0105, 0.0057, 0.0172, 0.0057, 0.0105, 0.0057, 0, 0, 0, 0, 0.0057, 0, 0.0057, 0, 0, 0.007, 0.0091, 0, 0, 0.0057, 0, 0, 0, 0.0114, 0.0013, 0, 0, 0.0114, 0.0012, 0, 0, 0.0057, 0, 0, 0, 0, 0.0057, 0, 0, 0.0057, 0]\n"
     ],
     "output_type": "stream"
    }
   ],
   "source": [
    "wordDict = sorted(countDict.keys())\n",
    "# computing vector for query document\n",
    "\n",
    "# a) convert words into vectors\n",
    "tfidfVector={}\n",
    "# b) iterating over every tfDict of each document\n",
    "\n",
    "for i,file in enumerate(glob.glob(\"*.txt\")):\n",
    "    #calculate the TFIDF Dict\n",
    "    documentTFDict = getDocumentTFIDFDict(tfDict[i], idfDict)\n",
    "    tfidfVector[file] = getTFIDFVector(documentTFDict, wordDict)"
   ]
  },
  {
   "cell_type": "markdown",
   "metadata": {},
   "source": [
    "### c) Printing Similarity of every document with query"
   ]
  },
  {
   "cell_type": "code",
   "execution_count": 11,
   "metadata": {
    "pycharm": {
     "is_executing": false
    }
   },
   "outputs": [
    {
     "name": "stdout",
     "text": [
      "Similarity of Query Document and d4.txt is 0.01530716\nSimilarity of Query Document and d5.txt is 0.0\nSimilarity of Query Document and d1.txt is 0.0\nSimilarity of Query Document and d2.txt is 0.0\nSimilarity of Query Document and d3.txt is 0.0\n"
     ],
     "output_type": "stream"
    }
   ],
   "source": [
    "# part c)\n",
    "similarities = []\n",
    "for i,file in enumerate(documents):\n",
    "    review_similarity = np.dot(tfidfVector[query], tfidfVector[file])\n",
    "    similarities.append(review_similarity)\n",
    "    print(\"Similarity of Query Document and \"+ str(file) + \" is \" + str(review_similarity))"
   ]
  },
  {
   "cell_type": "markdown",
   "metadata": {},
   "source": [
    "### Highest Similarity is for d4.txt"
   ]
  },
  {
   "cell_type": "code",
   "execution_count": 12,
   "metadata": {
    "pycharm": {
     "is_executing": false
    }
   },
   "outputs": [
    {
     "name": "stdout",
     "text": [
      "0.01530716\n"
     ],
     "output_type": "stream"
    }
   ],
   "source": [
    "print(max(similarities))"
   ]
  },
  {
   "cell_type": "markdown",
   "metadata": {},
   "source": [
    "## Using sklearn vectorizer\n",
    "\n",
    "Note: We get 0 for the query term 'java coffee mocha' (d_query.txt) with all documents except for `d4.txt` as the term 'java' is present in all \n",
    "the documents and we negate its overall precedence assuming its behavior like a stop word. However we see that the \n",
    "vectorizer from sklearn we still get some similarity values of the query document\n",
    "with the others."
   ]
  },
  {
   "cell_type": "code",
   "execution_count": 13,
   "metadata": {
    "pycharm": {
     "is_executing": false
    }
   },
   "outputs": [],
   "source": [
    "from sklearn.feature_extraction.text import TfidfVectorizer\n",
    "import glob, re\n",
    "tfidf_vectorizer = TfidfVectorizer()\n",
    "\n",
    "# list of list of all words in a document\n",
    "data=[]\n",
    "\n",
    "# cleaning and data preparation\n",
    "for file in glob.glob(\"*.txt\"):\n",
    "    f=open(file,'r')\n",
    "    contents = f.read()\n",
    "    contents = re.sub('[^a-zA-Z0-9 +]', '', contents)\n",
    "    data.append(contents.lower())"
   ]
  },
  {
   "cell_type": "code",
   "execution_count": 14,
   "metadata": {
    "pycharm": {
     "is_executing": false
    }
   },
   "outputs": [],
   "source": [
    "from sklearn.metrics.pairwise import cosine_similarity\n",
    "import math"
   ]
  },
  {
   "cell_type": "code",
   "execution_count": 15,
   "metadata": {
    "pycharm": {
     "is_executing": false
    }
   },
   "outputs": [
    {
     "name": "stdout",
     "text": [
      "For file d4.txt and the query document, the cosine similarity is 0.28\nFor file d5.txt and the query document, the cosine similarity is 0.09\nFor file d1.txt and the query document, the cosine similarity is 0.06\nFor file d2.txt and the query document, the cosine similarity is 0.03\nFor file d3.txt and the query document, the cosine similarity is 0.03\n"
     ],
     "output_type": "stream"
    }
   ],
   "source": [
    "documents = filter(removeQueryDoc, glob.glob(\"*.txt\"))\n",
    "tfidf_matrix = tfidf_vectorizer.fit_transform(data)\n",
    "\n",
    "for i,file in enumerate(documents):\n",
    "    print(\"For file \"+ file + \" and the query document, the cosine similarity is {0:.2f}\".format(cosine_similarity(tfidf_matrix[0:1], tfidf_matrix)[0][i+1])) "
   ]
  },
  {
   "cell_type": "code",
   "execution_count": 15,
   "metadata": {
    "pycharm": {
     "is_executing": false
    }
   },
   "outputs": [],
   "source": []
  }
 ],
 "metadata": {
  "kernelspec": {
   "display_name": "Python 3",
   "language": "python",
   "name": "python3"
  },
  "language_info": {
   "codemirror_mode": {
    "name": "ipython",
    "version": 3
   },
   "file_extension": ".py",
   "mimetype": "text/x-python",
   "name": "python",
   "nbconvert_exporter": "python",
   "pygments_lexer": "ipython3",
   "version": "3.7.3"
  },
  "pycharm": {
   "stem_cell": {
    "cell_type": "raw",
    "source": [],
    "metadata": {
     "collapsed": false
    }
   }
  }
 },
 "nbformat": 4,
 "nbformat_minor": 4
}