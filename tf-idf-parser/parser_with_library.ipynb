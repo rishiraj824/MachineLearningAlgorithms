{
 "cells": [
  {
   "cell_type": "code",
   "execution_count": 6,
   "metadata": {
    "scrolled": true
   },
   "outputs": [
    {
     "name": "stdout",
     "output_type": "stream",
     "text": [
      "d_query.txt\n",
      "java coffee mocha\n",
      "d4.txt\n",
      "java coffee refers to coffee beans produced in the indonesian island of java  the indonesian phrase kopi java refers not only to the origin of the coffee but is used to distinguish a style of strong black and very sweet coffee  in some countries java can refer to coffee in generalthe coffee is primarily grown on large estates that were built by the dutch in the 18th century the five largest estates are blawan also spelled belawan or blauan jampit or djampit pancoer or pancur kayumas and tugosari and they cover more than 4000 hectaresthese estates transport ripe cherries quickly to their mills after harvest the pulp is then fermented and washed off using the wet process with rigorous quality control this results in coffee with good heavy body and a sweet overall impression they are sometimes rustic in their flavor profiles but display a lasting finish at their best they are smooth and supple and sometimes have a subtle herbaceous note in the aftertastethis coffee is prized as one component in the traditional mocca java blend which pairs coffee from yemen and java certain estates age a portion of their coffee for up to five years normally in large burlap sacks which are regularly aired dusted and flipped as they age the beans turn from green to light brown and their flavor gains strength while losing acidity aged coffees can display flavors ranging from cedar to spices such as cinnamon or clove and often develop a thick almost syrupy body these aged coffees are called old government old brown or old java\n",
      "d5.txt\n",
      "java is a generalpurpose computer programming language that is concurrent classbased objectoriented and specifically designed to have as few implementation dependencies as possible it is intended to let application developers write once run anywhere wora meaning that compiled java code can run on all platforms that support java without the need for recompilationjava applications are typically compiled to bytecode that can run on any java virtual machine jvm regardless of computer architecture as of 2016 java is one of the most popular programming languages in use particularly for clientserver web applications with a reported 9 million developers java was originally developed by james gosling at sun microsystems which has since been acquired by oracle corporation and released in 1995 as a core component of sun microsystems java platform the language derives much of its syntax from c and c++ but it has fewer lowlevel facilities than either of themthe original and reference implementation java compilers virtual machines and class libraries were originally released by sun under proprietary licenses as of may 2007 in compliance with the specifications of the java community process sun relicensed most of its java technologies under the gnu general public license others have also developed alternative implementations of these sun technologies such as the gnu compiler for java bytecode compiler gnu classpath standard libraries and icedteaweb browser plugin for applets\n",
      "d1.txt\n",
      "java is an island of indonesia  with a population of over 141 million java is home to 567 percent of the indonesian population and is the most populous island on earth  the indonesian capital city jakarta is located on western java  much of indonesian history took place on java  it was the center of powerful hindubuddhist empires the islamic sultanates and the core of the colonial dutch east indiesformed mostly as the result of volcanic eruptions java is the thirteenth largest island in the world and the fifth largest in indonesia a chain of volcanic mountains forms an eastwest spine along the island three main languages are spoken on the island javanese sundanese and madurese of these javanese is the dominant it is the native language of about 60 million people in indonesia most of whom live on java furthermore most residents are bilingual speaking indonesian the official language of indonesia as their first or second language while the majority of the people of java are muslim java has a diverse mixture of religious beliefs ethnicities and cultures\n",
      "d2.txt\n",
      "java is a town of approximately 1500 people in georgia in south ossetia according to georgias current official administrative division java is a main town of java district in the north of shida kartli region according to the south ossetian side dzau is an administrative center of dzau district the town is situated on the southern slopes of the greater caucasus within the greater liakhvi gorge 1040 m 3412 ft above sea leveljava is the second largest urban settlement in south ossetia after tskhinvali it is located outside the organization for security and cooperation in europedefined boundaries of the georgianossetian conflict zone  an area within a 15km radius of tskhinvalithe town played a major role in the 2008 south ossetia war with most of the south ossetian military forces being located there at the time of the georgian offensive during the battle of tskhinvali the government of south ossetia relocated to javageorgia had accused the russian military of building a large military base in java before the war these concerns were brought by the president of georgia mikheil saakashvili to the attention of the un general assembly on september 26 2007 after the war russia announced it was constructing military bases in java and tskhinvali which would be ready in 2010\n",
      "d3.txt\n",
      "uss java was a woodenhulled sailing frigate in the united states navy bearing 44 guns she was named for the american victory over hms java off the coast of brazil on 29 december 1812 captured by the constitution under the command of captain william bainbridge hms java had suffered severe damage during the engagement and being far from home port was ordered burnedjava was built at baltimore maryland in 1814 and 1815 by flannigan and parsons not completed until after the end of the war of 1812 java captain oliver hazard perry in command got underway from baltimore 5 august 1815 picked up spare rigging at hampton roads and new york and sailed to newport rhode island to fill out her crew ordered to the mediterranean to serve in the second barbary war the new frigate departed from newport 22 january 1816 in the face of a bitter gale at sea one of her masts snapped with ten men upon the yards killing fivejava was off algiers in april where perry went ashore under a flag of truce and persuaded the dey of algiers to honor the treaty which he had signed the previous summer but had been ignoring next she sailed for tripoli with constellation ontario and erie to show the strength and resolve of the united states then after a cruise in the mediterranean stopping at syracuse messina palermo tunis gibraltar and naples the frigate returned to newport early in 1817 and was laid up at boston massachusettsjava returned to active service in 1827 under captain william m crane for a second deployment in the mediterranean there she protected american citizens and commerce and performed diplomatic duties toward the end of the cruise she served as flagship of commodore james biddleafter returning to the united states in 1831 java became receiving ship at norfolk where she was broken up in 1842\n"
     ]
    }
   ],
   "source": [
    "from sklearn.feature_extraction.text import TfidfVectorizer\n",
    "import glob, re\n",
    "tfidf_vectorizer = TfidfVectorizer()\n",
    "\n",
    "# list of list of all words in a document\n",
    "data=[]\n",
    "\n",
    "# cleaning and data preparation\n",
    "for file in glob.glob(\"*.txt\"):\n",
    "    f=open(file,'r')\n",
    "    contents = f.read()\n",
    "    contents = re.sub('[^a-zA-Z0-9 +]', '', contents)\n",
    "    print(file)\n",
    "    print(contents.lower())\n",
    "    data.append(contents.lower())\n"
   ]
  },
  {
   "cell_type": "code",
   "execution_count": 8,
   "metadata": {},
   "outputs": [
    {
     "name": "stdout",
     "output_type": "stream",
     "text": [
      "[[1.         0.27582717 0.08754324 0.06305697 0.03452302 0.02876725]]\n",
      "73.98868576231051\n"
     ]
    }
   ],
   "source": [
    "tfidf_matrix = tfidf_vectorizer.fit_transform(data)\n",
    "\n",
    "for file in glob.glob(\"*.txt\"):\n",
    "    \n",
    "from sklearn.metrics.pairwise import cosine_similarity\n",
    "print(cosine_similarity(tfidf_matrix[0:1], tfidf_matrix))\n",
    "\n",
    "import math\n",
    "cos_sim = cosine_similarity(tfidf_matrix[0:1], tfidf_matrix)[0][1]\n",
    "angle_in_radians = math.acos(cos_sim)\n",
    "print(math.degrees(angle_in_radians))"
   ]
  },
  {
   "cell_type": "code",
   "execution_count": null,
   "metadata": {},
   "outputs": [],
   "source": []
  },
  {
   "cell_type": "code",
   "execution_count": null,
   "metadata": {},
   "outputs": [],
   "source": []
  }
 ],
 "metadata": {
  "kernelspec": {
   "display_name": "Python 3",
   "language": "python",
   "name": "python3"
  },
  "language_info": {
   "codemirror_mode": {
    "name": "ipython",
    "version": 3
   },
   "file_extension": ".py",
   "mimetype": "text/x-python",
   "name": "python",
   "nbconvert_exporter": "python",
   "pygments_lexer": "ipython3",
   "version": "3.7.3"
  }
 },
 "nbformat": 4,
 "nbformat_minor": 4
}
