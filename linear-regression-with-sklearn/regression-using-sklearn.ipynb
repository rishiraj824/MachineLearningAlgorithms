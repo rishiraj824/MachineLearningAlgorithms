{
 "cells": [
  {
   "cell_type": "markdown",
   "metadata": {
    "collapsed": true,
    "pycharm": {
     "name": "#%% md\n"
    }
   },
   "source": [
    "The following notebook demonstrated simple test train split and from a \n",
    "given dataset and then a validation of the model on the test \n",
    "dataset."
   ]
  },
  {
   "cell_type": "code",
   "execution_count": null,
   "outputs": [],
   "source": [
    "import pandas as pd\n",
    "import numpy as np\n",
    "import matplotlib.pyplot as plt\n",
    "from sklearn import linear_model\n",
    "from sklearn.metrics import mean_squared_error, r2_score\n"
   ],
   "metadata": {
    "collapsed": false,
    "pycharm": {
     "name": "#%%\n"
    }
   }
  },
  {
   "cell_type": "code",
   "execution_count": null,
   "outputs": [],
   "source": [
    "names =[\n",
    "'t', # Time (secs)\n",
    "'q1', 'q2', 'q3', # Joint angle\n",
    "'dq1', 'dq2', 'dq3', # Joint velocity\n",
    "'I1', 'I2', 'I3', # Motor current (A)\n",
    "'eps21', 'eps22', 'eps31', 'eps32', # Strain measurements\n",
    "'ddq1', 'ddq2', 'ddq3' # Joint accelerations\n",
    "]\n",
    "df = pd.read_csv('exp_train.csv', header=None,sep=',', names=names, index_col=0)\n",
    "df.dropna()\n",
    "print(df[['q2','dq2','eps21', 'eps22', 'eps31','eps32','ddq2']])\n",
    "X=np.array(df[['q2','dq2','eps21', 'eps22', 'eps31','eps32','ddq2']])\n",
    "y=np.array(df[['I2']])\n",
    "\n"
   ],
   "metadata": {
    "collapsed": false,
    "pycharm": {
     "name": "#%%\n"
    }
   }
  },
  {
   "cell_type": "code",
   "execution_count": null,
   "outputs": [],
   "source": [
    "# Create linear regression object\n",
    "regr = linear_model.LinearRegression()"
   ],
   "metadata": {
    "collapsed": false,
    "pycharm": {
     "name": "#%%\n"
    }
   }
  },
  {
   "cell_type": "code",
   "execution_count": null,
   "outputs": [],
   "source": [
    "# Train the model using the training sets\n",
    "regr.fit(X, y)"
   ],
   "metadata": {
    "collapsed": false,
    "pycharm": {
     "name": "#%%\n"
    }
   }
  },
  {
   "cell_type": "code",
   "execution_count": null,
   "outputs": [],
   "source": [
    "y_pred = regr.predict(X)\n"
   ],
   "metadata": {
    "collapsed": false,
    "pycharm": {
     "name": "#%%\n"
    }
   }
  },
  {
   "cell_type": "code",
   "execution_count": null,
   "outputs": [],
   "source": [
    "print(\"MSE Score {0:.5f}\".format(mean_squared_error(y,y_pred)))\n",
    "print(\"R2 score {0:.5f}\".format(r2_score(y, y_pred)))\n",
    "print(\"Coeffecient\")\n",
    "print(regr.coef_)"
   ],
   "metadata": {
    "collapsed": false,
    "pycharm": {
     "name": "#%%\n"
    }
   }
  },
  {
   "cell_type": "markdown",
   "source": [
    "### Verification"
   ],
   "metadata": {
    "collapsed": false
   }
  },
  {
   "cell_type": "code",
   "execution_count": null,
   "outputs": [],
   "source": [
    "\n",
    "df_test = pd.read_csv('exp_test.csv', header=None,sep=',',\n",
    "names=names, index_col=0)\n",
    "df_test.dropna()\n",
    "X_test=np.array(df_test[['q2','dq2','eps21', 'eps22', 'eps31','eps32','ddq2']])\n",
    "y_test=np.array(df_test[['I2']])\n",
    "\n",
    "y_test_pred = regr.predict(X_test)\n",
    "\n",
    "print(\"MSE Score {0:.5f}\".format(mean_squared_error(y_test, y_test_pred)))\n",
    "print(\"R2 Score {0:.5f}\".format(r2_score(y_test, y_test_pred)))\n",
    "print(\"Coeffecient\")\n",
    "print(regr.coef_)"
   ],
   "metadata": {
    "collapsed": false,
    "pycharm": {
     "name": "#%%\n"
    }
   }
  },
  {
   "cell_type": "code",
   "execution_count": null,
   "outputs": [],
   "source": [
    "regr.predict(np.array(X_test))"
   ],
   "metadata": {
    "collapsed": false,
    "pycharm": {
     "name": "#%%\n"
    }
   }
  }
 ],
 "metadata": {
  "kernelspec": {
   "display_name": "Python 3",
   "language": "python",
   "name": "python3"
  },
  "language_info": {
   "codemirror_mode": {
    "name": "ipython",
    "version": 2
   },
   "file_extension": ".py",
   "mimetype": "text/x-python",
   "name": "python",
   "nbconvert_exporter": "python",
   "pygments_lexer": "ipython2",
   "version": "2.7.6"
  },
  "pycharm": {
   "stem_cell": {
    "cell_type": "raw",
    "source": [],
    "metadata": {
     "collapsed": false
    }
   }
  }
 },
 "nbformat": 4,
 "nbformat_minor": 0
}